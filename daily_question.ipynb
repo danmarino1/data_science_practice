{
 "cells": [
  {
   "cell_type": "markdown",
   "metadata": {},
   "source": [
    "# Practicing Data Science through HackerRank"
   ]
  },
  {
   "cell_type": "code",
   "execution_count": 1,
   "metadata": {},
   "outputs": [],
   "source": [
    "import pandas as pd\n",
    "import numpy as np\n",
    "import datetime as dt\n",
    "\n"
   ]
  },
  {
   "attachments": {},
   "cell_type": "markdown",
   "metadata": {},
   "source": [
    "Given the names and grades for each student in a class of  students, store them in a nested list and print the name(s) of any student(s) having the second lowest grade.\n",
    "Note: If there are multiple students with the second lowest grade, order their names alphabetically and print each name on a new line.\n",
    "Example \n",
    "\n",
    "The ordered list of scores is , so the second lowest score is . There are two students with that score: . Ordered alphabetically, the names are printed as:\n",
    "alpha\n",
    "beta\n",
    "Input Format\n",
    "The first line contains an integer, , the number of students. \n",
    "The  subsequent lines describe each student over  lines. \n",
    "- The first line contains a student's name. \n",
    "- The second line contains their grade.\n",
    "Constraints\n",
    "\n",
    "There will always be one or more students having the second lowest grade.\n",
    "Output Format\n",
    "Print the name(s) of any student(s) having the second lowest grade in. If there are multiple students, order their names alphabetically and print each one on a new line.\n",
    "Sample Input 0\n",
    "5\n",
    "Harry\n",
    "37.21\n",
    "Berry\n",
    "37.21\n",
    "Tina\n",
    "37.2\n",
    "Akriti\n",
    "41\n",
    "Harsh\n",
    "39\n",
    "Sample Output 0\n",
    "Berry\n",
    "Harry\n",
    "Explanation 0\n",
    "There are  students in this class whose names and grades are assembled to build the following list:\n",
    "python students = [['Harry', 37.21], ['Berry', 37.21], ['Tina', 37.2], ['Akriti', 41], ['Harsh', 39]]\n",
    "The lowest grade of  belongs to Tina. The second lowest grade of  belongs to both Harry and Berry, so we order their names alphabetically and print each name on a new line."
   ]
  },
  {
   "cell_type": "markdown",
   "metadata": {},
   "source": [
    "my submission"
   ]
  },
  {
   "cell_type": "code",
   "execution_count": null,
   "metadata": {},
   "outputs": [],
   "source": [
    "if __name__ == '__main__':\n",
    "    class_info = []\n",
    "    for student in range(int(input())):\n",
    "        name = input()\n",
    "        score = float(input())\n",
    "        \n",
    "        student_info = [name, score]\n",
    "        class_info.append(student_info)\n",
    "        \n",
    "    #print(class_info)\n",
    "    \n",
    "    scores = [i[1] for i in class_info]\n",
    "    names = [i[0] for i in class_info]\n",
    "    sorted_scores = sorted(scores)\n",
    "    second_highest_score = sorted_scores[1]\n",
    "    \n",
    "    second_lowest_student_names = []\n",
    "    for i in class_info:\n",
    "        student_score = i[1]\n",
    "        if student_score == second_highest_score:\n",
    "            second_lowest_student_names.append(i[0])\n",
    "    for student in sorted(second_lowest_student_names):\n",
    "        print(student)"
   ]
  },
  {
   "cell_type": "markdown",
   "metadata": {},
   "source": [
    "others' submissions"
   ]
  },
  {
   "cell_type": "code",
   "execution_count": 1,
   "metadata": {},
   "outputs": [],
   "source": [
    "# score = [i[1] for i in records]\n",
    "# lowest = min(score)\n",
    "# while lowest in score:\n",
    "#     score.remove(lowest)\n",
    "\n",
    "# rem_marks = score\n",
    "\n",
    "# second_lowest = min(rem_marks)\n",
    "\n",
    "# second_lowest_names = [i[0] for i in records if i[1] == second_lowest]\n",
    "# second_lowest_names.sort()\n",
    "# for i in second_lowest_names:\n",
    "#     print(i)"
   ]
  },
  {
   "attachments": {},
   "cell_type": "markdown",
   "metadata": {},
   "source": [
    "The while loop gets rid of multiple lowests in case there are multiple. this is a good approach\n",
    "\n",
    "the rem_marks this scientist defines is not necessary. The second_lowest gives us a number, which is good.\n",
    "\n",
    "The list comprehension here helps greatly for readability and speed\n",
    "\n",
    "Overall this scientist's code takes a more concise approach and is very insightful"
   ]
  },
  {
   "cell_type": "code",
   "execution_count": null,
   "metadata": {},
   "outputs": [],
   "source": []
  },
  {
   "attachments": {},
   "cell_type": "markdown",
   "metadata": {},
   "source": [
    "Let's learn about list comprehensions!\n",
    "You are given three integers  and  representing the dimensions of a cuboid along with an integer.\n",
    "Print a list of all possible coordinates given by  on a 3D grid where the sum of the list is not equal to N.\n",
    "\n",
    "Please use list comprehensions rather than multiple loops, as a learning exercise.\n",
    "Example \n",
    " \n",
    " \n",
    " \n",
    "\n",
    "All permutations of  are: \n",
    ".\n",
    "Print an array of the elements that do not sum to .\n",
    "\n",
    "Input Format\n",
    "Four integers  and , each on a separate line.\n",
    "Constraints\n",
    "Print the list in lexicographic increasing order.\n",
    "Sample Input 0\n",
    "1\n",
    "1\n",
    "1\n",
    "2\n",
    "Sample Output 0\n",
    "[[0, 0, 0], [0, 0, 1], [0, 1, 0], [1, 0, 0], [1, 1, 1]]\n",
    "Explanation 0\n",
    "Each variable  and  will have values of  or . All permutations of lists in the form . \n",
    "Remove all arrays that sum to  to leave only the valid permutations.\n",
    "Sample Input 1\n",
    "2\n",
    "2\n",
    "2\n",
    "2\n",
    "Sample Output 1\n",
    "[[0, 0, 0], [0, 0, 1], [0, 1, 0], [0, 1, 2], [0, 2, 1], [0, 2, 2], [1, 0, 0], [1, 0, 2], [1, 1, 1], [1, 1, 2], [1, 2, 0], [1, 2, 1], [1, 2, 2], [2, 0, 1], [2, 0, 2], [2, 1, 0], [2, 1, 1], [2, 1, 2], [2, 2, 0], [2, 2, 1], [2, 2, 2]]"
   ]
  },
  {
   "cell_type": "code",
   "execution_count": null,
   "metadata": {},
   "outputs": [],
   "source": [
    "if __name__ == '__main__':\n",
    "    x = int(input())\n",
    "    y = int(input())\n",
    "    z = int(input())\n",
    "    n = int(input())\n",
    "    \n",
    "    possibilities_x = [i for i in range(0,x+1)]\n",
    "    possibilities_y = [i for i in range(0,y+1)]\n",
    "    possibilities_z = [i for i in range(0,z+1)]\n",
    "    \n",
    "    \n",
    "    grand_list = []\n",
    "    for x in possibilities_x:\n",
    "        for y in possibilities_y:\n",
    "            for z in possibilities_z:\n",
    "                grand_list.append([x,y,z])\n",
    "                \n",
    "    \n",
    "    grand_list = [item for item in grand_list if sum(item) != n]\n",
    "    print(grand_list)\n"
   ]
  },
  {
   "cell_type": "markdown",
   "metadata": {},
   "source": [
    "others' code"
   ]
  },
  {
   "cell_type": "code",
   "execution_count": null,
   "metadata": {},
   "outputs": [],
   "source": [
    "# # Solution 1\n",
    "# x = int(input(\"\"))\n",
    "# y = int(input(\"\"))\n",
    "# z = int(input(\"\"))\n",
    "# n = int(input(\"\"))\n",
    "\n",
    "# values = [([value1,value2,value3]) for value1 in range (x+1) for value2 in range (y+1) for value3 in range (z+1) if (value1+value2+value3) != n ]\n",
    "# print(values)\n",
    "\n",
    "# #More readable code would be\n",
    "# # Solution 2\n",
    "\n",
    "# x = int(input(\"Enter the value of x: \"))\n",
    "# y = int(input(\"Enter the value of y: \"))\n",
    "# z = int(input(\"Enter the value of z: \"))\n",
    "# n = int(input(\"Enter the value of n: \"))\n",
    "\n",
    "\n",
    "# values = [[value1,value2,value3] for value1 in range (x+1) for value2 in range (y+1) for value3 in range (z+1) if (value1+value2+value3) != n ]\n",
    "# values_1 = [[value1,value2,value3] for value1 in range (x+1) for value2 in range (y+1) for value3 in range (z+1)]\n",
    "\n",
    "# print()\n",
    "# print(f\"(x,y,z) = ({x},{y},{z})\")\n",
    "# print(f\"Value of n is {n}\")\n",
    "# print(f\"\"\"\\nCombination of values are : {values_1}, \n",
    "# Values where sum is not equals to n: {values}.\"\"\")"
   ]
  },
  {
   "attachments": {},
   "cell_type": "markdown",
   "metadata": {},
   "source": [
    "The nesting of the list comprehension is definitely something worth looking at to understand more closely.\n"
   ]
  },
  {
   "attachments": {},
   "cell_type": "markdown",
   "metadata": {},
   "source": [
    "### Finding the runner up score from a list of {n} scores "
   ]
  },
  {
   "attachments": {},
   "cell_type": "markdown",
   "metadata": {},
   "source": [
    "if __name__ == '__main__':\n",
    "    n = int(input())\n",
    "    arr = map(int, input().split())\n",
    "    \n",
    "    our_list = list(arr)\n",
    "    our_list_sorted = sorted(our_list)\n",
    "    \n",
    "    max_num = our_list_sorted[-1]\n",
    "\n",
    "    for num in our_list_sorted[:]:\n",
    "        if num == max_num:\n",
    "            our_list_sorted.remove(num)\n",
    "    \n",
    "    print(our_list_sorted[-1])"
   ]
  },
  {
   "cell_type": "markdown",
   "metadata": {},
   "source": [
    "Others' answers:"
   ]
  },
  {
   "cell_type": "code",
   "execution_count": null,
   "metadata": {},
   "outputs": [],
   "source": [
    "# numbers = list(arr)\n",
    "\n",
    "# max_number = max(numbers)\n",
    "# while max_number in numbers:\n",
    "#     numbers.remove(max_number)\n",
    "\n",
    "# de_numbers = numbers\n",
    "# second_max_number = max(de_numbers)\n",
    "\n",
    "# print(second_max_number)"
   ]
  },
  {
   "attachments": {},
   "cell_type": "markdown",
   "metadata": {},
   "source": [
    "Similar approach to mine, but a bit more concise. It does obey the rules by getting rid of all max score instances."
   ]
  },
  {
   "cell_type": "code",
   "execution_count": null,
   "metadata": {},
   "outputs": [],
   "source": [
    "# arr_lst = list(arr)\n",
    "#     arr_lst2 = list(set(arr_lst))\n",
    "#     arr_lst2.sort(reverse=True)\n",
    "#     print(arr_lst2[1])"
   ]
  },
  {
   "attachments": {},
   "cell_type": "markdown",
   "metadata": {},
   "source": [
    "This approach is much cleaner than both above examples. Using a set, it gets rid of duplicates. Additionaly, the .sort(reverse=True) is concise and elegant."
   ]
  },
  {
   "attachments": {},
   "cell_type": "markdown",
   "metadata": {},
   "source": [
    "### Using a dict of student names and list of grades, for a given student, find the average grade, rounded to two decimal places"
   ]
  },
  {
   "attachments": {},
   "cell_type": "markdown",
   "metadata": {},
   "source": [
    "if __name__ == '__main__':\n",
    "    n = int(input())\n",
    "    student_marks = {}\n",
    "    for _ in range(n):\n",
    "        name, *line = input().split()\n",
    "        scores = list(map(float, line))\n",
    "        student_marks[name] = scores\n",
    "    query_name = input()\n",
    "    #My code below\n",
    "    grades = student_marks[query_name]\n",
    "    print(\"{:.2f}\".format(round((sum(grades) / len(grades)),2)))"
   ]
  },
  {
   "cell_type": "markdown",
   "metadata": {},
   "source": [
    "Others'"
   ]
  },
  {
   "cell_type": "code",
   "execution_count": null,
   "metadata": {},
   "outputs": [],
   "source": [
    "# query_name = input()\n",
    "# a=student_marks[query_name]\n",
    "# print(\"%.2f\"%(sum(a)/3))"
   ]
  },
  {
   "attachments": {},
   "cell_type": "markdown",
   "metadata": {},
   "source": [
    "the above scientists' code assumes there are 3 grades, which won't work for other examples"
   ]
  },
  {
   "attachments": {},
   "cell_type": "markdown",
   "metadata": {},
   "source": [
    "<!-- marks = student_marks[query_name]\n",
    "    avg_marks = sum(marks)/ len(marks)\n",
    "    print('{:.2f}'.format(avg_marks)) -->"
   ]
  },
  {
   "attachments": {},
   "cell_type": "markdown",
   "metadata": {},
   "source": [
    "Similar to my approach, but an extra line to define avg marks"
   ]
  },
  {
   "attachments": {},
   "cell_type": "markdown",
   "metadata": {},
   "source": [
    "## Consider a list (list = []). You can perform the following commands:\n",
    "- insert i e: Insert integer  at position .\n",
    "- print: Print the list.\n",
    "- remove e: Delete the first occurrence of integer .\n",
    "- append e: Insert integer  at the end of the list.\n",
    "- sort: Sort the list.\n",
    "- pop: Pop the last element from the list.\n",
    "- reverse: Reverse the list.\n",
    "\n",
    "\n",
    "Initialize your list and read in the value of N followed by N lines of commands where each command will be of the  types listed above. Iterate through each command in order and perform the corresponding operation on your list."
   ]
  },
  {
   "cell_type": "code",
   "execution_count": null,
   "metadata": {},
   "outputs": [],
   "source": [
    "if __name__ == '__main__':\n",
    "    N = int(input())\n",
    "    # Initialize an empty list\n",
    "    my_list = []\n",
    "\n",
    "\n",
    "    # Process n lines of commands\n",
    "    for _ in range(N):\n",
    "        command = input().split()\n",
    "\n",
    "        if command[0] == 'insert':\n",
    "            index = int(command[1])\n",
    "            value = int(command[2])\n",
    "            my_list.insert(index, value)\n",
    "\n",
    "        elif command[0] == 'print':\n",
    "            print(my_list)\n",
    "\n",
    "        elif command[0] == 'remove':\n",
    "            value = int(command[1])\n",
    "            my_list.remove(value)\n",
    "\n",
    "        elif command[0] == 'append':\n",
    "            value = int(command[1])\n",
    "            my_list.append(value)\n",
    "\n",
    "        elif command[0] == 'sort':\n",
    "            my_list.sort()\n",
    "\n",
    "        elif command[0] == 'pop':\n",
    "            my_list.pop()\n",
    "\n",
    "        elif command[0] == 'reverse':\n",
    "            my_list.reverse()"
   ]
  },
  {
   "cell_type": "markdown",
   "metadata": {},
   "source": [
    "I had absolutely no idea what this question was asking, so generative AI gave me my answer."
   ]
  },
  {
   "cell_type": "code",
   "execution_count": null,
   "metadata": {},
   "outputs": [],
   "source": [
    "if __name__ == \"__main__\":\n",
    "    the_list = []\n",
    "    number_of_input_lines = int(input())\n",
    "\n",
    "    for _ in range(number_of_input_lines):\n",
    "        tokens = input().split()\n",
    "\n",
    "        if tokens[0] == \"print\":\n",
    "            print(the_list)\n",
    "        else:\n",
    "            method = getattr(the_list, tokens[0])\n",
    "            args = [int(t) for t in tokens[1:]]\n",
    "            method(*args)"
   ]
  },
  {
   "attachments": {},
   "cell_type": "markdown",
   "metadata": {},
   "source": [
    "above is one of the more impressive snippets of code I saw to answer this question, as it utilizes args and getattr(), two tools I am not yet aquainted. This is great insight to how I can write better code."
   ]
  },
  {
   "attachments": {},
   "cell_type": "markdown",
   "metadata": {},
   "source": [
    "## Given a list of N numbers, return a hashed tuple"
   ]
  },
  {
   "cell_type": "code",
   "execution_count": null,
   "metadata": {},
   "outputs": [],
   "source": [
    "if __name__ == '__main__':\n",
    "    n = int(input())\n",
    "    integer_list = map(int, input().split())\n",
    "    \n",
    "    t = tuple(integer_list)\n",
    "    print(hash(t))"
   ]
  },
  {
   "attachments": {},
   "cell_type": "markdown",
   "metadata": {},
   "source": [
    "self explanatory"
   ]
  },
  {
   "attachments": {},
   "cell_type": "markdown",
   "metadata": {},
   "source": [
    "## Swapping the case of letters in a string."
   ]
  },
  {
   "cell_type": "code",
   "execution_count": null,
   "metadata": {},
   "outputs": [],
   "source": [
    "def swap_case(s):\n",
    "    new_string = []\n",
    "    for letter in s:\n",
    "        if letter == letter.lower():\n",
    "            new_string.append(letter.upper())\n",
    "        elif letter == letter.upper():\n",
    "            new_string.append(letter.lower())\n",
    "        else:\n",
    "            new_string.append(letter)\n",
    "            \n",
    "    return(''.join(new_string))"
   ]
  },
  {
   "cell_type": "markdown",
   "metadata": {},
   "source": [
    "Others' code"
   ]
  },
  {
   "cell_type": "code",
   "execution_count": null,
   "metadata": {},
   "outputs": [],
   "source": [
    "print ''.join([i.lower() if i.isupper() else i.upper() for i in raw_input()])"
   ]
  },
  {
   "cell_type": "code",
   "execution_count": 7,
   "metadata": {},
   "outputs": [
    {
     "name": "stdout",
     "output_type": "stream",
     "text": [
      "hACKErRANK Ye s 123\n"
     ]
    }
   ],
   "source": [
    "print(''.join([i.lower() if i.isupper() else i.upper() for i in 'HackeRrank yE S 123']))"
   ]
  },
  {
   "cell_type": "markdown",
   "metadata": {},
   "source": [
    "this code is the most concise and has the most upvotes"
   ]
  },
  {
   "cell_type": "code",
   "execution_count": 8,
   "metadata": {},
   "outputs": [],
   "source": [
    "def swap_case(s):   \n",
    "    return s.swapcase()"
   ]
  },
  {
   "cell_type": "markdown",
   "metadata": {},
   "source": [
    "I did not know this existed, and I'm glad I know now"
   ]
  },
  {
   "cell_type": "code",
   "execution_count": 9,
   "metadata": {},
   "outputs": [],
   "source": [
    "# Sorting a string"
   ]
  },
  {
   "cell_type": "code",
   "execution_count": null,
   "metadata": {},
   "outputs": [],
   "source": [
    "#mine was non-functional\n",
    "def custom_sort(string):\n",
    "    sorted_string = sorted(string, key=lambda x: (x.lower(), not x.isalpha(), x))\n",
    "    return ''.join(sorted_string)"
   ]
  },
  {
   "cell_type": "markdown",
   "metadata": {},
   "source": [
    "Others' examples "
   ]
  },
  {
   "cell_type": "code",
   "execution_count": null,
   "metadata": {},
   "outputs": [],
   "source": [
    "s = input()\n",
    "lowercase =\"\".join(sorted([i for i in s if i.islower()]))\n",
    "uppercase = \"\".join(sorted([i for i in s if i.isupper()]))\n",
    "even = \"\".join(sorted([i for i in s if i in \"02468\"]))\n",
    "odd = \"\".join(sorted([i for i in s if i in \"13579\"]))\n",
    "print(lowercase+uppercase+odd+even)"
   ]
  },
  {
   "attachments": {},
   "cell_type": "markdown",
   "metadata": {},
   "source": [
    "Different approach, but a good failsafe to have used before looking at submissions."
   ]
  },
  {
   "cell_type": "code",
   "execution_count": null,
   "metadata": {},
   "outputs": [],
   "source": [
    "s = input()\n",
    "sorted_string = sorted(s, key=lambda x: (x.isdigit(), x.isdigit() and int(x) % 2 == 0, x.isupper(), x.islower(), x))\n",
    "print(''.join(sorted_string))"
   ]
  },
  {
   "cell_type": "markdown",
   "metadata": {},
   "source": [
    "It looks like this example is similar to mine, but I likely misread the instructions."
   ]
  },
  {
   "attachments": {},
   "cell_type": "markdown",
   "metadata": {},
   "source": [
    "### Matrix {Hard Difficulty Setting}"
   ]
  },
  {
   "cell_type": "markdown",
   "metadata": {},
   "source": [
    "To decode the script, Neo needs to read each column and select only the alphanumeric characters and connect them. Neo reads the column from top to bottom and starts reading from the leftmost column.\n",
    "If there are symbols or spaces between two alphanumeric characters of the decoded script, then Neo replaces them with a single space '' for better readability.\n",
    "Neo feels that there is no need to use 'if' conditions for decoding.\n",
    "Alphanumeric characters consist of: [A-Z, a-z, and 0-9].\n",
    "\n",
    "Neo replaces the symbols or spaces between two alphanumeric characters with a single space   ' ' for better readability.\n"
   ]
  },
  {
   "cell_type": "code",
   "execution_count": null,
   "metadata": {},
   "outputs": [],
   "source": [
    "import re\n",
    "\n",
    "# Read the dimensions of the matrix\n",
    "rows, columns = map(int, input().split())\n",
    "\n",
    "# Read the matrix elements\n",
    "matrix = []\n",
    "for _ in range(rows):\n",
    "    matrix_item = input()\n",
    "    matrix.append(matrix_item)\n",
    "\n",
    "# Decode the script\n",
    "decoded_script = ''\n",
    "for i in range(columns):\n",
    "    for j in range(rows):\n",
    "        char = matrix[j][i]\n",
    "        decoded_script += char\n",
    "\n",
    "# Replace symbols or spaces between alphanumeric characters with a single space\n",
    "decoded_script = re.sub(r'(?<=[A-Za-z0-9])[!@#$%&]+(?=[A-Za-z0-9])', ' ', decoded_script)\n",
    "\n",
    "# Print the decoded script\n",
    "print(decoded_script)"
   ]
  },
  {
   "cell_type": "markdown",
   "metadata": {},
   "source": [
    "### Others' code"
   ]
  },
  {
   "cell_type": "code",
   "execution_count": null,
   "metadata": {},
   "outputs": [],
   "source": [
    "# import re\n",
    "\n",
    "# n, m = map(int, input().split())\n",
    "# a, b = [], \"\"\n",
    "# for _ in range(n):\n",
    "#     a.append(input())\n",
    "\n",
    "# for z in zip(*a):\n",
    "#     b += \"\".join(z)\n",
    "\n",
    "# print(re.sub(r\"(?<=\\w)([^\\w]+)(?=\\w)\", \" \", b))"
   ]
  },
  {
   "cell_type": "markdown",
   "metadata": {},
   "source": [
    "It looks like the use of keyword arguments made this a much more concise set of code"
   ]
  },
  {
   "cell_type": "code",
   "execution_count": null,
   "metadata": {},
   "outputs": [],
   "source": [
    "# # Get the text from matrix\n",
    "# text = [line[i] for i in range(m) for line in matrix]\n",
    "# text = ''.join(text)\n",
    "# # Find and replace\n",
    "# pattern = r'([A-Za-z0-9])[!@#$%&\\s]+(?=[A-Za-z0-9])'\n",
    "# text = re.sub(pattern,r'\\1 ', text)\n",
    "# print(text)"
   ]
  },
  {
   "attachments": {},
   "cell_type": "markdown",
   "metadata": {},
   "source": [
    "List comprehensions make this a great alternative as well!"
   ]
  },
  {
   "attachments": {},
   "cell_type": "markdown",
   "metadata": {},
   "source": [
    "### Changing a string"
   ]
  },
  {
   "cell_type": "code",
   "execution_count": 3,
   "metadata": {},
   "outputs": [],
   "source": [
    "def mutate_string(string, position, character):\n",
    "    our_string = list(string)\n",
    "    our_string[position] = character\n",
    "    new_string = \"\".join(our_string)\n",
    "    return(new_string)"
   ]
  },
  {
   "attachments": {},
   "cell_type": "markdown",
   "metadata": {},
   "source": [
    "Others' code\n"
   ]
  },
  {
   "cell_type": "code",
   "execution_count": 5,
   "metadata": {},
   "outputs": [],
   "source": [
    "# string_list = list(string)\n",
    "# string_list[position] = character\n",
    "# mutated_string = ''.join(string_list)\n",
    "# return mutated_string"
   ]
  },
  {
   "cell_type": "code",
   "execution_count": 6,
   "metadata": {},
   "outputs": [],
   "source": [
    "# s = raw_input()\n",
    "# i, c = raw_input().split()\n",
    "\n",
    "# print s[:int(i)] + c + s[int(i)+1:]"
   ]
  },
  {
   "attachments": {},
   "cell_type": "markdown",
   "metadata": {},
   "source": [
    "The first is the same as mine,b the second prints things more concisely"
   ]
  }
 ],
 "metadata": {
  "kernelspec": {
   "display_name": "Python 3",
   "language": "python",
   "name": "python3"
  },
  "language_info": {
   "codemirror_mode": {
    "name": "ipython",
    "version": 3
   },
   "file_extension": ".py",
   "mimetype": "text/x-python",
   "name": "python",
   "nbconvert_exporter": "python",
   "pygments_lexer": "ipython3",
   "version": "3.9.6"
  },
  "orig_nbformat": 4
 },
 "nbformat": 4,
 "nbformat_minor": 2
}
