{
 "cells": [
  {
   "cell_type": "markdown",
   "metadata": {},
   "source": [
    "# Practicing Data Science through HackerRank"
   ]
  },
  {
   "cell_type": "code",
   "execution_count": 1,
   "metadata": {},
   "outputs": [],
   "source": [
    "import pandas as pd\n",
    "import numpy as np\n",
    "import datetime as dt\n",
    "\n"
   ]
  },
  {
   "attachments": {},
   "cell_type": "markdown",
   "metadata": {},
   "source": [
    "Given the names and grades for each student in a class of  students, store them in a nested list and print the name(s) of any student(s) having the second lowest grade.\n",
    "Note: If there are multiple students with the second lowest grade, order their names alphabetically and print each name on a new line.\n",
    "Example \n",
    "\n",
    "The ordered list of scores is , so the second lowest score is . There are two students with that score: . Ordered alphabetically, the names are printed as:\n",
    "alpha\n",
    "beta\n",
    "Input Format\n",
    "The first line contains an integer, , the number of students. \n",
    "The  subsequent lines describe each student over  lines. \n",
    "- The first line contains a student's name. \n",
    "- The second line contains their grade.\n",
    "Constraints\n",
    "\n",
    "There will always be one or more students having the second lowest grade.\n",
    "Output Format\n",
    "Print the name(s) of any student(s) having the second lowest grade in. If there are multiple students, order their names alphabetically and print each one on a new line.\n",
    "Sample Input 0\n",
    "5\n",
    "Harry\n",
    "37.21\n",
    "Berry\n",
    "37.21\n",
    "Tina\n",
    "37.2\n",
    "Akriti\n",
    "41\n",
    "Harsh\n",
    "39\n",
    "Sample Output 0\n",
    "Berry\n",
    "Harry\n",
    "Explanation 0\n",
    "There are  students in this class whose names and grades are assembled to build the following list:\n",
    "python students = [['Harry', 37.21], ['Berry', 37.21], ['Tina', 37.2], ['Akriti', 41], ['Harsh', 39]]\n",
    "The lowest grade of  belongs to Tina. The second lowest grade of  belongs to both Harry and Berry, so we order their names alphabetically and print each name on a new line."
   ]
  },
  {
   "cell_type": "markdown",
   "metadata": {},
   "source": [
    "my submission"
   ]
  },
  {
   "cell_type": "code",
   "execution_count": null,
   "metadata": {},
   "outputs": [],
   "source": [
    "if __name__ == '__main__':\n",
    "    class_info = []\n",
    "    for student in range(int(input())):\n",
    "        name = input()\n",
    "        score = float(input())\n",
    "        \n",
    "        student_info = [name, score]\n",
    "        class_info.append(student_info)\n",
    "        \n",
    "    #print(class_info)\n",
    "    \n",
    "    scores = [i[1] for i in class_info]\n",
    "    names = [i[0] for i in class_info]\n",
    "    sorted_scores = sorted(scores)\n",
    "    second_highest_score = sorted_scores[1]\n",
    "    \n",
    "    second_lowest_student_names = []\n",
    "    for i in class_info:\n",
    "        student_score = i[1]\n",
    "        if student_score == second_highest_score:\n",
    "            second_lowest_student_names.append(i[0])\n",
    "    for student in sorted(second_lowest_student_names):\n",
    "        print(student)"
   ]
  },
  {
   "cell_type": "markdown",
   "metadata": {},
   "source": [
    "others' submissions"
   ]
  },
  {
   "cell_type": "code",
   "execution_count": 1,
   "metadata": {},
   "outputs": [],
   "source": [
    "# score = [i[1] for i in records]\n",
    "# lowest = min(score)\n",
    "# while lowest in score:\n",
    "#     score.remove(lowest)\n",
    "\n",
    "# rem_marks = score\n",
    "\n",
    "# second_lowest = min(rem_marks)\n",
    "\n",
    "# second_lowest_names = [i[0] for i in records if i[1] == second_lowest]\n",
    "# second_lowest_names.sort()\n",
    "# for i in second_lowest_names:\n",
    "#     print(i)"
   ]
  },
  {
   "attachments": {},
   "cell_type": "markdown",
   "metadata": {},
   "source": [
    "The while loop gets rid of multiple lowests in case there are multiple. this is a good approach\n",
    "\n",
    "the rem_marks this scientist defines is not necessary. The second_lowest gives us a number, which is good.\n",
    "\n",
    "The list comprehension here helps greatly for readability and speed\n",
    "\n",
    "Overall this scientist's code takes a more concise approach and is very insightful"
   ]
  },
  {
   "cell_type": "code",
   "execution_count": null,
   "metadata": {},
   "outputs": [],
   "source": []
  },
  {
   "attachments": {},
   "cell_type": "markdown",
   "metadata": {},
   "source": [
    "Let's learn about list comprehensions!\n",
    "You are given three integers  and  representing the dimensions of a cuboid along with an integer.\n",
    "Print a list of all possible coordinates given by  on a 3D grid where the sum of the list is not equal to N.\n",
    "\n",
    "Please use list comprehensions rather than multiple loops, as a learning exercise.\n",
    "Example \n",
    " \n",
    " \n",
    " \n",
    "\n",
    "All permutations of  are: \n",
    ".\n",
    "Print an array of the elements that do not sum to .\n",
    "\n",
    "Input Format\n",
    "Four integers  and , each on a separate line.\n",
    "Constraints\n",
    "Print the list in lexicographic increasing order.\n",
    "Sample Input 0\n",
    "1\n",
    "1\n",
    "1\n",
    "2\n",
    "Sample Output 0\n",
    "[[0, 0, 0], [0, 0, 1], [0, 1, 0], [1, 0, 0], [1, 1, 1]]\n",
    "Explanation 0\n",
    "Each variable  and  will have values of  or . All permutations of lists in the form . \n",
    "Remove all arrays that sum to  to leave only the valid permutations.\n",
    "Sample Input 1\n",
    "2\n",
    "2\n",
    "2\n",
    "2\n",
    "Sample Output 1\n",
    "[[0, 0, 0], [0, 0, 1], [0, 1, 0], [0, 1, 2], [0, 2, 1], [0, 2, 2], [1, 0, 0], [1, 0, 2], [1, 1, 1], [1, 1, 2], [1, 2, 0], [1, 2, 1], [1, 2, 2], [2, 0, 1], [2, 0, 2], [2, 1, 0], [2, 1, 1], [2, 1, 2], [2, 2, 0], [2, 2, 1], [2, 2, 2]]"
   ]
  },
  {
   "cell_type": "code",
   "execution_count": null,
   "metadata": {},
   "outputs": [],
   "source": [
    "if __name__ == '__main__':\n",
    "    x = int(input())\n",
    "    y = int(input())\n",
    "    z = int(input())\n",
    "    n = int(input())\n",
    "    \n",
    "    possibilities_x = [i for i in range(0,x+1)]\n",
    "    possibilities_y = [i for i in range(0,y+1)]\n",
    "    possibilities_z = [i for i in range(0,z+1)]\n",
    "    \n",
    "    \n",
    "    grand_list = []\n",
    "    for x in possibilities_x:\n",
    "        for y in possibilities_y:\n",
    "            for z in possibilities_z:\n",
    "                grand_list.append([x,y,z])\n",
    "                \n",
    "    \n",
    "    grand_list = [item for item in grand_list if sum(item) != n]\n",
    "    print(grand_list)\n"
   ]
  },
  {
   "cell_type": "markdown",
   "metadata": {},
   "source": [
    "others' code"
   ]
  },
  {
   "cell_type": "code",
   "execution_count": null,
   "metadata": {},
   "outputs": [],
   "source": [
    "# # Solution 1\n",
    "# x = int(input(\"\"))\n",
    "# y = int(input(\"\"))\n",
    "# z = int(input(\"\"))\n",
    "# n = int(input(\"\"))\n",
    "\n",
    "# values = [([value1,value2,value3]) for value1 in range (x+1) for value2 in range (y+1) for value3 in range (z+1) if (value1+value2+value3) != n ]\n",
    "# print(values)\n",
    "\n",
    "# #More readable code would be\n",
    "# # Solution 2\n",
    "\n",
    "# x = int(input(\"Enter the value of x: \"))\n",
    "# y = int(input(\"Enter the value of y: \"))\n",
    "# z = int(input(\"Enter the value of z: \"))\n",
    "# n = int(input(\"Enter the value of n: \"))\n",
    "\n",
    "\n",
    "# values = [[value1,value2,value3] for value1 in range (x+1) for value2 in range (y+1) for value3 in range (z+1) if (value1+value2+value3) != n ]\n",
    "# values_1 = [[value1,value2,value3] for value1 in range (x+1) for value2 in range (y+1) for value3 in range (z+1)]\n",
    "\n",
    "# print()\n",
    "# print(f\"(x,y,z) = ({x},{y},{z})\")\n",
    "# print(f\"Value of n is {n}\")\n",
    "# print(f\"\"\"\\nCombination of values are : {values_1}, \n",
    "# Values where sum is not equals to n: {values}.\"\"\")"
   ]
  },
  {
   "attachments": {},
   "cell_type": "markdown",
   "metadata": {},
   "source": [
    "The nesting of the list comprehension is definitely something worth looking at to understand more closely.\n"
   ]
  },
  {
   "cell_type": "markdown",
   "metadata": {},
   "source": []
  }
 ],
 "metadata": {
  "kernelspec": {
   "display_name": "Python 3",
   "language": "python",
   "name": "python3"
  },
  "language_info": {
   "codemirror_mode": {
    "name": "ipython",
    "version": 3
   },
   "file_extension": ".py",
   "mimetype": "text/x-python",
   "name": "python",
   "nbconvert_exporter": "python",
   "pygments_lexer": "ipython3",
   "version": "3.9.6"
  },
  "orig_nbformat": 4
 },
 "nbformat": 4,
 "nbformat_minor": 2
}
