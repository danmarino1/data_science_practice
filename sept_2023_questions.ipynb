{
 "cells": [
  {
   "cell_type": "markdown",
   "metadata": {},
   "source": [
    "# September 2023 - Questions"
   ]
  },
  {
   "cell_type": "markdown",
   "metadata": {},
   "source": [
    "## Objective (Today we drill enumerate, which I have not used yet):\n",
    "\n",
    "### Background:\n",
    "The `enumerate()` function in Python is a built-in function used for assigning an index to each item in an iterable. It takes an iterable (e.g., a list, tuple, etc.) and returns an iterator that produces tuples containing the index and the corresponding element from the iterable.\n",
    "\n",
    "### Question:\n",
    "Your task is to write Python code snippets using `enumerate()` to perform various operations relevant to data science tasks. This will test your understanding of Python's built-in `enumerate()` function and how to use it effectively in a data science context.\n",
    "\n",
    "### Inputs:\n",
    "- Lists or tuples containing integers, strings, or other data types.\n",
    "\n",
    "### Expected Outputs:\n",
    "- Different types of outputs based on the specific question, such as a modified list, a dictionary, or a summary statistic.\n",
    "\n",
    "### Libraries Needed:\n",
    "- Python Standard Library\n"
   ]
  },
  {
   "cell_type": "markdown",
   "metadata": {},
   "source": [
    "### Question 1: Basic Enumeration\n",
    "Write a Python snippet that takes a list and prints each element along with its index.\n",
    "\n",
    "### Expected Output\n",
    "0: 1\n",
    "\n",
    "1: 2\n",
    "\n",
    "2: 3\n",
    "\n",
    "3: 4\n",
    "\n",
    "4: 5"
   ]
  },
  {
   "cell_type": "code",
   "execution_count": 17,
   "metadata": {},
   "outputs": [
    {
     "name": "stdout",
     "output_type": "stream",
     "text": [
      "0: 1\n",
      "1: 2\n",
      "2: 3\n",
      "3: 4\n",
      "4: 5\n"
     ]
    }
   ],
   "source": [
    "input = [i for i in range(1,6)]\n",
    "for index, number in enumerate(input):\n",
    "    print(f\"{index}: {number}\")"
   ]
  },
  {
   "cell_type": "markdown",
   "metadata": {},
   "source": [
    "### Question 2: Enumerate with Start Index\n",
    "Write a Python snippet that takes a list and prints each element along with its index, but start the index from 100.\n",
    "\n",
    "### Expected Output\n",
    "\n",
    "101: 2\n",
    "\n",
    "100: 1\n",
    "\n",
    "102: 3\n",
    "\n",
    "103: 4\n",
    "\n",
    "104: 5"
   ]
  },
  {
   "cell_type": "code",
   "execution_count": 20,
   "metadata": {},
   "outputs": [
    {
     "name": "stdout",
     "output_type": "stream",
     "text": [
      "100: 1\n",
      "101: 2\n",
      "102: 3\n",
      "103: 4\n",
      "104: 5\n"
     ]
    }
   ],
   "source": [
    "input = [i for i in range(1,6)]\n",
    "for index, number in enumerate(input, start=100):\n",
    "    print(f\"{index}: {number}\")"
   ]
  },
  {
   "cell_type": "markdown",
   "metadata": {},
   "source": [
    "### Question 3: Create a Dictionary\n",
    "Write a Python snippet that creates a dictionary where the keys are the indices and the values are the elements of the list.\n",
    "\n",
    "### Expected Output\n",
    "```python\n",
    "{0: 1, 1: 2, 2: 3, 3: 4, 4: 5}\n"
   ]
  },
  {
   "cell_type": "code",
   "execution_count": 26,
   "metadata": {},
   "outputs": [
    {
     "data": {
      "text/plain": [
       "{0: 1, 1: 2, 2: 3, 3: 4, 4: 5}"
      ]
     },
     "execution_count": 26,
     "metadata": {},
     "output_type": "execute_result"
    }
   ],
   "source": [
    "#Write a Python snippet that creates a dictionary where the keys are the indices and the values are the elements of the list.\n",
    "input = [i for i in range(1,6)]\n",
    "output = {index: number for index, number in enumerate(input)}\n",
    "output"
   ]
  },
  {
   "cell_type": "markdown",
   "metadata": {},
   "source": [
    "### Question 4: Sum of Indexed Elements\n",
    "Write a Python snippet that calculates the sum of the elements in the list multiplied by their respective indices.\n",
    "\n",
    "### Expected Output\n",
    "30 # (01 + 12 + 23 + 34 + 4*5)"
   ]
  },
  {
   "cell_type": "code",
   "execution_count": 35,
   "metadata": {},
   "outputs": [
    {
     "name": "stdout",
     "output_type": "stream",
     "text": [
      "39200 is the sum of ['1*0', '2*1', '3*2', '4*3', '5*4', '6*5', '7*6', '8*7', '9*8', '10*9', '11*10', '12*11', '13*12', '14*13', '15*14', '16*15', '17*16', '18*17', '19*18', '20*19', '21*20', '22*21', '23*22', '24*23', '25*24', '26*25', '27*26', '28*27', '29*28', '30*29', '31*30', '32*31', '33*32', '34*33', '35*34', '36*35', '37*36', '38*37', '39*38', '40*39', '41*40', '42*41', '43*42', '44*43', '45*44', '46*45', '47*46', '48*47', '49*48']\n"
     ]
    }
   ],
   "source": [
    "input = [i for i in range(1,50)]\n",
    "\n",
    "inputs_times_their_index_str = [f\"{i}*{index}\" for index, i in enumerate(input)]\n",
    "inputs_times_their_index = [i*index for index, i in enumerate(input)]\n",
    "print(sum(inputs_times_their_index), f\"is the sum of {inputs_times_their_index_str}\")\n"
   ]
  },
  {
   "cell_type": "markdown",
   "metadata": {},
   "source": [
    "### Question 5: Filter by Index\n",
    "Write a Python snippet that creates a new list containing only the elements at even indices.\n",
    "\n",
    "### Expected Output\n",
    "```python\n",
    "[1, 3, 5]\n"
   ]
  },
  {
   "cell_type": "code",
   "execution_count": 40,
   "metadata": {},
   "outputs": [
    {
     "data": {
      "text/plain": [
       "[1, 3, 5, 7, 9, 11]"
      ]
     },
     "execution_count": 40,
     "metadata": {},
     "output_type": "execute_result"
    }
   ],
   "source": [
    "input = [i for i in range(1,12)]\n",
    "\n",
    "even_index_nums = [i for index, i in enumerate(input) if index % 2 == 0]\n",
    "even_index_nums"
   ]
  },
  {
   "cell_type": "markdown",
   "metadata": {},
   "source": [
    "---"
   ]
  },
  {
   "cell_type": "markdown",
   "metadata": {},
   "source": [
    "## Objective (Yield)\n",
    "\n",
    "### Question 1:\n",
    "Write a function called count_up_to that takes a number max as an argument. The function should yield numbers starting from 1 up to max."
   ]
  },
  {
   "cell_type": "code",
   "execution_count": 9,
   "metadata": {},
   "outputs": [
    {
     "data": {
      "text/plain": [
       "<generator object count_up_to at 0x10f894120>"
      ]
     },
     "execution_count": 9,
     "metadata": {},
     "output_type": "execute_result"
    }
   ],
   "source": [
    "def count_up_to(max_num):\n",
    "    for num in range(0, max_num + 1):\n",
    "        yield num\n",
    "count_up_to(5)"
   ]
  },
  {
   "cell_type": "markdown",
   "metadata": {},
   "source": [
    "### Question 2:\n",
    "Create a generator function alternate_elements that takes a list and yields elements alternatively from the beginning and the end of the list. For example, for [1, 2, 3, 4], it should yield 1, 4, 2, 3."
   ]
  },
  {
   "cell_type": "code",
   "execution_count": 10,
   "metadata": {},
   "outputs": [
    {
     "data": {
      "text/plain": [
       "<generator object alternate_elements at 0x10f894200>"
      ]
     },
     "execution_count": 10,
     "metadata": {},
     "output_type": "execute_result"
    }
   ],
   "source": [
    "def alternate_elements(lst):\n",
    "    n = len(lst)\n",
    "    for i in range(n // 2):\n",
    "        yield lst[i]\n",
    "        yield lst[-(i + 1)]\n",
    "    if n % 2 != 0:\n",
    "        yield lst[n // 2]\n",
    "alternate_elements([1,3,5,2,3,5,6,7,12,45,13])"
   ]
  },
  {
   "cell_type": "markdown",
   "metadata": {},
   "source": [
    "### Question 3:\n",
    "Write a generator function called even_numbers that takes a list and only yields the even numbers from the list."
   ]
  },
  {
   "cell_type": "code",
   "execution_count": 11,
   "metadata": {},
   "outputs": [
    {
     "data": {
      "text/plain": [
       "<generator object even_numbers at 0x10f894350>"
      ]
     },
     "execution_count": 11,
     "metadata": {},
     "output_type": "execute_result"
    }
   ],
   "source": [
    "def even_numbers(list_of_nums):\n",
    "    for num in list_of_nums:\n",
    "        if num % 2 == 0:\n",
    "            yield num\n",
    "even_numbers([1, 3, 5, 2, 4, 6, 7, 8, 9, 10])\n"
   ]
  },
  {
   "cell_type": "markdown",
   "metadata": {},
   "source": [
    "### Question 4:\n",
    "Write a generator function called flatten_list that takes a nested list (list of lists) and yields each element in a flattened form."
   ]
  },
  {
   "cell_type": "code",
   "execution_count": 12,
   "metadata": {},
   "outputs": [
    {
     "data": {
      "text/plain": [
       "<generator object flatten_list at 0x10f894430>"
      ]
     },
     "execution_count": 12,
     "metadata": {},
     "output_type": "execute_result"
    }
   ],
   "source": [
    "def flatten_list(list_of_lists):\n",
    "    for list in list_of_lists:\n",
    "        for element in list:\n",
    "            yield element\n",
    "flatten_list([[1,2,3],[4,5,6],[7,8,9]])"
   ]
  },
  {
   "cell_type": "markdown",
   "metadata": {},
   "source": [
    "### Level 5: Yield From\n",
    "\n",
    "In Python 3.3+, you can use yield from to yield all items from an iterable.\n",
    "\n",
    "Question 5:\n",
    "Write a generator function called yield_from_example that takes a list of lists and uses yield from to yield all elements from each nested list."
   ]
  },
  {
   "cell_type": "code",
   "execution_count": 13,
   "metadata": {},
   "outputs": [
    {
     "data": {
      "text/plain": [
       "<generator object flatten_list_with_yield_from at 0x10f894510>"
      ]
     },
     "execution_count": 13,
     "metadata": {},
     "output_type": "execute_result"
    }
   ],
   "source": [
    "def flatten_list_with_yield_from(nested_list):\n",
    "    for sublist in nested_list:\n",
    "        yield from sublist\n",
    "flatten_list_with_yield_from([[1,2,3],[4,5,6],[7,8,9]])"
   ]
  },
  {
   "cell_type": "code",
   "execution_count": 20,
   "metadata": {},
   "outputs": [
    {
     "data": {
      "text/plain": [
       "[0, 1, 2, 3, 4, 5]"
      ]
     },
     "execution_count": 20,
     "metadata": {},
     "output_type": "execute_result"
    }
   ],
   "source": [
    "gen = count_up_to(5)  # This returns a generator object.\n",
    "list(gen) # Convert to list to see the values: [1, 2, 3, 4, 5]\n"
   ]
  },
  {
   "cell_type": "code",
   "execution_count": 22,
   "metadata": {},
   "outputs": [
    {
     "name": "stdout",
     "output_type": "stream",
     "text": [
      "0\n",
      "1\n",
      "2\n",
      "3\n",
      "4\n",
      "5\n"
     ]
    }
   ],
   "source": [
    "# Or use a for loop\n",
    "for item in count_up_to(5):\n",
    "    print(item)  # Prints 1, 2, 3, 4, 5, each on a new line"
   ]
  },
  {
   "cell_type": "code",
   "execution_count": 29,
   "metadata": {},
   "outputs": [
    {
     "name": "stdout",
     "output_type": "stream",
     "text": [
      "[0, 1, 2, 3, 4, 5]\n",
      "[1, 2, 3, 4, 5, 6, 7, 8, 9]\n",
      "{1, 2, 3, 4, 5, 6, 7, 8, 9}\n"
     ]
    }
   ],
   "source": [
    "print(list(count_up_to(5)))\n",
    "print(list(flatten_list([[1,2,3],[4,5,6],[7,8,9]])))\n",
    "print(set(flatten_list_with_yield_from([[1,2,3],[4,5,6],[7,8,9]])))"
   ]
  },
  {
   "cell_type": "code",
   "execution_count": 41,
   "metadata": {},
   "outputs": [
    {
     "data": {
      "text/plain": [
       "[(1, 0, 'y'),\n",
       " (2, 10, 'yy'),\n",
       " (3, 20, 'yyy'),\n",
       " (4, 30, 'yyyy'),\n",
       " (5, 40, 'yyyyy'),\n",
       " (6, 50, 'yyyyyy'),\n",
       " (7, 60, 'yyyyyyy'),\n",
       " (8, 70, 'yyyyyyyy'),\n",
       " (9, 80, 'yyyyyyyyy')]"
      ]
     },
     "execution_count": 41,
     "metadata": {},
     "output_type": "execute_result"
    }
   ],
   "source": [
    "[(item, index*10, \"y\"*item) for index, item in enumerate(flatten_list_with_yield_from([[1,2,3],[4,5,6],[7,8,9]]))]"
   ]
  },
  {
   "cell_type": "markdown",
   "metadata": {},
   "source": [
    "---"
   ]
  },
  {
   "cell_type": "markdown",
   "metadata": {},
   "source": []
  }
 ],
 "metadata": {
  "kernelspec": {
   "display_name": "Python 3",
   "language": "python",
   "name": "python3"
  },
  "language_info": {
   "codemirror_mode": {
    "name": "ipython",
    "version": 3
   },
   "file_extension": ".py",
   "mimetype": "text/x-python",
   "name": "python",
   "nbconvert_exporter": "python",
   "pygments_lexer": "ipython3",
   "version": "3.9.6"
  },
  "orig_nbformat": 4
 },
 "nbformat": 4,
 "nbformat_minor": 2
}
