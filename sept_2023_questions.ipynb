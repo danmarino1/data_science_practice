{
 "cells": [
  {
   "cell_type": "markdown",
   "metadata": {},
   "source": [
    "# September 2023 - Questions"
   ]
  },
  {
   "cell_type": "markdown",
   "metadata": {},
   "source": [
    "## Objective (Today we drill enumerate, which I have not used yet):\n",
    "\n",
    "### Background:\n",
    "The `enumerate()` function in Python is a built-in function used for assigning an index to each item in an iterable. It takes an iterable (e.g., a list, tuple, etc.) and returns an iterator that produces tuples containing the index and the corresponding element from the iterable.\n",
    "\n",
    "### Question:\n",
    "Your task is to write Python code snippets using `enumerate()` to perform various operations relevant to data science tasks. This will test your understanding of Python's built-in `enumerate()` function and how to use it effectively in a data science context.\n",
    "\n",
    "### Inputs:\n",
    "- Lists or tuples containing integers, strings, or other data types.\n",
    "\n",
    "### Expected Outputs:\n",
    "- Different types of outputs based on the specific question, such as a modified list, a dictionary, or a summary statistic.\n",
    "\n",
    "### Libraries Needed:\n",
    "- Python Standard Library\n"
   ]
  },
  {
   "cell_type": "markdown",
   "metadata": {},
   "source": [
    "### Question 1: Basic Enumeration\n",
    "Write a Python snippet that takes a list and prints each element along with its index.\n",
    "\n",
    "### Expected Output\n",
    "0: 1\n",
    "\n",
    "1: 2\n",
    "\n",
    "2: 3\n",
    "\n",
    "3: 4\n",
    "\n",
    "4: 5"
   ]
  },
  {
   "cell_type": "code",
   "execution_count": 17,
   "metadata": {},
   "outputs": [
    {
     "name": "stdout",
     "output_type": "stream",
     "text": [
      "0: 1\n",
      "1: 2\n",
      "2: 3\n",
      "3: 4\n",
      "4: 5\n"
     ]
    }
   ],
   "source": [
    "input = [i for i in range(1,6)]\n",
    "for index, number in enumerate(input):\n",
    "    print(f\"{index}: {number}\")"
   ]
  },
  {
   "cell_type": "markdown",
   "metadata": {},
   "source": [
    "### Question 2: Enumerate with Start Index\n",
    "Write a Python snippet that takes a list and prints each element along with its index, but start the index from 100.\n",
    "\n",
    "### Expected Output\n",
    "\n",
    "101: 2\n",
    "\n",
    "100: 1\n",
    "\n",
    "102: 3\n",
    "\n",
    "103: 4\n",
    "\n",
    "104: 5"
   ]
  },
  {
   "cell_type": "code",
   "execution_count": 20,
   "metadata": {},
   "outputs": [
    {
     "name": "stdout",
     "output_type": "stream",
     "text": [
      "100: 1\n",
      "101: 2\n",
      "102: 3\n",
      "103: 4\n",
      "104: 5\n"
     ]
    }
   ],
   "source": [
    "input = [i for i in range(1,6)]\n",
    "for index, number in enumerate(input, start=100):\n",
    "    print(f\"{index}: {number}\")"
   ]
  },
  {
   "cell_type": "markdown",
   "metadata": {},
   "source": [
    "### Question 3: Create a Dictionary\n",
    "Write a Python snippet that creates a dictionary where the keys are the indices and the values are the elements of the list.\n",
    "\n",
    "### Expected Output\n",
    "```python\n",
    "{0: 1, 1: 2, 2: 3, 3: 4, 4: 5}\n"
   ]
  },
  {
   "cell_type": "code",
   "execution_count": 26,
   "metadata": {},
   "outputs": [
    {
     "data": {
      "text/plain": [
       "{0: 1, 1: 2, 2: 3, 3: 4, 4: 5}"
      ]
     },
     "execution_count": 26,
     "metadata": {},
     "output_type": "execute_result"
    }
   ],
   "source": [
    "#Write a Python snippet that creates a dictionary where the keys are the indices and the values are the elements of the list.\n",
    "input = [i for i in range(1,6)]\n",
    "output = {index: number for index, number in enumerate(input)}\n",
    "output"
   ]
  },
  {
   "cell_type": "markdown",
   "metadata": {},
   "source": [
    "### Question 4: Sum of Indexed Elements\n",
    "Write a Python snippet that calculates the sum of the elements in the list multiplied by their respective indices.\n",
    "\n",
    "### Expected Output\n",
    "30 # (01 + 12 + 23 + 34 + 4*5)"
   ]
  },
  {
   "cell_type": "code",
   "execution_count": 35,
   "metadata": {},
   "outputs": [
    {
     "name": "stdout",
     "output_type": "stream",
     "text": [
      "39200 is the sum of ['1*0', '2*1', '3*2', '4*3', '5*4', '6*5', '7*6', '8*7', '9*8', '10*9', '11*10', '12*11', '13*12', '14*13', '15*14', '16*15', '17*16', '18*17', '19*18', '20*19', '21*20', '22*21', '23*22', '24*23', '25*24', '26*25', '27*26', '28*27', '29*28', '30*29', '31*30', '32*31', '33*32', '34*33', '35*34', '36*35', '37*36', '38*37', '39*38', '40*39', '41*40', '42*41', '43*42', '44*43', '45*44', '46*45', '47*46', '48*47', '49*48']\n"
     ]
    }
   ],
   "source": [
    "input = [i for i in range(1,50)]\n",
    "\n",
    "inputs_times_their_index_str = [f\"{i}*{index}\" for index, i in enumerate(input)]\n",
    "inputs_times_their_index = [i*index for index, i in enumerate(input)]\n",
    "print(sum(inputs_times_their_index), f\"is the sum of {inputs_times_their_index_str}\")\n"
   ]
  },
  {
   "cell_type": "markdown",
   "metadata": {},
   "source": [
    "### Question 5: Filter by Index\n",
    "Write a Python snippet that creates a new list containing only the elements at even indices.\n",
    "\n",
    "### Expected Output\n",
    "```python\n",
    "[1, 3, 5]\n"
   ]
  },
  {
   "cell_type": "code",
   "execution_count": 40,
   "metadata": {},
   "outputs": [
    {
     "data": {
      "text/plain": [
       "[1, 3, 5, 7, 9, 11]"
      ]
     },
     "execution_count": 40,
     "metadata": {},
     "output_type": "execute_result"
    }
   ],
   "source": [
    "input = [i for i in range(1,12)]\n",
    "\n",
    "even_index_nums = [i for index, i in enumerate(input) if index % 2 == 0]\n",
    "even_index_nums"
   ]
  },
  {
   "cell_type": "markdown",
   "metadata": {},
   "source": [
    "---"
   ]
  },
  {
   "cell_type": "code",
   "execution_count": null,
   "metadata": {},
   "outputs": [],
   "source": []
  }
 ],
 "metadata": {
  "kernelspec": {
   "display_name": "Python 3",
   "language": "python",
   "name": "python3"
  },
  "language_info": {
   "codemirror_mode": {
    "name": "ipython",
    "version": 3
   },
   "file_extension": ".py",
   "mimetype": "text/x-python",
   "name": "python",
   "nbconvert_exporter": "python",
   "pygments_lexer": "ipython3",
   "version": "3.9.6"
  },
  "orig_nbformat": 4
 },
 "nbformat": 4,
 "nbformat_minor": 2
}
