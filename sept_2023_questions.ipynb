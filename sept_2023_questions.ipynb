{
 "cells": [
  {
   "cell_type": "markdown",
   "metadata": {},
   "source": [
    "# September 2023 - Questions"
   ]
  },
  {
   "cell_type": "markdown",
   "metadata": {},
   "source": [
    "## Objective (Today we drill enumerate, which I have not used yet):\n",
    "\n",
    "### Background:\n",
    "The `enumerate()` function in Python is a built-in function used for assigning an index to each item in an iterable. It takes an iterable (e.g., a list, tuple, etc.) and returns an iterator that produces tuples containing the index and the corresponding element from the iterable.\n",
    "\n",
    "### Question:\n",
    "Your task is to write Python code snippets using `enumerate()` to perform various operations relevant to data science tasks. This will test your understanding of Python's built-in `enumerate()` function and how to use it effectively in a data science context.\n",
    "\n",
    "### Inputs:\n",
    "- Lists or tuples containing integers, strings, or other data types.\n",
    "\n",
    "### Expected Outputs:\n",
    "- Different types of outputs based on the specific question, such as a modified list, a dictionary, or a summary statistic.\n",
    "\n",
    "### Libraries Needed:\n",
    "- Python Standard Library\n"
   ]
  },
  {
   "cell_type": "markdown",
   "metadata": {},
   "source": [
    "### Question 1: Basic Enumeration\n",
    "Write a Python snippet that takes a list and prints each element along with its index.\n",
    "\n",
    "### Expected Output\n",
    "0: 1\n",
    "\n",
    "1: 2\n",
    "\n",
    "2: 3\n",
    "\n",
    "3: 4\n",
    "\n",
    "4: 5"
   ]
  },
  {
   "cell_type": "code",
   "execution_count": 17,
   "metadata": {},
   "outputs": [
    {
     "name": "stdout",
     "output_type": "stream",
     "text": [
      "0: 1\n",
      "1: 2\n",
      "2: 3\n",
      "3: 4\n",
      "4: 5\n"
     ]
    }
   ],
   "source": [
    "input = [i for i in range(1,6)]\n",
    "for index, number in enumerate(input):\n",
    "    print(f\"{index}: {number}\")"
   ]
  },
  {
   "cell_type": "markdown",
   "metadata": {},
   "source": [
    "### Question 2: Enumerate with Start Index\n",
    "Write a Python snippet that takes a list and prints each element along with its index, but start the index from 100.\n",
    "\n",
    "### Expected Output\n",
    "\n",
    "101: 2\n",
    "\n",
    "100: 1\n",
    "\n",
    "102: 3\n",
    "\n",
    "103: 4\n",
    "\n",
    "104: 5"
   ]
  },
  {
   "cell_type": "code",
   "execution_count": 20,
   "metadata": {},
   "outputs": [
    {
     "name": "stdout",
     "output_type": "stream",
     "text": [
      "100: 1\n",
      "101: 2\n",
      "102: 3\n",
      "103: 4\n",
      "104: 5\n"
     ]
    }
   ],
   "source": [
    "input = [i for i in range(1,6)]\n",
    "for index, number in enumerate(input, start=100):\n",
    "    print(f\"{index}: {number}\")"
   ]
  },
  {
   "cell_type": "markdown",
   "metadata": {},
   "source": [
    "### Question 3: Create a Dictionary\n",
    "Write a Python snippet that creates a dictionary where the keys are the indices and the values are the elements of the list.\n",
    "\n",
    "### Expected Output\n",
    "```python\n",
    "{0: 1, 1: 2, 2: 3, 3: 4, 4: 5}\n"
   ]
  },
  {
   "cell_type": "code",
   "execution_count": 26,
   "metadata": {},
   "outputs": [
    {
     "data": {
      "text/plain": [
       "{0: 1, 1: 2, 2: 3, 3: 4, 4: 5}"
      ]
     },
     "execution_count": 26,
     "metadata": {},
     "output_type": "execute_result"
    }
   ],
   "source": [
    "#Write a Python snippet that creates a dictionary where the keys are the indices and the values are the elements of the list.\n",
    "input = [i for i in range(1,6)]\n",
    "output = {index: number for index, number in enumerate(input)}\n",
    "output"
   ]
  },
  {
   "cell_type": "markdown",
   "metadata": {},
   "source": [
    "### Question 4: Sum of Indexed Elements\n",
    "Write a Python snippet that calculates the sum of the elements in the list multiplied by their respective indices.\n",
    "\n",
    "### Expected Output\n",
    "30 # (01 + 12 + 23 + 34 + 4*5)"
   ]
  },
  {
   "cell_type": "code",
   "execution_count": 35,
   "metadata": {},
   "outputs": [
    {
     "name": "stdout",
     "output_type": "stream",
     "text": [
      "39200 is the sum of ['1*0', '2*1', '3*2', '4*3', '5*4', '6*5', '7*6', '8*7', '9*8', '10*9', '11*10', '12*11', '13*12', '14*13', '15*14', '16*15', '17*16', '18*17', '19*18', '20*19', '21*20', '22*21', '23*22', '24*23', '25*24', '26*25', '27*26', '28*27', '29*28', '30*29', '31*30', '32*31', '33*32', '34*33', '35*34', '36*35', '37*36', '38*37', '39*38', '40*39', '41*40', '42*41', '43*42', '44*43', '45*44', '46*45', '47*46', '48*47', '49*48']\n"
     ]
    }
   ],
   "source": [
    "input = [i for i in range(1,50)]\n",
    "\n",
    "inputs_times_their_index_str = [f\"{i}*{index}\" for index, i in enumerate(input)]\n",
    "inputs_times_their_index = [i*index for index, i in enumerate(input)]\n",
    "print(sum(inputs_times_their_index), f\"is the sum of {inputs_times_their_index_str}\")\n"
   ]
  },
  {
   "cell_type": "markdown",
   "metadata": {},
   "source": [
    "### Question 5: Filter by Index\n",
    "Write a Python snippet that creates a new list containing only the elements at even indices.\n",
    "\n",
    "### Expected Output\n",
    "```python\n",
    "[1, 3, 5]\n"
   ]
  },
  {
   "cell_type": "code",
   "execution_count": 40,
   "metadata": {},
   "outputs": [
    {
     "data": {
      "text/plain": [
       "[1, 3, 5, 7, 9, 11]"
      ]
     },
     "execution_count": 40,
     "metadata": {},
     "output_type": "execute_result"
    }
   ],
   "source": [
    "input = [i for i in range(1,12)]\n",
    "\n",
    "even_index_nums = [i for index, i in enumerate(input) if index % 2 == 0]\n",
    "even_index_nums"
   ]
  },
  {
   "cell_type": "markdown",
   "metadata": {},
   "source": [
    "---"
   ]
  },
  {
   "cell_type": "markdown",
   "metadata": {},
   "source": [
    "## Objective (Yield)\n",
    "\n",
    "### Question 1:\n",
    "Write a function called count_up_to that takes a number max as an argument. The function should yield numbers starting from 1 up to max."
   ]
  },
  {
   "cell_type": "code",
   "execution_count": 9,
   "metadata": {},
   "outputs": [
    {
     "data": {
      "text/plain": [
       "<generator object count_up_to at 0x10f894120>"
      ]
     },
     "execution_count": 9,
     "metadata": {},
     "output_type": "execute_result"
    }
   ],
   "source": [
    "def count_up_to(max_num):\n",
    "    for num in range(0, max_num + 1):\n",
    "        yield num\n",
    "count_up_to(5)"
   ]
  },
  {
   "cell_type": "markdown",
   "metadata": {},
   "source": [
    "### Question 2:\n",
    "Create a generator function alternate_elements that takes a list and yields elements alternatively from the beginning and the end of the list. For example, for [1, 2, 3, 4], it should yield 1, 4, 2, 3."
   ]
  },
  {
   "cell_type": "code",
   "execution_count": 10,
   "metadata": {},
   "outputs": [
    {
     "data": {
      "text/plain": [
       "<generator object alternate_elements at 0x10f894200>"
      ]
     },
     "execution_count": 10,
     "metadata": {},
     "output_type": "execute_result"
    }
   ],
   "source": [
    "def alternate_elements(lst):\n",
    "    n = len(lst)\n",
    "    for i in range(n // 2):\n",
    "        yield lst[i]\n",
    "        yield lst[-(i + 1)]\n",
    "    if n % 2 != 0:\n",
    "        yield lst[n // 2]\n",
    "alternate_elements([1,3,5,2,3,5,6,7,12,45,13])"
   ]
  },
  {
   "cell_type": "markdown",
   "metadata": {},
   "source": [
    "### Question 3:\n",
    "Write a generator function called even_numbers that takes a list and only yields the even numbers from the list."
   ]
  },
  {
   "cell_type": "code",
   "execution_count": 11,
   "metadata": {},
   "outputs": [
    {
     "data": {
      "text/plain": [
       "<generator object even_numbers at 0x10f894350>"
      ]
     },
     "execution_count": 11,
     "metadata": {},
     "output_type": "execute_result"
    }
   ],
   "source": [
    "def even_numbers(list_of_nums):\n",
    "    for num in list_of_nums:\n",
    "        if num % 2 == 0:\n",
    "            yield num\n",
    "even_numbers([1, 3, 5, 2, 4, 6, 7, 8, 9, 10])\n"
   ]
  },
  {
   "cell_type": "markdown",
   "metadata": {},
   "source": [
    "### Question 4:\n",
    "Write a generator function called flatten_list that takes a nested list (list of lists) and yields each element in a flattened form."
   ]
  },
  {
   "cell_type": "code",
   "execution_count": 12,
   "metadata": {},
   "outputs": [
    {
     "data": {
      "text/plain": [
       "<generator object flatten_list at 0x10f894430>"
      ]
     },
     "execution_count": 12,
     "metadata": {},
     "output_type": "execute_result"
    }
   ],
   "source": [
    "def flatten_list(list_of_lists):\n",
    "    for list in list_of_lists:\n",
    "        for element in list:\n",
    "            yield element\n",
    "flatten_list([[1,2,3],[4,5,6],[7,8,9]])"
   ]
  },
  {
   "cell_type": "markdown",
   "metadata": {},
   "source": [
    "### Level 5: Yield From\n",
    "\n",
    "In Python 3.3+, you can use yield from to yield all items from an iterable.\n",
    "\n",
    "Question 5:\n",
    "Write a generator function called yield_from_example that takes a list of lists and uses yield from to yield all elements from each nested list."
   ]
  },
  {
   "cell_type": "code",
   "execution_count": 13,
   "metadata": {},
   "outputs": [
    {
     "data": {
      "text/plain": [
       "<generator object flatten_list_with_yield_from at 0x10f894510>"
      ]
     },
     "execution_count": 13,
     "metadata": {},
     "output_type": "execute_result"
    }
   ],
   "source": [
    "def flatten_list_with_yield_from(nested_list):\n",
    "    for sublist in nested_list:\n",
    "        yield from sublist\n",
    "flatten_list_with_yield_from([[1,2,3],[4,5,6],[7,8,9]])"
   ]
  },
  {
   "cell_type": "code",
   "execution_count": 20,
   "metadata": {},
   "outputs": [
    {
     "data": {
      "text/plain": [
       "[0, 1, 2, 3, 4, 5]"
      ]
     },
     "execution_count": 20,
     "metadata": {},
     "output_type": "execute_result"
    }
   ],
   "source": [
    "gen = count_up_to(5)  # This returns a generator object.\n",
    "list(gen) # Convert to list to see the values: [1, 2, 3, 4, 5]\n"
   ]
  },
  {
   "cell_type": "code",
   "execution_count": 22,
   "metadata": {},
   "outputs": [
    {
     "name": "stdout",
     "output_type": "stream",
     "text": [
      "0\n",
      "1\n",
      "2\n",
      "3\n",
      "4\n",
      "5\n"
     ]
    }
   ],
   "source": [
    "# Or use a for loop\n",
    "for item in count_up_to(5):\n",
    "    print(item)  # Prints 1, 2, 3, 4, 5, each on a new line"
   ]
  },
  {
   "cell_type": "code",
   "execution_count": 29,
   "metadata": {},
   "outputs": [
    {
     "name": "stdout",
     "output_type": "stream",
     "text": [
      "[0, 1, 2, 3, 4, 5]\n",
      "[1, 2, 3, 4, 5, 6, 7, 8, 9]\n",
      "{1, 2, 3, 4, 5, 6, 7, 8, 9}\n"
     ]
    }
   ],
   "source": [
    "print(list(count_up_to(5)))\n",
    "print(list(flatten_list([[1,2,3],[4,5,6],[7,8,9]])))\n",
    "print(set(flatten_list_with_yield_from([[1,2,3],[4,5,6],[7,8,9]])))"
   ]
  },
  {
   "cell_type": "code",
   "execution_count": 41,
   "metadata": {},
   "outputs": [
    {
     "data": {
      "text/plain": [
       "[(1, 0, 'y'),\n",
       " (2, 10, 'yy'),\n",
       " (3, 20, 'yyy'),\n",
       " (4, 30, 'yyyy'),\n",
       " (5, 40, 'yyyyy'),\n",
       " (6, 50, 'yyyyyy'),\n",
       " (7, 60, 'yyyyyyy'),\n",
       " (8, 70, 'yyyyyyyy'),\n",
       " (9, 80, 'yyyyyyyyy')]"
      ]
     },
     "execution_count": 41,
     "metadata": {},
     "output_type": "execute_result"
    }
   ],
   "source": [
    "[(item, index*10, \"y\"*item) for index, item in enumerate(flatten_list_with_yield_from([[1,2,3],[4,5,6],[7,8,9]]))]"
   ]
  },
  {
   "cell_type": "markdown",
   "metadata": {},
   "source": [
    "---"
   ]
  },
  {
   "cell_type": "markdown",
   "metadata": {},
   "source": [
    "## Objective - Drill Decorators"
   ]
  },
  {
   "cell_type": "markdown",
   "metadata": {},
   "source": [
    "Challenge 1: Basic Decorator\n",
    "Add \"Hello, \" before the output of the decorated function"
   ]
  },
  {
   "cell_type": "code",
   "execution_count": 5,
   "metadata": {},
   "outputs": [
    {
     "name": "stdout",
     "output_type": "stream",
     "text": [
      "Hello, Dan\n"
     ]
    }
   ],
   "source": [
    "def hello_decorator(func):\n",
    "    def wrapper(name):\n",
    "        return \"Hello, \" + func(name)\n",
    "    return wrapper\n",
    "\n",
    "@hello_decorator\n",
    "def say_name(name):\n",
    "    return name\n",
    "print(say_name(\"Dan\"))  # Expected output: \"Hello, Dan\""
   ]
  },
  {
   "cell_type": "markdown",
   "metadata": {},
   "source": [
    "### Challenge 2: Timing Decorator\n",
    "Measure the time taken to execute the decorated function."
   ]
  },
  {
   "cell_type": "code",
   "execution_count": 8,
   "metadata": {},
   "outputs": [
    {
     "name": "stdout",
     "output_type": "stream",
     "text": [
      "some_function took 1.0007269382476807 seconds\n"
     ]
    }
   ],
   "source": [
    "import time\n",
    "\n",
    "def time_it(func):\n",
    "    def wrapper(*args, **kwargs):\n",
    "        start = time.time()\n",
    "        result = func(*args, **kwargs)\n",
    "        end = time.time()\n",
    "        print(f\"{func.__name__} took {end - start} seconds\")\n",
    "        return result\n",
    "    return wrapper\n",
    "\n",
    "@time_it\n",
    "def some_function():\n",
    "    time.sleep(1)\n",
    "\n",
    "some_function()"
   ]
  },
  {
   "cell_type": "markdown",
   "metadata": {},
   "source": [
    "### Challenge 3: Argument Logger\n",
    "Print the arguments and keyword arguments passed to the decorated function."
   ]
  },
  {
   "cell_type": "code",
   "execution_count": 9,
   "metadata": {},
   "outputs": [
    {
     "name": "stdout",
     "output_type": "stream",
     "text": [
      "Arguments were: (1, 2), {}\n"
     ]
    },
    {
     "data": {
      "text/plain": [
       "3"
      ]
     },
     "execution_count": 9,
     "metadata": {},
     "output_type": "execute_result"
    }
   ],
   "source": [
    "def log_args(func):\n",
    "    def wrapper(*args, **kwargs):\n",
    "        print(f\"Arguments were: {args}, {kwargs}\")\n",
    "        return func(*args, **kwargs)\n",
    "    return wrapper\n",
    "\n",
    "@log_args\n",
    "def add(a, b):\n",
    "    return a + b\n",
    "\n",
    "add(1, 2)  # Prints \"Arguments were: (1, 2), {}\"\n"
   ]
  },
  {
   "cell_type": "markdown",
   "metadata": {},
   "source": [
    "## Challenge 4: Memoization\n",
    "Cache results of function calls and return the cached result when the same inputs occur again."
   ]
  },
  {
   "cell_type": "code",
   "execution_count": 10,
   "metadata": {},
   "outputs": [],
   "source": [
    "def memoize(func):\n",
    "    cache = {}\n",
    "    def wrapper(n):\n",
    "        if n not in cache:\n",
    "            cache[n] = func(n)\n",
    "        return cache[n]\n",
    "    return wrapper\n",
    "\n",
    "@memoize\n",
    "def fib(n):\n",
    "    if n < 2:\n",
    "        return n\n",
    "    return fib(n - 1) + fib(n - 2)\n"
   ]
  },
  {
   "cell_type": "markdown",
   "metadata": {},
   "source": [
    "## Challenge 5: Decorator with Arguments\n",
    "Create a decorator that takes an argument and calls the decorated function n times."
   ]
  },
  {
   "cell_type": "code",
   "execution_count": 11,
   "metadata": {},
   "outputs": [
    {
     "name": "stdout",
     "output_type": "stream",
     "text": [
      "Hello, Dan\n",
      "Hello, Dan\n",
      "Hello, Dan\n"
     ]
    }
   ],
   "source": [
    "def repeat(n):\n",
    "    def decorator(func):\n",
    "        def wrapper(name):\n",
    "            for _ in range(n):\n",
    "                func(name)\n",
    "        return wrapper\n",
    "    return decorator\n",
    "\n",
    "@repeat(n=3)\n",
    "def greet(name):\n",
    "    print(f\"Hello, {name}\")\n",
    "\n",
    "greet(\"Dan\")\n"
   ]
  },
  {
   "cell_type": "markdown",
   "metadata": {},
   "source": [
    "## Additional context (GPT-generated) based on the questions:\n",
    "\n",
    "## Necessary components of decorators\n",
    "### 1. The Outer Function\n",
    "This is the decorator function itself, like `hello_decorator` or `time_it`. It takes a function (`func`) as an argument.\n",
    "\n",
    "```python\n",
    "def hello_decorator(func):\n",
    "```\n",
    "\n",
    "### 2. The Inner Function (Wrapper)\n",
    "Inside the outer function, we define another function, commonly named `wrapper`. This function will replace the original `func`.\n",
    "\n",
    "```python\n",
    "def wrapper(name):\n",
    "    return \"Hello, \" + func(name)\n",
    "```\n",
    "\n",
    "### 3. Logic in Wrapper\n",
    "This is where you add whatever functionality you want the decorator to perform. In the case of `hello_decorator`, it adds \"Hello, \" before the original function's output. \n",
    "\n",
    "### 4. Calling the Original Function\n",
    "Within the wrapper, you call the original `func`. This is how you preserve the original functionality while adding new features.\n",
    "\n",
    "```python\n",
    "func(name)\n",
    "```\n",
    "\n",
    "### 5. Return Wrapper\n",
    "The outer function then returns this wrapper function. This is what replaces the decorated function.\n",
    "\n",
    "```python\n",
    "return wrapper\n",
    "```\n",
    "\n",
    "### 6. Syntactic Sugar\n",
    "The `@` symbol is syntactic sugar. Instead of `say_name = hello_decorator(say_name)`, you can simply use `@hello_decorator` above `say_name()`.\n",
    "\n",
    "### 7. Arguments (*args, **kwargs)\n",
    "When you see `*args` and `**kwargs` in the wrapper function, it's to ensure that the decorator can accept any number of positional and keyword arguments, thus making it flexible.\n",
    "\n",
    "```python\n",
    "def wrapper(*args, **kwargs):\n",
    "```\n",
    "\n",
    "### 8. Optional Arguments in Decorators\n",
    "If your decorator needs to accept arguments like in the `repeat` example, you nest the original decorator function inside another function.\n",
    "\n",
    "```python\n",
    "def repeat(n):\n",
    "    def decorator(func):\n",
    "        # ...\n",
    "    return decorator\n",
    "```\n",
    "\n",
    "These are the core components that make up Python decorators. Each one serves a specific purpose to either enhance or alter the behavior of the decorated function. Would you like to explore any of these components in more detail?"
   ]
  },
  {
   "cell_type": "markdown",
   "metadata": {},
   "source": [
    "---"
   ]
  },
  {
   "cell_type": "markdown",
   "metadata": {},
   "source": [
    "## Question 1\n",
    "Write a generator function called `simple_counter` that yields numbers from 1 to 10.\n"
   ]
  },
  {
   "cell_type": "code",
   "execution_count": 28,
   "metadata": {},
   "outputs": [
    {
     "name": "stdout",
     "output_type": "stream",
     "text": [
      "1\n",
      "2\n",
      "3\n",
      "4\n",
      "5\n",
      "6\n",
      "7\n",
      "8\n",
      "9\n",
      "10\n"
     ]
    }
   ],
   "source": [
    "def simple_counter():\n",
    "    for i in range(1, 11):\n",
    "        yield i\n",
    "\n",
    "counter = simple_counter()\n",
    "for i in range(1, 11):\n",
    "    print(next(counter))"
   ]
  },
  {
   "cell_type": "markdown",
   "metadata": {},
   "source": [
    "The function `simple_counter` uses a for-loop to iterate from 1 to 10, yielding each number in the sequence. It's a simple example of how to create a generator function using `yield`.\n",
    "\n"
   ]
  },
  {
   "cell_type": "markdown",
   "metadata": {},
   "source": [
    "## Question 2\n",
    "Create a generator function called `fizz_buzz` that yields 'Fizz' if the number is divisible by 3, 'Buzz' if it's divisible by 5, and 'FizzBuzz' if it's divisible by both 3 and 5, from 1 to `n`.\n"
   ]
  },
  {
   "cell_type": "code",
   "execution_count": 29,
   "metadata": {},
   "outputs": [
    {
     "name": "stdout",
     "output_type": "stream",
     "text": [
      "1\n",
      "2\n",
      "Fizz\n",
      "4\n",
      "Buzz\n",
      "Fizz\n",
      "7\n",
      "8\n",
      "Fizz\n",
      "Buzz\n",
      "11\n",
      "Fizz\n",
      "13\n",
      "14\n",
      "FizzBuzz\n",
      "16\n",
      "17\n"
     ]
    }
   ],
   "source": [
    "def fizz_buzz(n):\n",
    "    for i in range(1, n + 1):\n",
    "        if i % 3 == 0 and i % 5 == 0:\n",
    "            yield 'FizzBuzz'\n",
    "        elif i % 3 == 0:\n",
    "            yield 'Fizz'\n",
    "        elif i % 5 == 0:\n",
    "            yield 'Buzz'\n",
    "        else:\n",
    "            yield i\n",
    "\n",
    "iterations = 18\n",
    "fizzbuzz = fizz_buzz(iterations)\n",
    "for i in range(1,iterations):\n",
    "    print(next(fizzbuzz))"
   ]
  },
  {
   "cell_type": "markdown",
   "metadata": {},
   "source": [
    "## Question 3\n",
    "Write a generator function called `infinite_fibonacci` that yields numbers from the Fibonacci sequence infinitely."
   ]
  },
  {
   "cell_type": "code",
   "execution_count": 30,
   "metadata": {},
   "outputs": [
    {
     "name": "stdout",
     "output_type": "stream",
     "text": [
      "0\n",
      "1\n",
      "1\n",
      "2\n",
      "3\n",
      "5\n",
      "8\n",
      "13\n",
      "21\n",
      "34\n"
     ]
    }
   ],
   "source": [
    "def infinite_fibonacci():\n",
    "    a, b = 0, 1\n",
    "    while True:\n",
    "        yield a\n",
    "        a, b = b, a + b\n",
    "fibonacci = infinite_fibonacci()\n",
    "\n",
    "for i in range(0, 10):\n",
    "    print(next(fibonacci))"
   ]
  },
  {
   "cell_type": "markdown",
   "metadata": {},
   "source": [
    "### Explanation\n",
    "The function `infinite_fibonacci` uses a while loop to yield Fibonacci numbers infinitely. The variables `a` and `b` are used to keep track of the two most recent numbers in the sequence, and they are updated in each iteration of the loop."
   ]
  },
  {
   "cell_type": "markdown",
   "metadata": {},
   "source": [
    "## Question 5\n",
    "Create two generator functions, `generate_numbers` and `filter_even`. The first should yield numbers from 1 to `n`. The second should take a generator as an argument and yield only the even numbers from it.\n"
   ]
  },
  {
   "cell_type": "code",
   "execution_count": 31,
   "metadata": {},
   "outputs": [
    {
     "name": "stdout",
     "output_type": "stream",
     "text": [
      "2\n",
      "4\n",
      "6\n",
      "8\n",
      "10\n"
     ]
    }
   ],
   "source": [
    "def generate_numbers(n):\n",
    "    for i in range(1, n + 1):\n",
    "        yield i\n",
    "\n",
    "def filter_even(generator):\n",
    "    for num in generator:\n",
    "        if num % 2 == 0:\n",
    "            yield num\n",
    "\n",
    "num_generator = generate_numbers(10)\n",
    "\n",
    "even_nums = filter_even(num_generator)\n",
    "\n",
    "for num in even_nums:\n",
    "    print(num)"
   ]
  },
  {
   "cell_type": "markdown",
   "metadata": {},
   "source": [
    "### Explanation\n",
    "The function `generate_numbers` yields numbers from 1 to `n`. The function `filter_even` takes a generator as an argument and filters out only the even numbers from it. This is an example of how you can chain generators together for more complex behavior.\n"
   ]
  },
  {
   "cell_type": "markdown",
   "metadata": {},
   "source": [
    "## Objective: Learn more about generators and the yield keyword.\n",
    "### 1. Write a generator function that yields the first n even numbers."
   ]
  },
  {
   "cell_type": "code",
   "execution_count": 10,
   "metadata": {},
   "outputs": [
    {
     "name": "stdout",
     "output_type": "stream",
     "text": [
      "['0. 2', '1. 4', '2. 6', '3. 8', '4. 10', '5. 12', '6. 14', '7. 16', '8. 18', '9. 20']\n"
     ]
    }
   ],
   "source": [
    "def generate_even_numbers(n):\n",
    "    for i in range(1, n + 1):\n",
    "        yield i * 2\n",
    "# call the generator function\n",
    "even_nums = generate_even_numbers(10)\n",
    "# iterate over the generator\n",
    "\n",
    "print([f\"{index}. {value}\" for index, value in enumerate(even_nums)])"
   ]
  },
  {
   "cell_type": "code",
   "execution_count": 15,
   "metadata": {},
   "outputs": [
    {
     "data": {
      "text/plain": [
       "{0: 101, 1: 102, 2: 103, 3: 104, 4: 105}"
      ]
     },
     "execution_count": 15,
     "metadata": {},
     "output_type": "execute_result"
    }
   ],
   "source": [
    "### 2. Write a Python snippet that creates a dictionary where the keys are the indices and the values are the elements of the list.\n",
    "input = [i for i in range(101,106)]\n",
    "\n",
    "output = {index: number for index, number in enumerate(input)}\n",
    "output"
   ]
  },
  {
   "cell_type": "markdown",
   "metadata": {},
   "source": [
    "### 3. Implement itertools.chain Functionality\n",
    "\n",
    "The itertools.chain function takes several iterables as arguments and returns an iterator that produces items from the first iterable until it is exhausted, then proceeds to the next iterable, until all of the iterables are exhausted. Implement your own version of itertools.chain using a generator."
   ]
  },
  {
   "cell_type": "code",
   "execution_count": 16,
   "metadata": {},
   "outputs": [
    {
     "name": "stdout",
     "output_type": "stream",
     "text": [
      "1\n",
      "2\n",
      "3\n",
      "a\n",
      "b\n",
      "c\n"
     ]
    }
   ],
   "source": [
    "def my_chain(*iterables):\n",
    "    for iterable in iterables:\n",
    "        for item in iterable:\n",
    "            yield item\n",
    "\n",
    "# Test the generator\n",
    "for item in my_chain([1, 2, 3], ['a', 'b', 'c']):\n",
    "    print(item)"
   ]
  },
  {
   "cell_type": "markdown",
   "metadata": {},
   "source": [
    "---"
   ]
  },
  {
   "cell_type": "markdown",
   "metadata": {},
   "source": [
    "## Objective:\n",
    "In this exercise, you are provided with XML data containing information on various products. Your task is to read the XML data into a Pandas DataFrame and perform basic statistical analysis to answer the following questions:\n",
    "1. What is the average price of products in each category?\n",
    "2. Which product has the maximum price in each category?\n",
    "\n",
    "## Libraries Needed:\n",
    "- pandas\n",
    "- xml.etree.ElementTree\n",
    "\n",
    "## Inputs:\n",
    "You are provided with an XML string that contains product information. Each product has the following attributes:\n",
    "- `id`: The unique identifier for the product (Integer)\n",
    "- `name`: The name of the product (String)\n",
    "- `category`: The category the product belongs to (String)\n",
    "- `price`: The price of the product (Float)\n",
    "\n",
    "## Outputs:\n",
    "1. A Pandas DataFrame containing the average price of products in each category. Columns: `category`, `average_price`.\n",
    "2. A Pandas DataFrame containing the product with the maximum price in each category. Columns: `category`, `product_name`, `price`.\n"
   ]
  },
  {
   "cell_type": "code",
   "execution_count": 1,
   "metadata": {},
   "outputs": [],
   "source": [
    "## Data:\n",
    "xml_data = '''\n",
    "<products>\n",
    "    <product>\n",
    "        <id>1</id>\n",
    "        <name>Laptop</name>\n",
    "        <category>Electronics</category>\n",
    "        <price>999.99</price>\n",
    "    </product>\n",
    "    <product>\n",
    "        <id>2</id>\n",
    "        <name>Phone</name>\n",
    "        <category>Electronics</category>\n",
    "        <price>799.99</price>\n",
    "    </product>\n",
    "    <product>\n",
    "        <id>3</id>\n",
    "        <name>TV</name>\n",
    "        <category>Electronics</category>\n",
    "        <price>1299.99</price>\n",
    "    </product>\n",
    "    <product>\n",
    "        <id>4</id>\n",
    "        <name>Jeans</name>\n",
    "        <category>Clothing</category>\n",
    "        <price>59.99</price>\n",
    "    </product>\n",
    "    <product>\n",
    "        <id>5</id>\n",
    "        <name>Shirt</name>\n",
    "        <category>Clothing</category>\n",
    "        <price>29.99</price>\n",
    "    </product>\n",
    "    <product>\n",
    "        <id>6</id>\n",
    "        <name>Jacket</name>\n",
    "        <category>Clothing</category>\n",
    "        <price>89.99</price>\n",
    "    </product>\n",
    "    <product>\n",
    "        <id>7</id>\n",
    "        <name>Table</name>\n",
    "        <category>Furniture</category>\n",
    "        <price>199.99</price>\n",
    "    </product>\n",
    "    <product>\n",
    "        <id>8</id>\n",
    "        <name>Chair</name>\n",
    "        <category>Furniture</category>\n",
    "        <price>99.99</price>\n",
    "    </product>\n",
    "</products>\n",
    "'''\n"
   ]
  },
  {
   "cell_type": "code",
   "execution_count": 4,
   "metadata": {},
   "outputs": [],
   "source": [
    "import pandas as pd\n",
    "from xml.etree import ElementTree"
   ]
  },
  {
   "cell_type": "code",
   "execution_count": 5,
   "metadata": {},
   "outputs": [],
   "source": [
    "dataframe = pd.read_xml(xml_data)"
   ]
  },
  {
   "cell_type": "code",
   "execution_count": 8,
   "metadata": {},
   "outputs": [
    {
     "name": "stdout",
     "output_type": "stream",
     "text": [
      "<class 'pandas.core.frame.DataFrame'>\n",
      "RangeIndex: 8 entries, 0 to 7\n",
      "Data columns (total 4 columns):\n",
      " #   Column    Non-Null Count  Dtype  \n",
      "---  ------    --------------  -----  \n",
      " 0   id        8 non-null      int64  \n",
      " 1   name      8 non-null      object \n",
      " 2   category  8 non-null      object \n",
      " 3   price     8 non-null      float64\n",
      "dtypes: float64(1), int64(1), object(2)\n",
      "memory usage: 384.0+ bytes\n"
     ]
    }
   ],
   "source": [
    "dataframe.info()"
   ]
  },
  {
   "cell_type": "code",
   "execution_count": 12,
   "metadata": {},
   "outputs": [],
   "source": [
    "avg_price_per_category = dataframe.groupby('category', as_index=False).agg({'price': 'mean'}).round(2)\n",
    "max_price_per_product = dataframe.groupby(['category','name'], as_index=False).agg({'price': 'max'}).round(2)"
   ]
  },
  {
   "cell_type": "code",
   "execution_count": 13,
   "metadata": {},
   "outputs": [
    {
     "data": {
      "text/html": [
       "<div>\n",
       "<style scoped>\n",
       "    .dataframe tbody tr th:only-of-type {\n",
       "        vertical-align: middle;\n",
       "    }\n",
       "\n",
       "    .dataframe tbody tr th {\n",
       "        vertical-align: top;\n",
       "    }\n",
       "\n",
       "    .dataframe thead th {\n",
       "        text-align: right;\n",
       "    }\n",
       "</style>\n",
       "<table border=\"1\" class=\"dataframe\">\n",
       "  <thead>\n",
       "    <tr style=\"text-align: right;\">\n",
       "      <th></th>\n",
       "      <th>category</th>\n",
       "      <th>price</th>\n",
       "    </tr>\n",
       "  </thead>\n",
       "  <tbody>\n",
       "    <tr>\n",
       "      <th>0</th>\n",
       "      <td>Clothing</td>\n",
       "      <td>59.99</td>\n",
       "    </tr>\n",
       "    <tr>\n",
       "      <th>1</th>\n",
       "      <td>Electronics</td>\n",
       "      <td>1033.32</td>\n",
       "    </tr>\n",
       "    <tr>\n",
       "      <th>2</th>\n",
       "      <td>Furniture</td>\n",
       "      <td>149.99</td>\n",
       "    </tr>\n",
       "  </tbody>\n",
       "</table>\n",
       "</div>"
      ],
      "text/plain": [
       "      category    price\n",
       "0     Clothing    59.99\n",
       "1  Electronics  1033.32\n",
       "2    Furniture   149.99"
      ]
     },
     "execution_count": 13,
     "metadata": {},
     "output_type": "execute_result"
    }
   ],
   "source": [
    "avg_price_per_category"
   ]
  },
  {
   "cell_type": "code",
   "execution_count": 14,
   "metadata": {},
   "outputs": [
    {
     "data": {
      "text/html": [
       "<div>\n",
       "<style scoped>\n",
       "    .dataframe tbody tr th:only-of-type {\n",
       "        vertical-align: middle;\n",
       "    }\n",
       "\n",
       "    .dataframe tbody tr th {\n",
       "        vertical-align: top;\n",
       "    }\n",
       "\n",
       "    .dataframe thead th {\n",
       "        text-align: right;\n",
       "    }\n",
       "</style>\n",
       "<table border=\"1\" class=\"dataframe\">\n",
       "  <thead>\n",
       "    <tr style=\"text-align: right;\">\n",
       "      <th></th>\n",
       "      <th>category</th>\n",
       "      <th>name</th>\n",
       "      <th>price</th>\n",
       "    </tr>\n",
       "  </thead>\n",
       "  <tbody>\n",
       "    <tr>\n",
       "      <th>0</th>\n",
       "      <td>Clothing</td>\n",
       "      <td>Jacket</td>\n",
       "      <td>89.99</td>\n",
       "    </tr>\n",
       "    <tr>\n",
       "      <th>1</th>\n",
       "      <td>Clothing</td>\n",
       "      <td>Jeans</td>\n",
       "      <td>59.99</td>\n",
       "    </tr>\n",
       "    <tr>\n",
       "      <th>2</th>\n",
       "      <td>Clothing</td>\n",
       "      <td>Shirt</td>\n",
       "      <td>29.99</td>\n",
       "    </tr>\n",
       "    <tr>\n",
       "      <th>3</th>\n",
       "      <td>Electronics</td>\n",
       "      <td>Laptop</td>\n",
       "      <td>999.99</td>\n",
       "    </tr>\n",
       "    <tr>\n",
       "      <th>4</th>\n",
       "      <td>Electronics</td>\n",
       "      <td>Phone</td>\n",
       "      <td>799.99</td>\n",
       "    </tr>\n",
       "    <tr>\n",
       "      <th>5</th>\n",
       "      <td>Electronics</td>\n",
       "      <td>TV</td>\n",
       "      <td>1299.99</td>\n",
       "    </tr>\n",
       "    <tr>\n",
       "      <th>6</th>\n",
       "      <td>Furniture</td>\n",
       "      <td>Chair</td>\n",
       "      <td>99.99</td>\n",
       "    </tr>\n",
       "    <tr>\n",
       "      <th>7</th>\n",
       "      <td>Furniture</td>\n",
       "      <td>Table</td>\n",
       "      <td>199.99</td>\n",
       "    </tr>\n",
       "  </tbody>\n",
       "</table>\n",
       "</div>"
      ],
      "text/plain": [
       "      category    name    price\n",
       "0     Clothing  Jacket    89.99\n",
       "1     Clothing   Jeans    59.99\n",
       "2     Clothing   Shirt    29.99\n",
       "3  Electronics  Laptop   999.99\n",
       "4  Electronics   Phone   799.99\n",
       "5  Electronics      TV  1299.99\n",
       "6    Furniture   Chair    99.99\n",
       "7    Furniture   Table   199.99"
      ]
     },
     "execution_count": 14,
     "metadata": {},
     "output_type": "execute_result"
    }
   ],
   "source": [
    "max_price_per_product"
   ]
  },
  {
   "cell_type": "markdown",
   "metadata": {},
   "source": [
    "### Objective:\n",
    "\n",
    "**Background:**\n",
    "\n",
    "You are a Principal Data Scientist at a healthcare company. You are given the task to analyze the combinations of different medications that patients are currently taking. Each patient can be on zero, one, or multiple medications at the same time. The aim is to find all unique combinations of medications that appear in the dataset.\n",
    "\n",
    "**Question:**\n",
    "\n",
    "Write a Python function that takes a list of lists, where each inner list represents the medications a single patient is taking. Use Python's `itertools` library to find all unique combinations of medications across all patients. Each combination should be represented as a sorted tuple.\n",
    "\n",
    "### Libraries Needed:\n",
    "\n",
    "```python\n",
    "from itertools import chain, combinations\n",
    "```\n",
    "\n",
    "### Inputs:\n",
    "\n",
    "- A list of lists named `medications_data`. Each inner list contains strings representing the names of medications a single patient is taking. The inner lists can be of varying lengths.\n",
    "\n",
    "### Expected Outputs:\n",
    "\n",
    "- The function should return a list of sorted tuples, where each tuple represents a unique combination of medications. The list should be sorted in ascending order based on the length of the tuples, and lexicographically within tuples of the same length.\n",
    "\n",
    "### Data:\n",
    "\n",
    "Here is an example dataset. You can copy/paste this into your Jupyter notebook to test your function.\n",
    "\n",
    "```python\n",
    "medications_data = [\n",
    "    [\"Aspirin\", \"Lipitor\"],\n",
    "    [\"Metformin\"],\n",
    "    [\"Aspirin\", \"Metformin\"],\n",
    "    [\"Lipitor\", \"Metformin\", \"Aspirin\"],\n",
    "    [\"Aspirin\"],\n",
    "    [\"Lipitor\"]\n",
    "]\n",
    "```"
   ]
  },
  {
   "cell_type": "code",
   "execution_count": 5,
   "metadata": {},
   "outputs": [],
   "source": [
    "medications_data = [\n",
    "    [\"Aspirin\", \"Lipitor\"],\n",
    "    [\"Metformin\"],\n",
    "    [\"Aspirin\", \"Metformin\"],\n",
    "    [\"Lipitor\", \"Metformin\", \"Aspirin\"],\n",
    "    [\"Aspirin\"],\n",
    "    [\"Lipitor\"]\n",
    "]"
   ]
  },
  {
   "cell_type": "code",
   "execution_count": 13,
   "metadata": {},
   "outputs": [],
   "source": [
    "from itertools import chain, combinations"
   ]
  },
  {
   "cell_type": "code",
   "execution_count": 16,
   "metadata": {},
   "outputs": [],
   "source": [
    "from itertools import chain, combinations\n",
    "\n",
    "def find_unique_combinations(medications_list):\n",
    "    # The itertools.chain function is used to conceptually flatten the list of lists into a single list.\n",
    "    all_medications = list(chain(*medications_list))\n",
    "    \n",
    "    # Initialize an empty set to store unique combinations\n",
    "    unique_combinations = set()\n",
    "    \n",
    "    # Loop through different possible lengths of combinations\n",
    "    for r in range(1, len(all_medications) + 1):\n",
    "        for combo in combinations(sorted(set(all_medications)), r):\n",
    "            unique_combinations.add(combo)\n",
    "    \n",
    "    # Sort the set of unique combinations by their length and lexicographically\n",
    "    unique_combinations = sorted(unique_combinations, key=lambda x: (len(x), x))\n",
    "    \n",
    "    return unique_combinations\n",
    "\n"
   ]
  },
  {
   "cell_type": "code",
   "execution_count": 17,
   "metadata": {},
   "outputs": [
    {
     "data": {
      "text/plain": [
       "[('Aspirin',),\n",
       " ('Lipitor',),\n",
       " ('Metformin',),\n",
       " ('Aspirin', 'Lipitor'),\n",
       " ('Aspirin', 'Metformin'),\n",
       " ('Lipitor', 'Metformin'),\n",
       " ('Aspirin', 'Lipitor', 'Metformin')]"
      ]
     },
     "execution_count": 17,
     "metadata": {},
     "output_type": "execute_result"
    }
   ],
   "source": [
    "find_unique_combinations(medications_data)"
   ]
  },
  {
   "cell_type": "markdown",
   "metadata": {},
   "source": [
    "---"
   ]
  },
  {
   "cell_type": "markdown",
   "metadata": {},
   "source": [
    "Absolutely, let's dive into iterables with a series of questions ranging from basic to advanced. Each question is designed to be a quick exercise that should not take more than 2 minutes to complete. \n",
    "\n",
    "### Question 1: Basic List Iteration\n",
    "\n",
    "**Objective:**\n",
    "\n",
    "Loop through the given list and print each element.\n",
    "\n",
    "**Input:**\n",
    "\n",
    "- A list named `my_list` with elements `[1, 2, 3, 4, 5]`.\n",
    "\n",
    "**Expected Output:**\n",
    "\n",
    "- Print each element in the list.\n",
    "\n",
    "---\n",
    "\n",
    "### Question 2: Iterate and Modify\n",
    "\n",
    "**Objective:**\n",
    "\n",
    "Loop through the given list and print each element squared.\n",
    "\n",
    "**Input:**\n",
    "\n",
    "- A list named `my_list` with elements `[1, 2, 3, 4, 5]`.\n",
    "\n",
    "**Expected Output:**\n",
    "\n",
    "- Print the square of each element in the list.\n",
    "\n",
    "---\n",
    "\n",
    "### Question 3: List Comprehension\n",
    "\n",
    "**Objective:**\n",
    "\n",
    "Create a new list that contains the square of each element in the given list using list comprehension.\n",
    "\n",
    "**Input:**\n",
    "\n",
    "- A list named `my_list` with elements `[1, 2, 3, 4, 5]`.\n",
    "\n",
    "**Expected Output:**\n",
    "\n",
    "- A new list containing the square of each element.\n",
    "\n",
    "---\n",
    "\n",
    "### Question 4: Generator Expression\n",
    "\n",
    "**Objective:**\n",
    "\n",
    "Use a generator expression to yield the square of each element in the given list.\n",
    "\n",
    "**Input:**\n",
    "\n",
    "- A list named `my_list` with elements `[1, 2, 3, 4, 5]`.\n",
    "\n",
    "**Expected Output:**\n",
    "\n",
    "- A generator that yields the square of each element when iterated.\n",
    "\n",
    "---\n",
    "\n",
    "### Question 5: Custom Iterable with `__iter__` and `__next__`\n",
    "\n",
    "**Objective:**\n",
    "\n",
    "Create a custom iterable class that yields the square of each element from 1 to \\( n \\).\n",
    "\n",
    "**Input:**\n",
    "\n",
    "- An integer \\( n \\).\n",
    "\n",
    "**Expected Output:**\n",
    "\n",
    "- A custom iterable object that, when iterated, yields the square of each number from 1 to \\( n \\).\n",
    "\n",
    "---\n",
    "\n",
    "Remember, you can use `for` loops, list comprehensions, or any other method you're comfortable with to iterate through these data structures. Good luck!"
   ]
  },
  {
   "cell_type": "code",
   "execution_count": 19,
   "metadata": {},
   "outputs": [
    {
     "name": "stdout",
     "output_type": "stream",
     "text": [
      "Q1\n",
      "1\n",
      "2\n",
      "3\n",
      "4\n",
      "5\n",
      "Q2\n",
      "1\n",
      "4\n",
      "9\n",
      "16\n",
      "25\n",
      "Q3\n"
     ]
    },
    {
     "data": {
      "text/plain": [
       "[1, 4, 9, 16, 25]"
      ]
     },
     "execution_count": 19,
     "metadata": {},
     "output_type": "execute_result"
    }
   ],
   "source": [
    "my_list = [1, 2, 3, 4, 5]\n",
    "\n",
    "#Q1\n",
    "print(\"Q1\")\n",
    "for i in my_list:\n",
    "    print(i)\n",
    "\n",
    "#Q2\n",
    "print(\"Q2\")\n",
    "for i in my_list:\n",
    "    print(i ** 2)\n",
    "\n",
    "#Q3\n",
    "print(\"Q3\")\n",
    "q3 = [i ** 2 for i in my_list]\n",
    "q3"
   ]
  },
  {
   "cell_type": "code",
   "execution_count": 25,
   "metadata": {},
   "outputs": [
    {
     "data": {
      "text/plain": [
       "[1, 4, 9, 16, 25]"
      ]
     },
     "execution_count": 25,
     "metadata": {},
     "output_type": "execute_result"
    }
   ],
   "source": [
    "def return_square(list_of_numbers):\n",
    "    for i in list_of_numbers:\n",
    "        yield i ** 2\n",
    "\n",
    "q4 = list(return_square(my_list))\n",
    "q4"
   ]
  },
  {
   "cell_type": "code",
   "execution_count": 26,
   "metadata": {},
   "outputs": [
    {
     "name": "stdout",
     "output_type": "stream",
     "text": [
      "1\n",
      "4\n",
      "9\n",
      "16\n",
      "25\n"
     ]
    }
   ],
   "source": [
    "class SquareIterable:\n",
    "    def __init__(self, n):\n",
    "        self.n = n\n",
    "        self.current = 0\n",
    "\n",
    "    def __iter__(self):\n",
    "        return self\n",
    "\n",
    "    def __next__(self):\n",
    "        self.current += 1\n",
    "        if self.current > self.n:\n",
    "            raise StopIteration\n",
    "        return self.current * self.current\n",
    "\n",
    "# Create an instance of the iterable class\n",
    "squares = SquareIterable(5)\n",
    "\n",
    "# Iterate through the iterable and print each square\n",
    "for square in squares:\n",
    "    print(square)\n"
   ]
  },
  {
   "cell_type": "markdown",
   "metadata": {},
   "source": [
    "---"
   ]
  },
  {
   "cell_type": "markdown",
   "metadata": {},
   "source": [
    "## Question 1: Basic Generator Function\n",
    "\n",
    "### Objective:\n",
    "Create a simple generator function that yields numbers from 1 to n.\n",
    "\n",
    "### Libraries Needed:\n",
    "- None\n",
    "\n",
    "### Inputs:\n",
    "- An integer \\( n \\)\n",
    "\n",
    "### Expected Outputs:\n",
    "- A generator that yields numbers from 1 to \\( n \\)\n",
    "\n"
   ]
  },
  {
   "cell_type": "code",
   "execution_count": 10,
   "metadata": {},
   "outputs": [
    {
     "data": {
      "text/plain": [
       "{1, 2, 3, 4, 5}"
      ]
     },
     "execution_count": 10,
     "metadata": {},
     "output_type": "execute_result"
    }
   ],
   "source": [
    "def one_to_n(n):\n",
    "    for i in range(1, n + 1):\n",
    "        yield i\n",
    "set(one_to_n(5))"
   ]
  },
  {
   "cell_type": "markdown",
   "metadata": {},
   "source": [
    "## Question 2: Fibonacci Sequence Generator\n",
    "\n",
    "### Objective:\n",
    "Create a generator function that yields the Fibonacci sequence up to \\( n \\) numbers.\n",
    "\n",
    "### Libraries Needed:\n",
    "- None\n",
    "\n",
    "### Inputs:\n",
    "- An integer \\( n \\)\n",
    "\n",
    "### Expected Outputs:\n",
    "- A generator that yields the first \\( n \\) Fibonacci numbers.\n",
    "\n"
   ]
  },
  {
   "cell_type": "code",
   "execution_count": 9,
   "metadata": {},
   "outputs": [
    {
     "data": {
      "text/plain": [
       "[0, 1, 1, 2, 3]"
      ]
     },
     "execution_count": 9,
     "metadata": {},
     "output_type": "execute_result"
    }
   ],
   "source": [
    "def fibonacci_generator(n):\n",
    "    a, b = 0, 1\n",
    "    for _ in range(n):\n",
    "        yield a\n",
    "        a, b = b, a + b\n",
    "        \n",
    "list(fibonacci_generator(5))"
   ]
  },
  {
   "cell_type": "markdown",
   "metadata": {},
   "source": [
    "## Question 3: Generator Expression for Squaring Numbers\n",
    "\n",
    "### Objective:\n",
    "Create a generator expression that yields the squares of numbers in a given list.\n",
    "\n",
    "### Libraries Needed:\n",
    "- None\n",
    "\n",
    "### Inputs:\n",
    "- A list of integers \\( [a_1, a_2, \\ldots, a_n] \\)\n",
    "\n",
    "### Expected Outputs:\n",
    "- A generator expression that yields \\( a_i^2 \\) for \\( i = 1,2, \\ldots, n \\)\n",
    "\n"
   ]
  },
  {
   "cell_type": "code",
   "execution_count": 11,
   "metadata": {},
   "outputs": [
    {
     "data": {
      "text/plain": [
       "[1, 4, 9, 16, 25]"
      ]
     },
     "execution_count": 11,
     "metadata": {},
     "output_type": "execute_result"
    }
   ],
   "source": [
    "def square_nums(list_of_nums):\n",
    "    for num in list_of_nums:\n",
    "        yield num * num\n",
    "list(square_nums([1, 2, 3, 4, 5]))"
   ]
  },
  {
   "cell_type": "markdown",
   "metadata": {},
   "source": [
    "## Question 4: Generators for Data Filtering\n",
    "\n",
    "### Objective:\n",
    "Create a generator function that filters out even numbers from a given list of integers.\n",
    "\n",
    "### Libraries Needed:\n",
    "- None\n",
    "\n",
    "### Inputs:\n",
    "- A list of integers \\( [a_1, a_2, \\ldots, a_n] \\)\n",
    "\n",
    "### Expected Outputs:\n",
    "- A generator function that yields all odd integers from the list.\n",
    "\n"
   ]
  },
  {
   "cell_type": "code",
   "execution_count": 13,
   "metadata": {},
   "outputs": [
    {
     "data": {
      "text/plain": [
       "[2, 4]"
      ]
     },
     "execution_count": 13,
     "metadata": {},
     "output_type": "execute_result"
    }
   ],
   "source": [
    "def pull_even_nums(list_of_nums):\n",
    "    for num in list_of_nums:\n",
    "        if num % 2 == 0:\n",
    "            yield num\n",
    "list(pull_even_nums([1, 2, 3, 4, 5]))"
   ]
  },
  {
   "cell_type": "markdown",
   "metadata": {},
   "source": [
    "## Question 5: Generator for Reading Large XML Data\n",
    "\n",
    "### Objective:\n",
    "Write a generator function to read an XML file and yield each record as a dictionary.\n",
    "\n",
    "### Libraries Needed:\n",
    "- `xml.etree.ElementTree`\n",
    "\n",
    "### Inputs:\n",
    "- An XML file containing records of people with fields `name` and `age`.\n",
    "\n",
    "### Expected Outputs:\n",
    "- A generator that yields each record as a dictionary.\n",
    "\n",
    "### Data:\n",
    "Here is a sample XML data for practice.\n",
    "\n",
    "```xml\n",
    "<persons>\n",
    "  <person>\n",
    "    <name>John</name>\n",
    "    <age>30</age>\n",
    "  </person>\n",
    "  <person>\n",
    "    <name>Jane</name>\n",
    "    <age>25</age>\n",
    "  </person>\n",
    "  <!-- Add more persons -->\n",
    "</persons>\n"
   ]
  },
  {
   "cell_type": "code",
   "execution_count": 15,
   "metadata": {},
   "outputs": [],
   "source": [
    "import xml.etree.ElementTree as et"
   ]
  },
  {
   "cell_type": "code",
   "execution_count": 20,
   "metadata": {},
   "outputs": [
    {
     "name": "stdout",
     "output_type": "stream",
     "text": [
      "{'John': '30', 'Jane': '25'}\n"
     ]
    }
   ],
   "source": [
    "xml_data = \"\"\"<persons>\n",
    "  <person>\n",
    "    <name>John</name>\n",
    "    <age>30</age>\n",
    "  </person>\n",
    "  <person>\n",
    "    <name>Jane</name>\n",
    "    <age>25</age>\n",
    "  </person>\n",
    "</persons>\"\"\"\n",
    "\n",
    "def extract_xml_as_dictionary(xml_string):\n",
    "    root = et.fromstring(xml_string)\n",
    "    data = {}\n",
    "    for person in root.findall('person'):\n",
    "        name = person.find('name').text.strip()  # Remove leading and trailing whitespace\n",
    "        age = person.find('age').text.strip()  # Remove leading and trailing whitespace\n",
    "        data[name] = age\n",
    "    return data\n",
    "\n",
    "# Example usage:\n",
    "result = extract_xml_as_dictionary(xml_data)\n",
    "print(result)\n"
   ]
  },
  {
   "cell_type": "code",
   "execution_count": null,
   "metadata": {},
   "outputs": [],
   "source": []
  }
 ],
 "metadata": {
  "kernelspec": {
   "display_name": "Python 3",
   "language": "python",
   "name": "python3"
  },
  "language_info": {
   "codemirror_mode": {
    "name": "ipython",
    "version": 3
   },
   "file_extension": ".py",
   "mimetype": "text/x-python",
   "name": "python",
   "nbconvert_exporter": "python",
   "pygments_lexer": "ipython3",
   "version": "3.9.6"
  },
  "orig_nbformat": 4
 },
 "nbformat": 4,
 "nbformat_minor": 2
}
