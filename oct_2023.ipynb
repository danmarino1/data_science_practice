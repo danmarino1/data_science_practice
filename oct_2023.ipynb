{
 "cells": [
  {
   "cell_type": "markdown",
   "metadata": {},
   "source": [
    "# October 2023 Questions"
   ]
  },
  {
   "cell_type": "code",
   "execution_count": 1,
   "metadata": {},
   "outputs": [],
   "source": [
    "import pandas as pd\n",
    "import numpy as np"
   ]
  },
  {
   "cell_type": "markdown",
   "metadata": {},
   "source": [
    "## Objective:\n",
    "### Background:\n",
    "As a principal data scientist, you often work with semi-structured data like XML. This XML data represents reviews from customers about a product, where each review has an associated rating and text content. \n",
    "\n",
    "### Question:\n",
    "Write a Python function that:\n",
    "1. Parses the XML data to extract reviews.\n",
    "2. Uses regex to remove any non-alphanumeric characters (excluding spaces) from the review text.\n",
    "3. Uses NLP techniques to tokenize the cleaned review text into words.\n",
    "4. Returns a dictionary where keys are unique words and values are the frequency of the word across all reviews.\n",
    "\n",
    "### Inputs:\n",
    "- XML string containing multiple 'review' tags. \n",
    "  - Each 'review' tag has two attributes: 'rating' (a number between 1 and 5) and 'text' (the actual review content).\n",
    "\n",
    "### Outputs:\n",
    "- A dictionary with:\n",
    "  - keys: unique words (strings)\n",
    "  - values: frequency of the word across all reviews (int).\n",
    "\n",
    "### Libraries Needed:\n",
    "- xml.etree.ElementTree\n",
    "- re\n",
    "- nltk.tokenize\n"
   ]
  },
  {
   "cell_type": "code",
   "execution_count": 2,
   "metadata": {},
   "outputs": [],
   "source": [
    "## Data:\n",
    "xml_data = \"\"\"\n",
    "<data>\n",
    "    <review rating=\"5\">I love this product! It's fantastic.</review>\n",
    "    <review rating=\"3\">It's okay, not the best. Could be better.</review>\n",
    "    <review rating=\"1\">Really bad product. Don't buy!</review>\n",
    "    <review rating=\"4\">Pretty good, but there's room for improvement.</review>\n",
    "    <review rating=\"2\">Meh, I've had better products before.</review>\n",
    "    <review rating=\"3\">It's decent. Worth the price.</review>\n",
    "    <review rating=\"5\">Amazing! Highly recommend to everyone.</review>\n",
    "</data>\n",
    "\"\"\"\n"
   ]
  },
  {
   "cell_type": "code",
   "execution_count": 3,
   "metadata": {},
   "outputs": [],
   "source": [
    "# craft a function to parse the xml data to extract reviews and ratings\n",
    "def parse_xml(xml_data):\n",
    "    \"\"\"\n",
    "    Parse XML data to extract reviews and ratings.\n",
    "    \"\"\"\n",
    "    return pd.read_xml(xml_data, xpath=\".//review\", parser=\"lxml\")"
   ]
  },
  {
   "cell_type": "code",
   "execution_count": 4,
   "metadata": {},
   "outputs": [
    {
     "data": {
      "text/html": [
       "<div>\n",
       "<style scoped>\n",
       "    .dataframe tbody tr th:only-of-type {\n",
       "        vertical-align: middle;\n",
       "    }\n",
       "\n",
       "    .dataframe tbody tr th {\n",
       "        vertical-align: top;\n",
       "    }\n",
       "\n",
       "    .dataframe thead th {\n",
       "        text-align: right;\n",
       "    }\n",
       "</style>\n",
       "<table border=\"1\" class=\"dataframe\">\n",
       "  <thead>\n",
       "    <tr style=\"text-align: right;\">\n",
       "      <th></th>\n",
       "      <th>rating</th>\n",
       "      <th>review</th>\n",
       "    </tr>\n",
       "  </thead>\n",
       "  <tbody>\n",
       "    <tr>\n",
       "      <th>0</th>\n",
       "      <td>5</td>\n",
       "      <td>I love this product! It's fantastic.</td>\n",
       "    </tr>\n",
       "    <tr>\n",
       "      <th>1</th>\n",
       "      <td>3</td>\n",
       "      <td>It's okay, not the best. Could be better.</td>\n",
       "    </tr>\n",
       "    <tr>\n",
       "      <th>2</th>\n",
       "      <td>1</td>\n",
       "      <td>Really bad product. Don't buy!</td>\n",
       "    </tr>\n",
       "    <tr>\n",
       "      <th>3</th>\n",
       "      <td>4</td>\n",
       "      <td>Pretty good, but there's room for improvement.</td>\n",
       "    </tr>\n",
       "    <tr>\n",
       "      <th>4</th>\n",
       "      <td>2</td>\n",
       "      <td>Meh, I've had better products before.</td>\n",
       "    </tr>\n",
       "    <tr>\n",
       "      <th>5</th>\n",
       "      <td>3</td>\n",
       "      <td>It's decent. Worth the price.</td>\n",
       "    </tr>\n",
       "    <tr>\n",
       "      <th>6</th>\n",
       "      <td>5</td>\n",
       "      <td>Amazing! Highly recommend to everyone.</td>\n",
       "    </tr>\n",
       "  </tbody>\n",
       "</table>\n",
       "</div>"
      ],
      "text/plain": [
       "   rating                                          review\n",
       "0       5            I love this product! It's fantastic.\n",
       "1       3       It's okay, not the best. Could be better.\n",
       "2       1                  Really bad product. Don't buy!\n",
       "3       4  Pretty good, but there's room for improvement.\n",
       "4       2           Meh, I've had better products before.\n",
       "5       3                   It's decent. Worth the price.\n",
       "6       5          Amazing! Highly recommend to everyone."
      ]
     },
     "execution_count": 4,
     "metadata": {},
     "output_type": "execute_result"
    }
   ],
   "source": [
    "parse_xml(xml_data)"
   ]
  },
  {
   "cell_type": "code",
   "execution_count": 5,
   "metadata": {},
   "outputs": [],
   "source": [
    "#regex to remove non-alphanumeric characters\n",
    "import re\n",
    "def remove_non_alphanumeric(text):\n",
    "    \"\"\"\n",
    "    Remove non-alphanumeric characters from text.\n",
    "    \"\"\"\n",
    "    return re.sub(r'[^a-zA-Z0-9\\s]', '', text)"
   ]
  },
  {
   "cell_type": "code",
   "execution_count": 10,
   "metadata": {},
   "outputs": [],
   "source": [
    "#apply remove_non_alphanumeric function to the reviews column\n",
    "def clean_reviews(df):\n",
    "    \"\"\"\n",
    "    Clean reviews column in df.\n",
    "    \"\"\"\n",
    "    df['review'] = df['review'].apply(remove_non_alphanumeric)\n",
    "    return df"
   ]
  },
  {
   "cell_type": "code",
   "execution_count": 11,
   "metadata": {},
   "outputs": [
    {
     "data": {
      "text/html": [
       "<div>\n",
       "<style scoped>\n",
       "    .dataframe tbody tr th:only-of-type {\n",
       "        vertical-align: middle;\n",
       "    }\n",
       "\n",
       "    .dataframe tbody tr th {\n",
       "        vertical-align: top;\n",
       "    }\n",
       "\n",
       "    .dataframe thead th {\n",
       "        text-align: right;\n",
       "    }\n",
       "</style>\n",
       "<table border=\"1\" class=\"dataframe\">\n",
       "  <thead>\n",
       "    <tr style=\"text-align: right;\">\n",
       "      <th></th>\n",
       "      <th>rating</th>\n",
       "      <th>review</th>\n",
       "    </tr>\n",
       "  </thead>\n",
       "  <tbody>\n",
       "    <tr>\n",
       "      <th>0</th>\n",
       "      <td>5</td>\n",
       "      <td>I love this product Its fantastic</td>\n",
       "    </tr>\n",
       "    <tr>\n",
       "      <th>1</th>\n",
       "      <td>3</td>\n",
       "      <td>Its okay not the best Could be better</td>\n",
       "    </tr>\n",
       "    <tr>\n",
       "      <th>2</th>\n",
       "      <td>1</td>\n",
       "      <td>Really bad product Dont buy</td>\n",
       "    </tr>\n",
       "    <tr>\n",
       "      <th>3</th>\n",
       "      <td>4</td>\n",
       "      <td>Pretty good but theres room for improvement</td>\n",
       "    </tr>\n",
       "    <tr>\n",
       "      <th>4</th>\n",
       "      <td>2</td>\n",
       "      <td>Meh Ive had better products before</td>\n",
       "    </tr>\n",
       "    <tr>\n",
       "      <th>5</th>\n",
       "      <td>3</td>\n",
       "      <td>Its decent Worth the price</td>\n",
       "    </tr>\n",
       "    <tr>\n",
       "      <th>6</th>\n",
       "      <td>5</td>\n",
       "      <td>Amazing Highly recommend to everyone</td>\n",
       "    </tr>\n",
       "  </tbody>\n",
       "</table>\n",
       "</div>"
      ],
      "text/plain": [
       "   rating                                       review\n",
       "0       5            I love this product Its fantastic\n",
       "1       3        Its okay not the best Could be better\n",
       "2       1                  Really bad product Dont buy\n",
       "3       4  Pretty good but theres room for improvement\n",
       "4       2           Meh Ive had better products before\n",
       "5       3                   Its decent Worth the price\n",
       "6       5         Amazing Highly recommend to everyone"
      ]
     },
     "execution_count": 11,
     "metadata": {},
     "output_type": "execute_result"
    }
   ],
   "source": [
    "clean_reviews(parse_xml(xml_data))"
   ]
  },
  {
   "cell_type": "code",
   "execution_count": 12,
   "metadata": {},
   "outputs": [],
   "source": [
    "# Make a dictionary across the ratings column, the keys will be each word mentioned in reviews, and the values will be the number of times that word was mentioned in reviews\n",
    "def count_words(df):\n",
    "    \"\"\"\n",
    "    Count the number of times each word is mentioned in reviews.\n",
    "    \"\"\"\n",
    "    word_count = {}\n",
    "    for row in df.itertuples():\n",
    "        for word in row.review.split():\n",
    "            if word in word_count:\n",
    "                word_count[word] += 1\n",
    "            else:\n",
    "                word_count[word] = 1\n",
    "    return word_count"
   ]
  },
  {
   "cell_type": "code",
   "execution_count": 13,
   "metadata": {},
   "outputs": [
    {
     "data": {
      "text/plain": [
       "{'I': 1,\n",
       " 'love': 1,\n",
       " 'this': 1,\n",
       " 'product': 2,\n",
       " 'Its': 3,\n",
       " 'fantastic': 1,\n",
       " 'okay': 1,\n",
       " 'not': 1,\n",
       " 'the': 2,\n",
       " 'best': 1,\n",
       " 'Could': 1,\n",
       " 'be': 1,\n",
       " 'better': 2,\n",
       " 'Really': 1,\n",
       " 'bad': 1,\n",
       " 'Dont': 1,\n",
       " 'buy': 1,\n",
       " 'Pretty': 1,\n",
       " 'good': 1,\n",
       " 'but': 1,\n",
       " 'theres': 1,\n",
       " 'room': 1,\n",
       " 'for': 1,\n",
       " 'improvement': 1,\n",
       " 'Meh': 1,\n",
       " 'Ive': 1,\n",
       " 'had': 1,\n",
       " 'products': 1,\n",
       " 'before': 1,\n",
       " 'decent': 1,\n",
       " 'Worth': 1,\n",
       " 'price': 1,\n",
       " 'Amazing': 1,\n",
       " 'Highly': 1,\n",
       " 'recommend': 1,\n",
       " 'to': 1,\n",
       " 'everyone': 1}"
      ]
     },
     "execution_count": 13,
     "metadata": {},
     "output_type": "execute_result"
    }
   ],
   "source": [
    "count_words(clean_reviews(parse_xml(xml_data)))"
   ]
  },
  {
   "cell_type": "code",
   "execution_count": 14,
   "metadata": {},
   "outputs": [],
   "source": [
    "def sort_dict(word_count_dict):\n",
    "    \"\"\"\n",
    "    Sort dictionary by values.\n",
    "    \"\"\"\n",
    "    return sorted(word_count_dict.items(), key=lambda x: x[1], reverse=True)"
   ]
  },
  {
   "cell_type": "code",
   "execution_count": 16,
   "metadata": {},
   "outputs": [],
   "source": [
    "def count_words_from_xml(xml_data):\n",
    "    \"\"\"\n",
    "    Count the number of times each word is mentioned in reviews from XML data.\n",
    "    \"\"\"\n",
    "    return sort_dict(count_words(clean_reviews(parse_xml(xml_data))))"
   ]
  },
  {
   "cell_type": "code",
   "execution_count": 17,
   "metadata": {},
   "outputs": [
    {
     "data": {
      "text/plain": [
       "[('Its', 3),\n",
       " ('product', 2),\n",
       " ('the', 2),\n",
       " ('better', 2),\n",
       " ('I', 1),\n",
       " ('love', 1),\n",
       " ('this', 1),\n",
       " ('fantastic', 1),\n",
       " ('okay', 1),\n",
       " ('not', 1),\n",
       " ('best', 1),\n",
       " ('Could', 1),\n",
       " ('be', 1),\n",
       " ('Really', 1),\n",
       " ('bad', 1),\n",
       " ('Dont', 1),\n",
       " ('buy', 1),\n",
       " ('Pretty', 1),\n",
       " ('good', 1),\n",
       " ('but', 1),\n",
       " ('theres', 1),\n",
       " ('room', 1),\n",
       " ('for', 1),\n",
       " ('improvement', 1),\n",
       " ('Meh', 1),\n",
       " ('Ive', 1),\n",
       " ('had', 1),\n",
       " ('products', 1),\n",
       " ('before', 1),\n",
       " ('decent', 1),\n",
       " ('Worth', 1),\n",
       " ('price', 1),\n",
       " ('Amazing', 1),\n",
       " ('Highly', 1),\n",
       " ('recommend', 1),\n",
       " ('to', 1),\n",
       " ('everyone', 1)]"
      ]
     },
     "execution_count": 17,
     "metadata": {},
     "output_type": "execute_result"
    }
   ],
   "source": [
    "count_words_from_xml(xml_data)"
   ]
  },
  {
   "cell_type": "markdown",
   "metadata": {},
   "source": [
    "---"
   ]
  },
  {
   "cell_type": "markdown",
   "metadata": {},
   "source": []
  }
 ],
 "metadata": {
  "kernelspec": {
   "display_name": "Python 3",
   "language": "python",
   "name": "python3"
  },
  "language_info": {
   "codemirror_mode": {
    "name": "ipython",
    "version": 3
   },
   "file_extension": ".py",
   "mimetype": "text/x-python",
   "name": "python",
   "nbconvert_exporter": "python",
   "pygments_lexer": "ipython3",
   "version": "3.9.6"
  },
  "orig_nbformat": 4
 },
 "nbformat": 4,
 "nbformat_minor": 2
}
