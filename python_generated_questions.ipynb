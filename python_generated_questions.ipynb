{
 "cells": [
  {
   "cell_type": "code",
   "execution_count": 1,
   "metadata": {},
   "outputs": [],
   "source": [
    "import pandas as pd\n",
    "import numpy as np\n",
    "import datetime\n",
    "import random\n",
    "import json"
   ]
  },
  {
   "attachments": {},
   "cell_type": "markdown",
   "metadata": {},
   "source": [
    "The output of your code should be the original DataFrame, but with missing values in the 'Revenue' column filled in as described, a new 'Rating Category' column, and the mean revenue for each 'Rating Category'. The mean revenue should be output as a pandas Series."
   ]
  },
  {
   "cell_type": "code",
   "execution_count": 2,
   "metadata": {},
   "outputs": [],
   "source": [
    "#movies_df = pd.read_clipboard(sep=',')\n",
    "#movies_df.to_csv(\"movies_sample.csv\", index=False)\n",
    "movies_df = pd.read_csv(\"movies_sample.csv\")"
   ]
  },
  {
   "cell_type": "code",
   "execution_count": 3,
   "metadata": {},
   "outputs": [],
   "source": [
    "median_revenue = movies_df['Revenue'].median()"
   ]
  },
  {
   "cell_type": "code",
   "execution_count": 4,
   "metadata": {},
   "outputs": [],
   "source": [
    "movies_df.Revenue.fillna(median_revenue, inplace=True)"
   ]
  },
  {
   "cell_type": "code",
   "execution_count": 5,
   "metadata": {},
   "outputs": [
    {
     "data": {
      "text/html": [
       "<div><div id=2f67f339-d317-4af4-9b1f-50de4e57bf32 style=\"display:none; background-color:#9D6CFF; color:white; width:200px; height:30px; padding-left:5px; border-radius:4px; flex-direction:row; justify-content:space-around; align-items:center;\" onmouseover=\"this.style.backgroundColor='#BA9BF8'\" onmouseout=\"this.style.backgroundColor='#9D6CFF'\" onclick=\"window.commands?.execute('create-mitosheet-from-dataframe-output');\">See Full Dataframe in Mito</div> <script> if (window.commands.hasCommand('create-mitosheet-from-dataframe-output')) document.getElementById('2f67f339-d317-4af4-9b1f-50de4e57bf32').style.display = 'flex' </script> <table border=\"1\" class=\"dataframe\">\n",
       "  <thead>\n",
       "    <tr style=\"text-align: right;\">\n",
       "      <th></th>\n",
       "      <th>Title</th>\n",
       "      <th>Genre</th>\n",
       "      <th>Year</th>\n",
       "      <th>Runtime</th>\n",
       "      <th>Rating</th>\n",
       "      <th>Revenue</th>\n",
       "      <th>Rating Category</th>\n",
       "    </tr>\n",
       "  </thead>\n",
       "  <tbody>\n",
       "    <tr>\n",
       "      <th>0</th>\n",
       "      <td>Jurassic World</td>\n",
       "      <td>Action</td>\n",
       "      <td>2015</td>\n",
       "      <td>124</td>\n",
       "      <td>7.0</td>\n",
       "      <td>652.27</td>\n",
       "      <td>Very Good</td>\n",
       "    </tr>\n",
       "    <tr>\n",
       "      <th>1</th>\n",
       "      <td>Manchester by the Sea</td>\n",
       "      <td>Drama</td>\n",
       "      <td>2016</td>\n",
       "      <td>137</td>\n",
       "      <td>7.9</td>\n",
       "      <td>47.70</td>\n",
       "      <td>Very Good</td>\n",
       "    </tr>\n",
       "    <tr>\n",
       "      <th>2</th>\n",
       "      <td>The Circle</td>\n",
       "      <td>Thriller</td>\n",
       "      <td>2017</td>\n",
       "      <td>110</td>\n",
       "      <td>5.3</td>\n",
       "      <td>20.48</td>\n",
       "      <td>Average</td>\n",
       "    </tr>\n",
       "    <tr>\n",
       "      <th>3</th>\n",
       "      <td>The Avengers</td>\n",
       "      <td>Action</td>\n",
       "      <td>2012</td>\n",
       "      <td>143</td>\n",
       "      <td>8.1</td>\n",
       "      <td>623.28</td>\n",
       "      <td>Very Good</td>\n",
       "    </tr>\n",
       "    <tr>\n",
       "      <th>4</th>\n",
       "      <td>Toy Story 3</td>\n",
       "      <td>Animation</td>\n",
       "      <td>2010</td>\n",
       "      <td>103</td>\n",
       "      <td>8.3</td>\n",
       "      <td>414.98</td>\n",
       "      <td>Very Good</td>\n",
       "    </tr>\n",
       "    <tr>\n",
       "      <th>5</th>\n",
       "      <td>John Wick</td>\n",
       "      <td>Action</td>\n",
       "      <td>2014</td>\n",
       "      <td>101</td>\n",
       "      <td>7.2</td>\n",
       "      <td>43.00</td>\n",
       "      <td>Very Good</td>\n",
       "    </tr>\n",
       "    <tr>\n",
       "      <th>6</th>\n",
       "      <td>The Shape of Water</td>\n",
       "      <td>Fantasy</td>\n",
       "      <td>2017</td>\n",
       "      <td>123</td>\n",
       "      <td>7.4</td>\n",
       "      <td>63.86</td>\n",
       "      <td>Very Good</td>\n",
       "    </tr>\n",
       "    <tr>\n",
       "      <th>7</th>\n",
       "      <td>Inside Out</td>\n",
       "      <td>Animation</td>\n",
       "      <td>2015</td>\n",
       "      <td>95</td>\n",
       "      <td>8.2</td>\n",
       "      <td>356.45</td>\n",
       "      <td>Very Good</td>\n",
       "    </tr>\n",
       "    <tr>\n",
       "      <th>8</th>\n",
       "      <td>Frozen</td>\n",
       "      <td>Animation</td>\n",
       "      <td>2013</td>\n",
       "      <td>102</td>\n",
       "      <td>7.5</td>\n",
       "      <td>400.74</td>\n",
       "      <td>Very Good</td>\n",
       "    </tr>\n",
       "  </tbody>\n",
       "</table></div>"
      ],
      "text/plain": [
       "                   Title      Genre  Year  Runtime  Rating  Revenue  \\\n",
       "0         Jurassic World     Action  2015      124     7.0   652.27   \n",
       "1  Manchester by the Sea      Drama  2016      137     7.9    47.70   \n",
       "2             The Circle   Thriller  2017      110     5.3    20.48   \n",
       "3           The Avengers     Action  2012      143     8.1   623.28   \n",
       "4            Toy Story 3  Animation  2010      103     8.3   414.98   \n",
       "5              John Wick     Action  2014      101     7.2    43.00   \n",
       "6     The Shape of Water    Fantasy  2017      123     7.4    63.86   \n",
       "7             Inside Out  Animation  2015       95     8.2   356.45   \n",
       "8                 Frozen  Animation  2013      102     7.5   400.74   \n",
       "\n",
       "  Rating Category  \n",
       "0       Very Good  \n",
       "1       Very Good  \n",
       "2         Average  \n",
       "3       Very Good  \n",
       "4       Very Good  \n",
       "5       Very Good  \n",
       "6       Very Good  \n",
       "7       Very Good  \n",
       "8       Very Good  "
      ]
     },
     "execution_count": 5,
     "metadata": {},
     "output_type": "execute_result"
    }
   ],
   "source": [
    "def rate_films(x):\n",
    "    if x >= 8.5:\n",
    "        return \"Excellent\"\n",
    "    elif x >= 7:\n",
    "        return \"Very Good\"\n",
    "    elif x >= 5.5:\n",
    "        return \"Good\"\n",
    "    else:\n",
    "        return \"Average\"\n",
    "\n",
    "\n",
    "movies_df[\"Rating Category\"] = movies_df[\"Rating\"].apply(rate_films)\n",
    "movies_df"
   ]
  },
  {
   "cell_type": "code",
   "execution_count": 7,
   "metadata": {},
   "outputs": [
    {
     "data": {
      "text/html": [
       "<div><div id=bf0a34e4-bb03-4220-a391-dac79df59194 style=\"display:none; background-color:#9D6CFF; color:white; width:200px; height:30px; padding-left:5px; border-radius:4px; flex-direction:row; justify-content:space-around; align-items:center;\" onmouseover=\"this.style.backgroundColor='#BA9BF8'\" onmouseout=\"this.style.backgroundColor='#9D6CFF'\" onclick=\"window.commands?.execute('create-mitosheet-from-dataframe-output');\">See Full Dataframe in Mito</div> <script> if (window.commands.hasCommand('create-mitosheet-from-dataframe-output')) document.getElementById('bf0a34e4-bb03-4220-a391-dac79df59194').style.display = 'flex' </script> <table border=\"1\" class=\"dataframe\">\n",
       "  <thead>\n",
       "    <tr style=\"text-align: right;\">\n",
       "      <th></th>\n",
       "      <th>Revenue</th>\n",
       "    </tr>\n",
       "    <tr>\n",
       "      <th>Rating Category</th>\n",
       "      <th></th>\n",
       "    </tr>\n",
       "  </thead>\n",
       "  <tbody>\n",
       "    <tr>\n",
       "      <th>Average</th>\n",
       "      <td>20.480</td>\n",
       "    </tr>\n",
       "    <tr>\n",
       "      <th>Very Good</th>\n",
       "      <td>325.285</td>\n",
       "    </tr>\n",
       "  </tbody>\n",
       "</table></div>"
      ],
      "text/plain": [
       "                 Revenue\n",
       "Rating Category         \n",
       "Average           20.480\n",
       "Very Good        325.285"
      ]
     },
     "execution_count": 7,
     "metadata": {},
     "output_type": "execute_result"
    }
   ],
   "source": [
    "movies_df.groupby(\"Rating Category\")[['Revenue']].mean()"
   ]
  },
  {
   "cell_type": "code",
   "execution_count": 8,
   "metadata": {},
   "outputs": [],
   "source": [
    "### Generated solution\n",
    "import pandas as pd\n",
    "movies_df['Decade'] = movies_df['Year'].apply(lambda x: f\"{x//10*10}_{x//10*10+9}\")\n",
    "movies_df['Revenue'] = movies_df.groupby(['Decade', 'Genre'])['Revenue'].transform(lambda x: x.fillna(x.median()))\n",
    "movies_df['Rating Category'] = pd.cut(movies_df['Rating'], bins=[0,5.5,7,8.5,10], labels=['Average','Good','Very Good','Excellent'])\n",
    "mean_revenue = movies_df.groupby('Rating Category').mean()['Revenue']\n"
   ]
  },
  {
   "attachments": {},
   "cell_type": "markdown",
   "metadata": {},
   "source": [
    "for the revenue null value fills, the generated answer makes a great point:\n",
    " - The expression {movies_df.groupby(['Decade', 'Genre'])['Revenue'].transform(lambda x: x.fillna(x.median()))} is an example of a more sophisticated method of data imputation, which takes into account the context of the missing data.\n",
    "\n",
    "- In this case, you're filling in missing 'Revenue' values with the median revenue of movies that are in the same genre and were released in the same decade. This makes sense because movies from the same genre and decade are more likely to have similar revenues compared to movies from a different genre or time period. This method provides a more accurate estimate of the missing values.\n",
    "\n",
    "- On the other hand, median_revenue = movies['Revenue'].median() calculates the median revenue across all movies, regardless of their genre or release date. If you were to fill in missing values with this median, you'd be ignoring the context in which the data is missing. For example, you'd be treating a drama movie from the 1980s the same as an action movie from the 2020s, even though these types of movies might have very different revenues.\n",
    "\n",
    "- Therefore, the first method is generally better because it's more likely to provide an accurate estimate of the missing data. However, the best method to use always depends on the specific dataset and problem at hand.\n",
    "\n",
    "for the rating category, I also learned a bunch.\n",
    "- movies_df['Rating Category'] = pd.cut(movies_df['Rating'], bins=[0,5.5,7,8.5,10], labels=['Average','Good','Very Good','Excellent'])\n",
    "- This line of code is using the pd.cut() function to create a new column in the DataFrame called 'Rating Category'. The pd.cut() function is a way to create categories (or \"bins\") based on numeric values. In this case, it's being used to categorize the 'Rating' column into different groups based on the rating score.\n",
    "\n",
    "- The bins argument is specifying the boundaries for each category. The list [0,5.5,7,8.5,10] means that the categories are:\n",
    "\n",
    "- This line of code is essentially mapping each movie's rating to a category. It's an example of \"binning\" or \"bucketing\", which are common techniques used in data analysis and machine learning to deal with continuous variables. In this case, it's being used to simplify the 'Rating' column and make it easier to analyze."
   ]
  },
  {
   "attachments": {},
   "cell_type": "markdown",
   "metadata": {},
   "source": [
    "### You are given a list of dictionaries where each dictionary represents a movie. Each dictionary has the following key-value pairs:\n",
    "\n",
    "- 'Title': The title of the movie (string).\n",
    "- 'Genre': The genre of the movie (string).\n",
    "- 'Year': The year the movie was released (integer).\n",
    "- 'Runtime': The length of the movie in minutes (integer).\n",
    "- 'Rating': The average user rating out of 10 (float).\n",
    "Your task is to write a Python function that takes in this list and a genre, and returns the average rating of movies in that genre.\n",
    "\n",
    "In addition, write an SQL query that would perform the same operation on a table with the same columns.\n",
    "\n",
    "### Libraries Needed\n",
    "\n",
    "- Python: None\n",
    "- SQL: None (but you need to know SQL syntax)\n",
    "Inputs\n",
    "\n",
    "### The Python function average_rating_by_genre(movies: List[dict], genre: str) -> float: takes in two arguments:\n",
    "\n",
    "- movies: a list of dictionaries where each dictionary represents a movie with the key-value pairs described above.\n",
    "- genre: a string representing the genre of the movies for which you want to calculate the average rating.\n",
    "The SQL query should be written assuming you have a table named movies with the same columns as the dictionaries in the Python function.\n",
    "\n",
    "## Expected Outputs\n",
    "\n",
    "The Python function should return a float representing the average rating of movies in the input genre.\n",
    "\n",
    "The SQL query should return a single row with a single column (which you can call 'Average Rating') that represents the average rating of movies in the specified genre.\n",
    "\n"
   ]
  },
  {
   "cell_type": "code",
   "execution_count": 9,
   "metadata": {},
   "outputs": [],
   "source": [
    "movies = [\n",
    "    {'Title': 'Jurassic World', 'Genre': 'Action', 'Year': 2015, 'Runtime': 124, 'Rating': 7.0},\n",
    "    {'Title': 'Inside Out', 'Genre': 'Animation', 'Year': 2015, 'Runtime': 95, 'Rating': 8.2},\n",
    "    {'Title': 'Toy Story 3', 'Genre': 'Animation', 'Year': 2010, 'Runtime': 103, 'Rating': 8.3},\n",
    "    {'Title': 'John Wick', 'Genre': 'Action', 'Year': 2014, 'Runtime': 101, 'Rating': 7.2},\n",
    "    {'Title': 'The Circle', 'Genre': 'Thriller', 'Year': 2017, 'Runtime': 110, 'Rating': 5.3},\n",
    "    {'Title': 'Manchester by the Sea', 'Genre': 'Drama', 'Year': 2016, 'Runtime': 137, 'Rating': 7.9},\n",
    "    {'Title': 'The Avengers', 'Genre': 'Action', 'Year': 2012, 'Runtime': 143, 'Rating': 8.1},\n",
    "    {'Title': 'Frozen', 'Genre': 'Animation', 'Year': 2013, 'Runtime': 102, 'Rating': 7.5},\n",
    "    {'Title': 'The Shape of Water', 'Genre': 'Fantasy', 'Year': 2017, 'Runtime': 123, 'Rating': 7.4},\n",
    "]"
   ]
  },
  {
   "cell_type": "code",
   "execution_count": 26,
   "metadata": {},
   "outputs": [],
   "source": [
    "genre_ratings=[]\n",
    "def average_by_genre(dictionary, genre):\n",
    "    for movie in dictionary:\n",
    "        if movie['Genre'] == genre:\n",
    "            genre_ratings.append(movie['Rating'])\n",
    "    return(round(sum(genre_ratings) / len(genre_ratings),2))"
   ]
  },
  {
   "cell_type": "code",
   "execution_count": 27,
   "metadata": {},
   "outputs": [
    {
     "data": {
      "text/plain": [
       "7.4"
      ]
     },
     "execution_count": 27,
     "metadata": {},
     "output_type": "execute_result"
    }
   ],
   "source": [
    "average_by_genre(movies, 'Fantasy')"
   ]
  },
  {
   "cell_type": "code",
   "execution_count": 28,
   "metadata": {},
   "outputs": [
    {
     "name": "stdout",
     "output_type": "stream",
     "text": [
      "The average rating of Action movies is 7.43\n",
      "The average rating of Animation movies is 7.67\n",
      "The average rating of Drama movies is 7.7\n",
      "The average rating of Fantasy movies is 7.67\n",
      "The average rating of Thriller movies is 7.43\n"
     ]
    }
   ],
   "source": [
    "for genre in ['Action', 'Animation', 'Drama', 'Fantasy', 'Thriller']:\n",
    "    print(f\"The average rating of {genre} movies is {average_by_genre(movies, genre)}\")"
   ]
  },
  {
   "attachments": {},
   "cell_type": "markdown",
   "metadata": {},
   "source": [
    "If I did this in SQL on a table called Movies, I would use the following query:"
   ]
  },
  {
   "attachments": {},
   "cell_type": "markdown",
   "metadata": {},
   "source": [
    "    SELECT Genre, AVG(Rating) AS Avg_Rating, COUNT(*) AS Num_Ratings\n",
    "\n",
    "    FROM Movies\n",
    "\n",
    "    GROUP BY Genre\n",
    "\n",
    "    ORDER BY Avg_Rating DESC;"
   ]
  },
  {
   "cell_type": "markdown",
   "metadata": {},
   "source": [
    "### You are tasked with implementing a MovieDatabase class. The class should be initialized with a list of movies, where each movie is a dictionary with the following key-value pairs:\n",
    "\n",
    "- 'Title': The title of the movie (string).\n",
    "- 'Genre': The genre of the movie (string).\n",
    "- 'Year': The year the movie was released (integer).\n",
    "- 'Runtime': The length of the movie in minutes (integer).\n",
    "- 'Rating': The average user rating out of 10 (float).\n",
    "The MovieDatabase class should have a method average_rating_by_genre(self, genre: str) -> float: which returns the average rating of movies in the specified genre.\n",
    "\n",
    "### Libraries Needed\n",
    "\n",
    "- Python: None\n",
    "### Inputs\n",
    "\n",
    "The MovieDatabase class should be initialized with a movies: List[dict] argument, where movies is a list of dictionaries where each dictionary represents a movie with the key-value pairs described above.\n",
    "\n",
    "The average_rating_by_genre method should take in a single argument:\n",
    "\n",
    "- genre: a string representing the genre of the movies for which you want to calculate the average rating.\n",
    "Expected Outputs\n",
    "\n",
    "The average_rating_by_genre method should return a float representing the average rating of movies in the input genre.\n",
    "\n"
   ]
  },
  {
   "cell_type": "code",
   "execution_count": 30,
   "metadata": {},
   "outputs": [
    {
     "data": {
      "text/plain": [
       "<__main__.Movie at 0x7fbe97d16160>"
      ]
     },
     "execution_count": 30,
     "metadata": {},
     "output_type": "execute_result"
    }
   ],
   "source": [
    "class Movie:\n",
    "    def __init__(self, dictionary):\n",
    "        self.title = dictionary['Title']\n",
    "        self.genre = dictionary['Genre']\n",
    "        self.year = dictionary['Year']\n",
    "        self.runtime = dictionary['Runtime']\n",
    "        self.rating = dictionary['Rating']"
   ]
  },
  {
   "cell_type": "code",
   "execution_count": 35,
   "metadata": {},
   "outputs": [
    {
     "data": {
      "text/plain": [
       "'Animation'"
      ]
     },
     "execution_count": 35,
     "metadata": {},
     "output_type": "execute_result"
    }
   ],
   "source": [
    "movie2 = Movie(movies[2])\n",
    "movie2.genre"
   ]
  },
  {
   "cell_type": "code",
   "execution_count": 38,
   "metadata": {},
   "outputs": [],
   "source": [
    "movies_as_objects = []\n",
    "\n",
    "for i in movies:\n",
    "    movies_as_objects.append(Movie(i))"
   ]
  },
  {
   "cell_type": "code",
   "execution_count": 42,
   "metadata": {},
   "outputs": [
    {
     "data": {
      "text/plain": [
       "7.0"
      ]
     },
     "execution_count": 42,
     "metadata": {},
     "output_type": "execute_result"
    }
   ],
   "source": [
    "movies_as_objects[0].rating"
   ]
  },
  {
   "attachments": {},
   "cell_type": "markdown",
   "metadata": {},
   "source": [
    "Generated solution:"
   ]
  },
  {
   "cell_type": "code",
   "execution_count": null,
   "metadata": {},
   "outputs": [],
   "source": [
    "class MovieDatabase:\n",
    "    def __init__(self, movies: List[dict]):\n",
    "        self.movies = movies\n",
    "\n",
    "    def average_rating_by_genre(self, genre: str) -> float:\n",
    "        genre_movies = [movie for movie in self.movies if movie['Genre'] == genre]\n",
    "        average_rating = sum(movie['Rating'] for movie in genre_movies) / len(genre_movies)\n",
    "        return average_rating"
   ]
  },
  {
   "cell_type": "markdown",
   "metadata": {},
   "source": [
    "This took a different approach than what I ended up making, as it created a more comprehensive class that could be used to do more than just find the average rating by genre. I think this is a good approach. I also like how the class is initialized with a list of dictionaries, which is the same format as the original data."
   ]
  },
  {
   "cell_type": "markdown",
   "metadata": {},
   "source": [
    "### Question:\n",
    "\n",
    "You are given a small sample of a larger dataset, represented as a string that can be read into a pandas DataFrame using the `pd.read_clipboard()` function. The dataset represents sales data for a retail store and includes four columns: 'Product', 'Date', 'Sales', and 'Profit'.\n",
    "\n"
   ]
  },
  {
   "cell_type": "markdown",
   "metadata": {},
   "source": [
    "\n",
    "Your task is to:\n",
    "\n",
    "1. Read the data into a DataFrame.\n",
    "2. Convert the 'Date' column to datetime type.\n",
    "3. Replace any non-numeric characters in the 'Profit' column, then convert it to a numeric type.\n",
    "4. Calculate the total sales and profit for each product, and store the result in a new DataFrame.\n",
    "\n",
    "### Libraries Needed:\n",
    "\n",
    "- pandas\n",
    "- numpy\n",
    "\n",
    "### Inputs:\n",
    "\n",
    "- A string representing the dataset.\n",
    "\n",
    "### Expected Outputs:\n",
    "\n",
    "- A DataFrame representing the cleaned dataset.\n",
    "- A DataFrame representing the total sales and profit for each product.\n"
   ]
  },
  {
   "cell_type": "code",
   "execution_count": 12,
   "metadata": {},
   "outputs": [],
   "source": [
    "# Importing libraries\n",
    "import pandas as pd\n",
    "import numpy as np\n",
    "\n",
    "# Reading the data\n",
    "data = \"\"\"\n",
    "Product\tDate\tSales\tProfit\n",
    "Printer\t2022-05-17\t12\t$100\n",
    "Laptop\t2022-05-18\t10\t$150\n",
    "Printer\t2022-05-19\t8\t$75\n",
    "Monitor\t2022-05-20\t15\t$120\n",
    "Laptop\t2022-05-21\t7\t$100\n",
    "\"\"\"\n",
    "df = pd.read_clipboard()"
   ]
  },
  {
   "cell_type": "code",
   "execution_count": 13,
   "metadata": {},
   "outputs": [
    {
     "data": {
      "text/html": [
       "<div>\n",
       "<style scoped>\n",
       "    .dataframe tbody tr th:only-of-type {\n",
       "        vertical-align: middle;\n",
       "    }\n",
       "\n",
       "    .dataframe tbody tr th {\n",
       "        vertical-align: top;\n",
       "    }\n",
       "\n",
       "    .dataframe thead th {\n",
       "        text-align: right;\n",
       "    }\n",
       "</style>\n",
       "<table border=\"1\" class=\"dataframe\">\n",
       "  <thead>\n",
       "    <tr style=\"text-align: right;\">\n",
       "      <th></th>\n",
       "      <th>Product</th>\n",
       "      <th>Date</th>\n",
       "      <th>Sales</th>\n",
       "      <th>Profit</th>\n",
       "    </tr>\n",
       "  </thead>\n",
       "  <tbody>\n",
       "    <tr>\n",
       "      <th>0</th>\n",
       "      <td>Printer</td>\n",
       "      <td>2022-05-17</td>\n",
       "      <td>12</td>\n",
       "      <td>$100</td>\n",
       "    </tr>\n",
       "    <tr>\n",
       "      <th>1</th>\n",
       "      <td>Laptop</td>\n",
       "      <td>2022-05-18</td>\n",
       "      <td>10</td>\n",
       "      <td>$150</td>\n",
       "    </tr>\n",
       "    <tr>\n",
       "      <th>2</th>\n",
       "      <td>Printer</td>\n",
       "      <td>2022-05-19</td>\n",
       "      <td>8</td>\n",
       "      <td>$75</td>\n",
       "    </tr>\n",
       "    <tr>\n",
       "      <th>3</th>\n",
       "      <td>Monitor</td>\n",
       "      <td>2022-05-20</td>\n",
       "      <td>15</td>\n",
       "      <td>$120</td>\n",
       "    </tr>\n",
       "    <tr>\n",
       "      <th>4</th>\n",
       "      <td>Laptop</td>\n",
       "      <td>2022-05-21</td>\n",
       "      <td>7</td>\n",
       "      <td>$100</td>\n",
       "    </tr>\n",
       "  </tbody>\n",
       "</table>\n",
       "</div>"
      ],
      "text/plain": [
       "   Product        Date  Sales Profit\n",
       "0  Printer  2022-05-17     12   $100\n",
       "1   Laptop  2022-05-18     10   $150\n",
       "2  Printer  2022-05-19      8    $75\n",
       "3  Monitor  2022-05-20     15   $120\n",
       "4   Laptop  2022-05-21      7   $100"
      ]
     },
     "execution_count": 13,
     "metadata": {},
     "output_type": "execute_result"
    }
   ],
   "source": [
    "df"
   ]
  },
  {
   "cell_type": "code",
   "execution_count": 14,
   "metadata": {},
   "outputs": [],
   "source": [
    "df.Date = df.Date.astype('datetime64[ns]')\n",
    "\n",
    "df['Profit'] = df['Profit'].str.replace('$','').astype('int')\n",
    "df['Sales'] = df['Sales'].astype('int')\n"
   ]
  },
  {
   "cell_type": "code",
   "execution_count": 16,
   "metadata": {},
   "outputs": [
    {
     "name": "stdout",
     "output_type": "stream",
     "text": [
      "Total Sales: $52\n",
      "Total Profit: $545\n"
     ]
    }
   ],
   "source": [
    "print(f\"Total Sales: ${df.Sales.sum()}\")\n",
    "print(f\"Total Profit: ${df.Profit.sum()}\")"
   ]
  },
  {
   "cell_type": "markdown",
   "metadata": {},
   "source": [
    "### Question:\n",
    "\n",
    "Given a string of characters, write a function that calculates the frequency of each character in the string. Additionally, the function should return the character with the maximum frequency and the character with the minimum frequency.\n",
    "\n",
    "The function signature should be `def char_frequency(string: str) -> dict, str, str:`. The function should return a\n"
   ]
  },
  {
   "cell_type": "code",
   "execution_count": null,
   "metadata": {},
   "outputs": [],
   "source": []
  },
  {
   "cell_type": "code",
   "execution_count": 17,
   "metadata": {},
   "outputs": [],
   "source": [
    "def frequency_characters(s):\n",
    "    split_string = s.split()\n",
    "    character_frequency = {}\n",
    "    for character in split_string:\n",
    "        if character in character_frequency:\n",
    "            character_frequency[character] += 1\n",
    "        else:\n",
    "            character_frequency[character] = 1\n",
    "    return character_frequency\n",
    "\n"
   ]
  },
  {
   "cell_type": "code",
   "execution_count": 18,
   "metadata": {},
   "outputs": [
    {
     "data": {
      "text/plain": [
       "{'I': 1, 'am': 1, 'learning': 1, 'data': 1, 'science': 1}"
      ]
     },
     "execution_count": 18,
     "metadata": {},
     "output_type": "execute_result"
    }
   ],
   "source": [
    "frequency_characters(\"I am learning data science\")"
   ]
  },
  {
   "cell_type": "code",
   "execution_count": 19,
   "metadata": {},
   "outputs": [],
   "source": [
    "def frequency_characters(s):\n",
    "    split_string = s.split()\n",
    "    character_frequency = {}\n",
    "    for word in split_string:\n",
    "        for character in word:\n",
    "            if character in character_frequency:\n",
    "                character_frequency[character] += 1\n",
    "            else:\n",
    "                character_frequency[character] = 1\n",
    "    return character_frequency\n"
   ]
  },
  {
   "cell_type": "code",
   "execution_count": 20,
   "metadata": {},
   "outputs": [
    {
     "data": {
      "text/plain": [
       "{'T': 1,\n",
       " 'h': 2,\n",
       " 'e': 3,\n",
       " 'q': 1,\n",
       " 'u': 2,\n",
       " 'i': 1,\n",
       " 'c': 1,\n",
       " 'k': 1,\n",
       " 'b': 1,\n",
       " 'r': 2,\n",
       " 'o': 4,\n",
       " 'w': 1,\n",
       " 'n': 1,\n",
       " 'f': 1,\n",
       " 'x': 1,\n",
       " 'j': 1,\n",
       " 'm': 1,\n",
       " 'p': 1,\n",
       " 's': 1,\n",
       " 'v': 1,\n",
       " 't': 1,\n",
       " 'l': 1,\n",
       " 'a': 1,\n",
       " 'z': 1,\n",
       " 'y': 1,\n",
       " 'd': 1,\n",
       " 'g': 1}"
      ]
     },
     "execution_count": 20,
     "metadata": {},
     "output_type": "execute_result"
    }
   ],
   "source": [
    "frequency_characters(\"The quick brown fox jumps over the lazy dog\")"
   ]
  },
  {
   "cell_type": "code",
   "execution_count": 31,
   "metadata": {},
   "outputs": [
    {
     "name": "stdout",
     "output_type": "stream",
     "text": [
      "['o', 'l', 'u'] 2\n"
     ]
    }
   ],
   "source": [
    "character_freqs = frequency_characters(\"Honolulu\")\n",
    "\n",
    "# get the most frequent character, the number of times it occurs, and any other characters that occur the same number of times\n",
    "max_freq = max(character_freqs.values())\n",
    "most_frequent_characters = [k for k, v in character_freqs.items() if v == max_freq]\n",
    "print(most_frequent_characters, max_freq)"
   ]
  },
  {
   "attachments": {},
   "cell_type": "markdown",
   "metadata": {},
   "source": [
    "### Question:\n",
    "\n",
    "You are given a list of dictionaries representing student grades for different subjects. Each dictionary includes the student's name and their grades for math, science, and english. Here's an example:\n",
    "```python\n",
    "grades = grades = [\n",
    "    {\"name\": \"Alice\", \"math\": 85, \"science\": 92, \"english\": 88},\n",
    "    {\"name\": \"Bob\", \"math\": 90, \"science\": 87, \"english\": 95},\n",
    "    {\"name\": \"Charlie\", \"math\": 82, \"science\": 89, \"english\": 91},\n",
    "    {\"name\": \"David\", \"math\": 78, \"science\": 76, \"english\": 84},\n",
    "    {\"name\": \"Eve\", \"math\": 92, \"science\": 90, \"english\": 93},\n",
    "    {\"name\": \"Frank\", \"math\": 89, \"science\": 92, \"english\": 87},\n",
    "    {\"name\": \"Grace\", \"math\": 91, \"science\": 88, \"english\": 93},\n",
    "    {\"name\": \"Henry\", \"math\": 86, \"science\": 85, \"english\": 90},\n",
    "    {\"name\": \"Ivy\", \"math\": 93, \"science\": 91, \"english\": 92},\n",
    "    {\"name\": \"Jack\", \"math\": 88, \"science\": 86, \"english\": 89},\n",
    "    {\"name\": \"Kate\", \"math\": 90, \"science\": 93, \"english\": 87},\n",
    "    {\"name\": \"Liam\", \"math\": 92, \"science\": 90, \"english\": 88},\n",
    "    {\"name\": \"Mia\", \"math\": 84, \"science\": 87, \"english\": 91},\n",
    "    {\"name\": \"Noah\", \"math\": 91, \"science\": 82, \"english\": 89},\n",
    "    {\"name\": \"Olivia\", \"math\": 89, \"science\": 88, \"english\": 90},\n",
    "    {\"name\": \"Patrick\", \"math\": 87, \"science\": 91, \"english\": 88},\n",
    "    {\"name\": \"Quinn\", \"math\": 86, \"science\": 90, \"english\": 87},\n",
    "    {\"name\": \"Ryan\", \"math\": 92, \"science\": 89, \"english\": 92},\n",
    "    {\"name\": \"Sara\", \"math\": 88, \"science\": 87, \"english\": 90},\n",
    "    {\"name\": \"Thomas\", \"math\": 90, \"science\": 88, \"english\": 89}\n",
    "]\n",
    "\n",
    "```\n",
    "#### Your task is to write a function that:\n",
    "\n",
    "Calculates the average grade for each student across all subjects, and adds this to the student's dictionary under the key \"average\".\n",
    "Returns a list of all students who have an average grade of 90 or higher. The list should contain only the names of the students, not their entire dictionaries."
   ]
  },
  {
   "cell_type": "code",
   "execution_count": 30,
   "metadata": {},
   "outputs": [],
   "source": [
    "grades = grades = [\n",
    "    {\"name\": \"Alice\", \"math\": 85, \"science\": 92, \"english\": 88},\n",
    "    {\"name\": \"Bob\", \"math\": 90, \"science\": 87, \"english\": 95},\n",
    "    {\"name\": \"Charlie\", \"math\": 82, \"science\": 89, \"english\": 91},\n",
    "    {\"name\": \"David\", \"math\": 78, \"science\": 76, \"english\": 84},\n",
    "    {\"name\": \"Eve\", \"math\": 92, \"science\": 90, \"english\": 93},\n",
    "    {\"name\": \"Frank\", \"math\": 89, \"science\": 92, \"english\": 87},\n",
    "    {\"name\": \"Grace\", \"math\": 91, \"science\": 88, \"english\": 93},\n",
    "    {\"name\": \"Henry\", \"math\": 86, \"science\": 85, \"english\": 90},\n",
    "    {\"name\": \"Ivy\", \"math\": 93, \"science\": 91, \"english\": 92},\n",
    "    {\"name\": \"Jack\", \"math\": 88, \"science\": 86, \"english\": 89},\n",
    "    {\"name\": \"Kate\", \"math\": 90, \"science\": 93, \"english\": 87},\n",
    "    {\"name\": \"Liam\", \"math\": 92, \"science\": 90, \"english\": 88},\n",
    "    {\"name\": \"Mia\", \"math\": 84, \"science\": 87, \"english\": 91},\n",
    "    {\"name\": \"Noah\", \"math\": 91, \"science\": 82, \"english\": 89},\n",
    "    {\"name\": \"Olivia\", \"math\": 89, \"science\": 88, \"english\": 90},\n",
    "    {\"name\": \"Patrick\", \"math\": 87, \"science\": 91, \"english\": 88},\n",
    "    {\"name\": \"Quinn\", \"math\": 86, \"science\": 90, \"english\": 87},\n",
    "    {\"name\": \"Ryan\", \"math\": 92, \"science\": 89, \"english\": 92},\n",
    "    {\"name\": \"Sara\", \"math\": 88, \"science\": 87, \"english\": 90},\n",
    "    {\"name\": \"Thomas\", \"math\": 90, \"science\": 88, \"english\": 89}\n",
    "]\n"
   ]
  },
  {
   "cell_type": "code",
   "execution_count": 31,
   "metadata": {},
   "outputs": [
    {
     "data": {
      "text/plain": [
       "[{'name': 'Alice', 'math': 85, 'science': 92, 'english': 88},\n",
       " {'name': 'Bob', 'math': 90, 'science': 87, 'english': 95},\n",
       " {'name': 'Charlie', 'math': 82, 'science': 89, 'english': 91},\n",
       " {'name': 'David', 'math': 78, 'science': 76, 'english': 84},\n",
       " {'name': 'Eve', 'math': 92, 'science': 90, 'english': 93},\n",
       " {'name': 'Frank', 'math': 89, 'science': 92, 'english': 87},\n",
       " {'name': 'Grace', 'math': 91, 'science': 88, 'english': 93},\n",
       " {'name': 'Henry', 'math': 86, 'science': 85, 'english': 90},\n",
       " {'name': 'Ivy', 'math': 93, 'science': 91, 'english': 92},\n",
       " {'name': 'Jack', 'math': 88, 'science': 86, 'english': 89},\n",
       " {'name': 'Kate', 'math': 90, 'science': 93, 'english': 87},\n",
       " {'name': 'Liam', 'math': 92, 'science': 90, 'english': 88},\n",
       " {'name': 'Mia', 'math': 84, 'science': 87, 'english': 91},\n",
       " {'name': 'Noah', 'math': 91, 'science': 82, 'english': 89},\n",
       " {'name': 'Olivia', 'math': 89, 'science': 88, 'english': 90},\n",
       " {'name': 'Patrick', 'math': 87, 'science': 91, 'english': 88},\n",
       " {'name': 'Quinn', 'math': 86, 'science': 90, 'english': 87},\n",
       " {'name': 'Ryan', 'math': 92, 'science': 89, 'english': 92},\n",
       " {'name': 'Sara', 'math': 88, 'science': 87, 'english': 90},\n",
       " {'name': 'Thomas', 'math': 90, 'science': 88, 'english': 89}]"
      ]
     },
     "execution_count": 31,
     "metadata": {},
     "output_type": "execute_result"
    }
   ],
   "source": [
    "grades"
   ]
  },
  {
   "cell_type": "code",
   "execution_count": 32,
   "metadata": {},
   "outputs": [],
   "source": [
    "def top_students(dataset):\n",
    "    studs = []\n",
    "    for student in dataset:\n",
    "        student['average'] = round((student['math'] + student['science'] + student['english']) / 3, 2)\n",
    "        if student['average'] > 90:\n",
    "            studs.append(student['name'])\n",
    "    return studs"
   ]
  },
  {
   "cell_type": "code",
   "execution_count": 33,
   "metadata": {},
   "outputs": [
    {
     "data": {
      "text/plain": [
       "[{'name': 'Alice', 'math': 85, 'science': 92, 'english': 88},\n",
       " {'name': 'Bob', 'math': 90, 'science': 87, 'english': 95},\n",
       " {'name': 'Charlie', 'math': 82, 'science': 89, 'english': 91},\n",
       " {'name': 'David', 'math': 78, 'science': 76, 'english': 84},\n",
       " {'name': 'Eve', 'math': 92, 'science': 90, 'english': 93},\n",
       " {'name': 'Frank', 'math': 89, 'science': 92, 'english': 87},\n",
       " {'name': 'Grace', 'math': 91, 'science': 88, 'english': 93},\n",
       " {'name': 'Henry', 'math': 86, 'science': 85, 'english': 90},\n",
       " {'name': 'Ivy', 'math': 93, 'science': 91, 'english': 92},\n",
       " {'name': 'Jack', 'math': 88, 'science': 86, 'english': 89},\n",
       " {'name': 'Kate', 'math': 90, 'science': 93, 'english': 87},\n",
       " {'name': 'Liam', 'math': 92, 'science': 90, 'english': 88},\n",
       " {'name': 'Mia', 'math': 84, 'science': 87, 'english': 91},\n",
       " {'name': 'Noah', 'math': 91, 'science': 82, 'english': 89},\n",
       " {'name': 'Olivia', 'math': 89, 'science': 88, 'english': 90},\n",
       " {'name': 'Patrick', 'math': 87, 'science': 91, 'english': 88},\n",
       " {'name': 'Quinn', 'math': 86, 'science': 90, 'english': 87},\n",
       " {'name': 'Ryan', 'math': 92, 'science': 89, 'english': 92},\n",
       " {'name': 'Sara', 'math': 88, 'science': 87, 'english': 90},\n",
       " {'name': 'Thomas', 'math': 90, 'science': 88, 'english': 89}]"
      ]
     },
     "execution_count": 33,
     "metadata": {},
     "output_type": "execute_result"
    }
   ],
   "source": [
    "grades"
   ]
  },
  {
   "cell_type": "code",
   "execution_count": 34,
   "metadata": {},
   "outputs": [
    {
     "data": {
      "text/plain": [
       "['Bob', 'Eve', 'Grace', 'Ivy', 'Ryan']"
      ]
     },
     "execution_count": 34,
     "metadata": {},
     "output_type": "execute_result"
    }
   ],
   "source": [
    "top_students = top_students(grades)\n",
    "top_students"
   ]
  },
  {
   "attachments": {},
   "cell_type": "markdown",
   "metadata": {},
   "source": [
    "#### If I want to do this with Classes"
   ]
  },
  {
   "cell_type": "code",
   "execution_count": 44,
   "metadata": {},
   "outputs": [
    {
     "name": "stdout",
     "output_type": "stream",
     "text": [
      "Name: Alice, Math: 85, Science: 92, English: 88\n",
      "Name: Bob, Math: 90, Science: 87, English: 95\n",
      "Name: Charlie, Math: 82, Science: 89, English: 96\n",
      "Name: David, Math: 78, Science: 76, English: 84\n",
      "Name: Eve, Math: 92, Science: 90, English: 93\n",
      "Name: Frank, Math: 89, Science: 92, English: 87\n",
      "Name: Grace, Math: 91, Science: 88, English: 93\n",
      "Name: Henry, Math: 86, Science: 85, English: 90\n",
      "Name: Ivy, Math: 93, Science: 91, English: 92\n",
      "Name: Jack, Math: 88, Science: 86, English: 89\n",
      "Name: Kate, Math: 90, Science: 93, English: 87\n",
      "Name: Liam, Math: 92, Science: 90, English: 88\n",
      "Name: Mia, Math: 84, Science: 87, English: 91\n",
      "Name: Noah, Math: 91, Science: 82, English: 89\n",
      "Name: Olivia, Math: 89, Science: 88, English: 90\n",
      "Name: Patrick, Math: 87, Science: 91, English: 88\n",
      "Name: Quinn, Math: 86, Science: 90, English: 87\n",
      "Name: Ryan, Math: 92, Science: 89, English: 92\n",
      "Name: Sara, Math: 88, Science: 87, English: 90\n",
      "Name: Thomas, Math: 90, Science: 88, English: 89\n"
     ]
    }
   ],
   "source": [
    "class Student:\n",
    "    def __init__(self, name, math_grade, science_grade, english_grade):\n",
    "        self.name = name\n",
    "        self.math_grade = math_grade\n",
    "        self.science_grade = science_grade\n",
    "        self.english_grade = english_grade\n",
    "\n",
    "# Create instances of the Student class for the given students\n",
    "students = [\n",
    "    Student(\"Alice\", 85, 92, 88),\n",
    "    Student(\"Bob\", 90, 87, 95),\n",
    "    Student(\"Charlie\", 82, 89, 96),\n",
    "    Student(\"David\", 78, 76, 84),\n",
    "    Student(\"Eve\", 92, 90, 93)\n",
    "]\n",
    "\n",
    "# Add 20 additional students\n",
    "students.append(Student(\"Frank\", 89, 92, 87))\n",
    "students.append(Student(\"Grace\", 91, 88, 93))\n",
    "students.append(Student(\"Henry\", 86, 85, 90))\n",
    "students.append(Student(\"Ivy\", 93, 91, 92))\n",
    "students.append(Student(\"Jack\", 88, 86, 89))\n",
    "students.append(Student(\"Kate\", 90, 93, 87))\n",
    "students.append(Student(\"Liam\", 92, 90, 88))\n",
    "students.append(Student(\"Mia\", 84, 87, 91))\n",
    "students.append(Student(\"Noah\", 91, 82, 89))\n",
    "students.append(Student(\"Olivia\", 89, 88, 90))\n",
    "students.append(Student(\"Patrick\", 87, 91, 88))\n",
    "students.append(Student(\"Quinn\", 86, 90, 87))\n",
    "students.append(Student(\"Ryan\", 92, 89, 92))\n",
    "students.append(Student(\"Sara\", 88, 87, 90))\n",
    "students.append(Student(\"Thomas\", 90, 88, 89))\n",
    "\n",
    "# Print the list of students\n",
    "for student in students:\n",
    "    print(f\"Name: {student.name}, Math: {student.math_grade}, Science: {student.science_grade}, English: {student.english_grade}\")\n"
   ]
  },
  {
   "cell_type": "code",
   "execution_count": 45,
   "metadata": {},
   "outputs": [],
   "source": [
    "def find_studs(students):\n",
    "    studs = []\n",
    "    for student in students:\n",
    "        # Use list comprehensions to find average grade across all subjects. append studs with names of students' whose average grade is greater than 90\n",
    "        if sum([student.math_grade, student.science_grade, student.english_grade]) / 3 > 90:\n",
    "            studs.append(student.name)\n",
    "    return studs"
   ]
  },
  {
   "cell_type": "code",
   "execution_count": 50,
   "metadata": {},
   "outputs": [
    {
     "data": {
      "text/plain": [
       "['Bob', 'Eve', 'Grace', 'Ivy', 'Ryan']"
      ]
     },
     "execution_count": 50,
     "metadata": {},
     "output_type": "execute_result"
    }
   ],
   "source": [
    "find_studs(students)"
   ]
  },
  {
   "attachments": {},
   "cell_type": "markdown",
   "metadata": {},
   "source": [
    "You have a dataset that represents the scores of a series of data science quizzes. However, you suspect that some of these scores are incorrect due to system errors. You want to clean this data by removing the outliers using the Z-score method and then calculate some basic statistics about the cleaned data.\n",
    "\n",
    "Write a Python function that takes a Pandas DataFrame and a column name. The function should:\n",
    "\n",
    "1. Calculate the Z-score for each score in the specified column of the DataFrame.\n",
    "2. Consider scores to be outliers if their Z-scores are greater than 3 or less than -3.\n",
    "3. Remove the outliers from the DataFrame.\n",
    "4. Calculate and print the mean, median, and standard deviation of the cleaned scores.\n"
   ]
  },
  {
   "cell_type": "code",
   "execution_count": 51,
   "metadata": {},
   "outputs": [],
   "source": [
    "import pandas as pd\n",
    "import numpy as np"
   ]
  },
  {
   "cell_type": "code",
   "execution_count": 70,
   "metadata": {},
   "outputs": [
    {
     "name": "stdout",
     "output_type": "stream",
     "text": [
      "   quiz_id      score\n",
      "0       q1  41.743762\n",
      "1       q2  73.636967\n",
      "2       q3  44.450448\n",
      "3       q4  91.189612\n",
      "4       q5  74.946726\n",
      "..     ...        ...\n",
      "95     q96  77.682330\n",
      "96     q97  87.977109\n",
      "97     q98  40.593418\n",
      "98     q99  98.832670\n",
      "99    q100  54.781276\n",
      "\n",
      "[100 rows x 2 columns]\n"
     ]
    }
   ],
   "source": [
    "quiz_ids = ['q1', 'q2', 'q3', 'q4', 'q5', 'q6', 'q7', 'q8', 'q9', 'q10', 'q11', 'q12']\n",
    "\n",
    "# Generate random scores between 0 and 100\n",
    "scores = np.random.uniform(0, 100, 88)\n",
    "\n",
    "# Create a DataFrame with 100 rows\n",
    "df = pd.DataFrame({'quiz_id': quiz_ids + ['q' + str(i) for i in range(13, 101)],\n",
    "                   'score': list(scores) + list(np.random.uniform(0, 100, 12))})\n",
    "\n",
    "# Display the extended DataFrame\n",
    "print(df)\n"
   ]
  },
  {
   "cell_type": "code",
   "execution_count": 71,
   "metadata": {},
   "outputs": [],
   "source": [
    "quiz_scores['z_score'] = (quiz_scores['score'] - quiz_scores['score'].mean()) / quiz_scores['score'].std()"
   ]
  },
  {
   "attachments": {},
   "cell_type": "markdown",
   "metadata": {},
   "source": [
    "z = (x - μ) / σ\n",
    "\n",
    "\n",
    "<u>​Where:</u>\n",
    "\n",
    "- z is the z-score\n",
    "- x is the observed value,\n",
    "- μ is the mean of the population, and\n",
    "- σ is the standard deviation of the population.\n",
    " \n"
   ]
  },
  {
   "cell_type": "code",
   "execution_count": 72,
   "metadata": {},
   "outputs": [
    {
     "data": {
      "text/html": [
       "<div>\n",
       "<style scoped>\n",
       "    .dataframe tbody tr th:only-of-type {\n",
       "        vertical-align: middle;\n",
       "    }\n",
       "\n",
       "    .dataframe tbody tr th {\n",
       "        vertical-align: top;\n",
       "    }\n",
       "\n",
       "    .dataframe thead th {\n",
       "        text-align: right;\n",
       "    }\n",
       "</style>\n",
       "<table border=\"1\" class=\"dataframe\">\n",
       "  <thead>\n",
       "    <tr style=\"text-align: right;\">\n",
       "      <th></th>\n",
       "      <th>quiz_id</th>\n",
       "      <th>score</th>\n",
       "      <th>z_score</th>\n",
       "    </tr>\n",
       "  </thead>\n",
       "  <tbody>\n",
       "    <tr>\n",
       "      <th>0</th>\n",
       "      <td>q1</td>\n",
       "      <td>90.5</td>\n",
       "      <td>-0.053555</td>\n",
       "    </tr>\n",
       "    <tr>\n",
       "      <th>1</th>\n",
       "      <td>q2</td>\n",
       "      <td>85.0</td>\n",
       "      <td>-0.125690</td>\n",
       "    </tr>\n",
       "    <tr>\n",
       "      <th>2</th>\n",
       "      <td>q3</td>\n",
       "      <td>95.5</td>\n",
       "      <td>0.012022</td>\n",
       "    </tr>\n",
       "    <tr>\n",
       "      <th>3</th>\n",
       "      <td>q4</td>\n",
       "      <td>80.0</td>\n",
       "      <td>-0.191267</td>\n",
       "    </tr>\n",
       "    <tr>\n",
       "      <th>4</th>\n",
       "      <td>q5</td>\n",
       "      <td>84.0</td>\n",
       "      <td>-0.138805</td>\n",
       "    </tr>\n",
       "    <tr>\n",
       "      <th>5</th>\n",
       "      <td>q6</td>\n",
       "      <td>96.5</td>\n",
       "      <td>0.025138</td>\n",
       "    </tr>\n",
       "    <tr>\n",
       "      <th>6</th>\n",
       "      <td>q7</td>\n",
       "      <td>82.0</td>\n",
       "      <td>-0.165036</td>\n",
       "    </tr>\n",
       "    <tr>\n",
       "      <th>7</th>\n",
       "      <td>q8</td>\n",
       "      <td>97.5</td>\n",
       "      <td>0.038253</td>\n",
       "    </tr>\n",
       "    <tr>\n",
       "      <th>8</th>\n",
       "      <td>q9</td>\n",
       "      <td>79.0</td>\n",
       "      <td>-0.204382</td>\n",
       "    </tr>\n",
       "    <tr>\n",
       "      <th>9</th>\n",
       "      <td>q10</td>\n",
       "      <td>95.0</td>\n",
       "      <td>0.005465</td>\n",
       "    </tr>\n",
       "    <tr>\n",
       "      <th>10</th>\n",
       "      <td>q11</td>\n",
       "      <td>300.0</td>\n",
       "      <td>2.694132</td>\n",
       "    </tr>\n",
       "    <tr>\n",
       "      <th>11</th>\n",
       "      <td>q12</td>\n",
       "      <td>-50.0</td>\n",
       "      <td>-1.896275</td>\n",
       "    </tr>\n",
       "  </tbody>\n",
       "</table>\n",
       "</div>"
      ],
      "text/plain": [
       "   quiz_id  score   z_score\n",
       "0       q1   90.5 -0.053555\n",
       "1       q2   85.0 -0.125690\n",
       "2       q3   95.5  0.012022\n",
       "3       q4   80.0 -0.191267\n",
       "4       q5   84.0 -0.138805\n",
       "5       q6   96.5  0.025138\n",
       "6       q7   82.0 -0.165036\n",
       "7       q8   97.5  0.038253\n",
       "8       q9   79.0 -0.204382\n",
       "9      q10   95.0  0.005465\n",
       "10     q11  300.0  2.694132\n",
       "11     q12  -50.0 -1.896275"
      ]
     },
     "execution_count": 72,
     "metadata": {},
     "output_type": "execute_result"
    }
   ],
   "source": [
    "quiz_scores"
   ]
  },
  {
   "cell_type": "code",
   "execution_count": 73,
   "metadata": {},
   "outputs": [
    {
     "data": {
      "text/html": [
       "<div>\n",
       "<style scoped>\n",
       "    .dataframe tbody tr th:only-of-type {\n",
       "        vertical-align: middle;\n",
       "    }\n",
       "\n",
       "    .dataframe tbody tr th {\n",
       "        vertical-align: top;\n",
       "    }\n",
       "\n",
       "    .dataframe thead th {\n",
       "        text-align: right;\n",
       "    }\n",
       "</style>\n",
       "<table border=\"1\" class=\"dataframe\">\n",
       "  <thead>\n",
       "    <tr style=\"text-align: right;\">\n",
       "      <th></th>\n",
       "      <th>quiz_id</th>\n",
       "      <th>score</th>\n",
       "      <th>z_score</th>\n",
       "      <th>Outlier</th>\n",
       "    </tr>\n",
       "  </thead>\n",
       "  <tbody>\n",
       "    <tr>\n",
       "      <th>0</th>\n",
       "      <td>q1</td>\n",
       "      <td>90.5</td>\n",
       "      <td>-0.053555</td>\n",
       "      <td>False</td>\n",
       "    </tr>\n",
       "    <tr>\n",
       "      <th>1</th>\n",
       "      <td>q2</td>\n",
       "      <td>85.0</td>\n",
       "      <td>-0.125690</td>\n",
       "      <td>False</td>\n",
       "    </tr>\n",
       "    <tr>\n",
       "      <th>2</th>\n",
       "      <td>q3</td>\n",
       "      <td>95.5</td>\n",
       "      <td>0.012022</td>\n",
       "      <td>False</td>\n",
       "    </tr>\n",
       "    <tr>\n",
       "      <th>3</th>\n",
       "      <td>q4</td>\n",
       "      <td>80.0</td>\n",
       "      <td>-0.191267</td>\n",
       "      <td>False</td>\n",
       "    </tr>\n",
       "    <tr>\n",
       "      <th>4</th>\n",
       "      <td>q5</td>\n",
       "      <td>84.0</td>\n",
       "      <td>-0.138805</td>\n",
       "      <td>False</td>\n",
       "    </tr>\n",
       "    <tr>\n",
       "      <th>5</th>\n",
       "      <td>q6</td>\n",
       "      <td>96.5</td>\n",
       "      <td>0.025138</td>\n",
       "      <td>False</td>\n",
       "    </tr>\n",
       "    <tr>\n",
       "      <th>6</th>\n",
       "      <td>q7</td>\n",
       "      <td>82.0</td>\n",
       "      <td>-0.165036</td>\n",
       "      <td>False</td>\n",
       "    </tr>\n",
       "    <tr>\n",
       "      <th>7</th>\n",
       "      <td>q8</td>\n",
       "      <td>97.5</td>\n",
       "      <td>0.038253</td>\n",
       "      <td>False</td>\n",
       "    </tr>\n",
       "    <tr>\n",
       "      <th>8</th>\n",
       "      <td>q9</td>\n",
       "      <td>79.0</td>\n",
       "      <td>-0.204382</td>\n",
       "      <td>False</td>\n",
       "    </tr>\n",
       "    <tr>\n",
       "      <th>9</th>\n",
       "      <td>q10</td>\n",
       "      <td>95.0</td>\n",
       "      <td>0.005465</td>\n",
       "      <td>False</td>\n",
       "    </tr>\n",
       "    <tr>\n",
       "      <th>10</th>\n",
       "      <td>q11</td>\n",
       "      <td>300.0</td>\n",
       "      <td>2.694132</td>\n",
       "      <td>False</td>\n",
       "    </tr>\n",
       "    <tr>\n",
       "      <th>11</th>\n",
       "      <td>q12</td>\n",
       "      <td>-50.0</td>\n",
       "      <td>-1.896275</td>\n",
       "      <td>False</td>\n",
       "    </tr>\n",
       "  </tbody>\n",
       "</table>\n",
       "</div>"
      ],
      "text/plain": [
       "   quiz_id  score   z_score  Outlier\n",
       "0       q1   90.5 -0.053555    False\n",
       "1       q2   85.0 -0.125690    False\n",
       "2       q3   95.5  0.012022    False\n",
       "3       q4   80.0 -0.191267    False\n",
       "4       q5   84.0 -0.138805    False\n",
       "5       q6   96.5  0.025138    False\n",
       "6       q7   82.0 -0.165036    False\n",
       "7       q8   97.5  0.038253    False\n",
       "8       q9   79.0 -0.204382    False\n",
       "9      q10   95.0  0.005465    False\n",
       "10     q11  300.0  2.694132    False\n",
       "11     q12  -50.0 -1.896275    False"
      ]
     },
     "execution_count": 73,
     "metadata": {},
     "output_type": "execute_result"
    }
   ],
   "source": [
    "quiz_scores['Outlier'] = False\n",
    "quiz_scores.loc[quiz_scores['z_score'].abs() > 3, 'score']['Outlier'] = True\n",
    "quiz_scores"
   ]
  },
  {
   "cell_type": "code",
   "execution_count": 75,
   "metadata": {},
   "outputs": [
    {
     "data": {
      "text/html": [
       "<div>\n",
       "<style scoped>\n",
       "    .dataframe tbody tr th:only-of-type {\n",
       "        vertical-align: middle;\n",
       "    }\n",
       "\n",
       "    .dataframe tbody tr th {\n",
       "        vertical-align: top;\n",
       "    }\n",
       "\n",
       "    .dataframe thead th {\n",
       "        text-align: right;\n",
       "    }\n",
       "</style>\n",
       "<table border=\"1\" class=\"dataframe\">\n",
       "  <thead>\n",
       "    <tr style=\"text-align: right;\">\n",
       "      <th></th>\n",
       "      <th>quiz_id</th>\n",
       "      <th>score</th>\n",
       "      <th>z_score</th>\n",
       "      <th>Outlier</th>\n",
       "    </tr>\n",
       "  </thead>\n",
       "  <tbody>\n",
       "  </tbody>\n",
       "</table>\n",
       "</div>"
      ],
      "text/plain": [
       "Empty DataFrame\n",
       "Columns: [quiz_id, score, z_score, Outlier]\n",
       "Index: []"
      ]
     },
     "execution_count": 75,
     "metadata": {},
     "output_type": "execute_result"
    }
   ],
   "source": [
    "quiz_scores.loc[quiz_scores['Outlier'] == True]"
   ]
  },
  {
   "cell_type": "code",
   "execution_count": 76,
   "metadata": {},
   "outputs": [],
   "source": [
    "quiz_scores.drop(quiz_scores.loc[quiz_scores['Outlier'] == True].index, inplace=True)"
   ]
  },
  {
   "attachments": {},
   "cell_type": "markdown",
   "metadata": {},
   "source": [
    "No rows were outliers, but this is how it would be done."
   ]
  },
  {
   "cell_type": "code",
   "execution_count": 80,
   "metadata": {},
   "outputs": [
    {
     "name": "stdout",
     "output_type": "stream",
     "text": [
      "quiz score mean = 94.58\n",
      "quiz score median = 87.75\n",
      "quiz score standard deviation = 76.25\n"
     ]
    }
   ],
   "source": [
    "quiz_scores_mean = quiz_scores['score'].mean().round(2)\n",
    "quiz_scores_median = quiz_scores['score'].median().round(2)\n",
    "quiz_scores_std = quiz_scores['score'].std().round(2)\n",
    "\n",
    "print(f\"quiz score mean = {quiz_scores_mean}\")\n",
    "print(f\"quiz score median = {quiz_scores_median}\")\n",
    "print(f\"quiz score standard deviation = {quiz_scores_std}\")"
   ]
  },
  {
   "cell_type": "code",
   "execution_count": null,
   "metadata": {},
   "outputs": [],
   "source": []
  }
 ],
 "metadata": {
  "kernelspec": {
   "display_name": "Python 3",
   "language": "python",
   "name": "python3"
  },
  "language_info": {
   "codemirror_mode": {
    "name": "ipython",
    "version": 3
   },
   "file_extension": ".py",
   "mimetype": "text/x-python",
   "name": "python",
   "nbconvert_exporter": "python",
   "pygments_lexer": "ipython3",
   "version": "3.9.6"
  },
  "orig_nbformat": 4
 },
 "nbformat": 4,
 "nbformat_minor": 2
}
