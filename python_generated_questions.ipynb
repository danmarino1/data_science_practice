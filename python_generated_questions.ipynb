{
 "cells": [
  {
   "cell_type": "code",
   "execution_count": 1,
   "metadata": {},
   "outputs": [],
   "source": [
    "import pandas as pd\n",
    "import numpy as np\n",
    "import datetime\n",
    "import random\n",
    "import json"
   ]
  },
  {
   "attachments": {},
   "cell_type": "markdown",
   "metadata": {},
   "source": [
    "The output of your code should be the original DataFrame, but with missing values in the 'Revenue' column filled in as described, a new 'Rating Category' column, and the mean revenue for each 'Rating Category'. The mean revenue should be output as a pandas Series."
   ]
  },
  {
   "cell_type": "code",
   "execution_count": 2,
   "metadata": {},
   "outputs": [],
   "source": [
    "#movies_df = pd.read_clipboard(sep=',')\n",
    "#movies_df.to_csv(\"movies_sample.csv\", index=False)\n",
    "movies_df = pd.read_csv(\"movies_sample.csv\")"
   ]
  },
  {
   "cell_type": "code",
   "execution_count": 3,
   "metadata": {},
   "outputs": [],
   "source": [
    "median_revenue = movies_df['Revenue'].median()"
   ]
  },
  {
   "cell_type": "code",
   "execution_count": 4,
   "metadata": {},
   "outputs": [],
   "source": [
    "movies_df.Revenue.fillna(median_revenue, inplace=True)"
   ]
  },
  {
   "cell_type": "code",
   "execution_count": 5,
   "metadata": {},
   "outputs": [
    {
     "data": {
      "text/html": [
       "<div><div id=2f67f339-d317-4af4-9b1f-50de4e57bf32 style=\"display:none; background-color:#9D6CFF; color:white; width:200px; height:30px; padding-left:5px; border-radius:4px; flex-direction:row; justify-content:space-around; align-items:center;\" onmouseover=\"this.style.backgroundColor='#BA9BF8'\" onmouseout=\"this.style.backgroundColor='#9D6CFF'\" onclick=\"window.commands?.execute('create-mitosheet-from-dataframe-output');\">See Full Dataframe in Mito</div> <script> if (window.commands.hasCommand('create-mitosheet-from-dataframe-output')) document.getElementById('2f67f339-d317-4af4-9b1f-50de4e57bf32').style.display = 'flex' </script> <table border=\"1\" class=\"dataframe\">\n",
       "  <thead>\n",
       "    <tr style=\"text-align: right;\">\n",
       "      <th></th>\n",
       "      <th>Title</th>\n",
       "      <th>Genre</th>\n",
       "      <th>Year</th>\n",
       "      <th>Runtime</th>\n",
       "      <th>Rating</th>\n",
       "      <th>Revenue</th>\n",
       "      <th>Rating Category</th>\n",
       "    </tr>\n",
       "  </thead>\n",
       "  <tbody>\n",
       "    <tr>\n",
       "      <th>0</th>\n",
       "      <td>Jurassic World</td>\n",
       "      <td>Action</td>\n",
       "      <td>2015</td>\n",
       "      <td>124</td>\n",
       "      <td>7.0</td>\n",
       "      <td>652.27</td>\n",
       "      <td>Very Good</td>\n",
       "    </tr>\n",
       "    <tr>\n",
       "      <th>1</th>\n",
       "      <td>Manchester by the Sea</td>\n",
       "      <td>Drama</td>\n",
       "      <td>2016</td>\n",
       "      <td>137</td>\n",
       "      <td>7.9</td>\n",
       "      <td>47.70</td>\n",
       "      <td>Very Good</td>\n",
       "    </tr>\n",
       "    <tr>\n",
       "      <th>2</th>\n",
       "      <td>The Circle</td>\n",
       "      <td>Thriller</td>\n",
       "      <td>2017</td>\n",
       "      <td>110</td>\n",
       "      <td>5.3</td>\n",
       "      <td>20.48</td>\n",
       "      <td>Average</td>\n",
       "    </tr>\n",
       "    <tr>\n",
       "      <th>3</th>\n",
       "      <td>The Avengers</td>\n",
       "      <td>Action</td>\n",
       "      <td>2012</td>\n",
       "      <td>143</td>\n",
       "      <td>8.1</td>\n",
       "      <td>623.28</td>\n",
       "      <td>Very Good</td>\n",
       "    </tr>\n",
       "    <tr>\n",
       "      <th>4</th>\n",
       "      <td>Toy Story 3</td>\n",
       "      <td>Animation</td>\n",
       "      <td>2010</td>\n",
       "      <td>103</td>\n",
       "      <td>8.3</td>\n",
       "      <td>414.98</td>\n",
       "      <td>Very Good</td>\n",
       "    </tr>\n",
       "    <tr>\n",
       "      <th>5</th>\n",
       "      <td>John Wick</td>\n",
       "      <td>Action</td>\n",
       "      <td>2014</td>\n",
       "      <td>101</td>\n",
       "      <td>7.2</td>\n",
       "      <td>43.00</td>\n",
       "      <td>Very Good</td>\n",
       "    </tr>\n",
       "    <tr>\n",
       "      <th>6</th>\n",
       "      <td>The Shape of Water</td>\n",
       "      <td>Fantasy</td>\n",
       "      <td>2017</td>\n",
       "      <td>123</td>\n",
       "      <td>7.4</td>\n",
       "      <td>63.86</td>\n",
       "      <td>Very Good</td>\n",
       "    </tr>\n",
       "    <tr>\n",
       "      <th>7</th>\n",
       "      <td>Inside Out</td>\n",
       "      <td>Animation</td>\n",
       "      <td>2015</td>\n",
       "      <td>95</td>\n",
       "      <td>8.2</td>\n",
       "      <td>356.45</td>\n",
       "      <td>Very Good</td>\n",
       "    </tr>\n",
       "    <tr>\n",
       "      <th>8</th>\n",
       "      <td>Frozen</td>\n",
       "      <td>Animation</td>\n",
       "      <td>2013</td>\n",
       "      <td>102</td>\n",
       "      <td>7.5</td>\n",
       "      <td>400.74</td>\n",
       "      <td>Very Good</td>\n",
       "    </tr>\n",
       "  </tbody>\n",
       "</table></div>"
      ],
      "text/plain": [
       "                   Title      Genre  Year  Runtime  Rating  Revenue  \\\n",
       "0         Jurassic World     Action  2015      124     7.0   652.27   \n",
       "1  Manchester by the Sea      Drama  2016      137     7.9    47.70   \n",
       "2             The Circle   Thriller  2017      110     5.3    20.48   \n",
       "3           The Avengers     Action  2012      143     8.1   623.28   \n",
       "4            Toy Story 3  Animation  2010      103     8.3   414.98   \n",
       "5              John Wick     Action  2014      101     7.2    43.00   \n",
       "6     The Shape of Water    Fantasy  2017      123     7.4    63.86   \n",
       "7             Inside Out  Animation  2015       95     8.2   356.45   \n",
       "8                 Frozen  Animation  2013      102     7.5   400.74   \n",
       "\n",
       "  Rating Category  \n",
       "0       Very Good  \n",
       "1       Very Good  \n",
       "2         Average  \n",
       "3       Very Good  \n",
       "4       Very Good  \n",
       "5       Very Good  \n",
       "6       Very Good  \n",
       "7       Very Good  \n",
       "8       Very Good  "
      ]
     },
     "execution_count": 5,
     "metadata": {},
     "output_type": "execute_result"
    }
   ],
   "source": [
    "def rate_films(x):\n",
    "    if x >= 8.5:\n",
    "        return \"Excellent\"\n",
    "    elif x >= 7:\n",
    "        return \"Very Good\"\n",
    "    elif x >= 5.5:\n",
    "        return \"Good\"\n",
    "    else:\n",
    "        return \"Average\"\n",
    "\n",
    "\n",
    "movies_df[\"Rating Category\"] = movies_df[\"Rating\"].apply(rate_films)\n",
    "movies_df"
   ]
  },
  {
   "cell_type": "code",
   "execution_count": 7,
   "metadata": {},
   "outputs": [
    {
     "data": {
      "text/html": [
       "<div><div id=bf0a34e4-bb03-4220-a391-dac79df59194 style=\"display:none; background-color:#9D6CFF; color:white; width:200px; height:30px; padding-left:5px; border-radius:4px; flex-direction:row; justify-content:space-around; align-items:center;\" onmouseover=\"this.style.backgroundColor='#BA9BF8'\" onmouseout=\"this.style.backgroundColor='#9D6CFF'\" onclick=\"window.commands?.execute('create-mitosheet-from-dataframe-output');\">See Full Dataframe in Mito</div> <script> if (window.commands.hasCommand('create-mitosheet-from-dataframe-output')) document.getElementById('bf0a34e4-bb03-4220-a391-dac79df59194').style.display = 'flex' </script> <table border=\"1\" class=\"dataframe\">\n",
       "  <thead>\n",
       "    <tr style=\"text-align: right;\">\n",
       "      <th></th>\n",
       "      <th>Revenue</th>\n",
       "    </tr>\n",
       "    <tr>\n",
       "      <th>Rating Category</th>\n",
       "      <th></th>\n",
       "    </tr>\n",
       "  </thead>\n",
       "  <tbody>\n",
       "    <tr>\n",
       "      <th>Average</th>\n",
       "      <td>20.480</td>\n",
       "    </tr>\n",
       "    <tr>\n",
       "      <th>Very Good</th>\n",
       "      <td>325.285</td>\n",
       "    </tr>\n",
       "  </tbody>\n",
       "</table></div>"
      ],
      "text/plain": [
       "                 Revenue\n",
       "Rating Category         \n",
       "Average           20.480\n",
       "Very Good        325.285"
      ]
     },
     "execution_count": 7,
     "metadata": {},
     "output_type": "execute_result"
    }
   ],
   "source": [
    "movies_df.groupby(\"Rating Category\")[['Revenue']].mean()"
   ]
  },
  {
   "cell_type": "code",
   "execution_count": 8,
   "metadata": {},
   "outputs": [],
   "source": [
    "### Generated solution\n",
    "import pandas as pd\n",
    "movies_df['Decade'] = movies_df['Year'].apply(lambda x: f\"{x//10*10}_{x//10*10+9}\")\n",
    "movies_df['Revenue'] = movies_df.groupby(['Decade', 'Genre'])['Revenue'].transform(lambda x: x.fillna(x.median()))\n",
    "movies_df['Rating Category'] = pd.cut(movies_df['Rating'], bins=[0,5.5,7,8.5,10], labels=['Average','Good','Very Good','Excellent'])\n",
    "mean_revenue = movies_df.groupby('Rating Category').mean()['Revenue']\n"
   ]
  },
  {
   "attachments": {},
   "cell_type": "markdown",
   "metadata": {},
   "source": [
    "for the revenue null value fills, the generated answer makes a great point:\n",
    " - The expression {movies_df.groupby(['Decade', 'Genre'])['Revenue'].transform(lambda x: x.fillna(x.median()))} is an example of a more sophisticated method of data imputation, which takes into account the context of the missing data.\n",
    "\n",
    "- In this case, you're filling in missing 'Revenue' values with the median revenue of movies that are in the same genre and were released in the same decade. This makes sense because movies from the same genre and decade are more likely to have similar revenues compared to movies from a different genre or time period. This method provides a more accurate estimate of the missing values.\n",
    "\n",
    "- On the other hand, median_revenue = movies['Revenue'].median() calculates the median revenue across all movies, regardless of their genre or release date. If you were to fill in missing values with this median, you'd be ignoring the context in which the data is missing. For example, you'd be treating a drama movie from the 1980s the same as an action movie from the 2020s, even though these types of movies might have very different revenues.\n",
    "\n",
    "- Therefore, the first method is generally better because it's more likely to provide an accurate estimate of the missing data. However, the best method to use always depends on the specific dataset and problem at hand.\n",
    "\n",
    "for the rating category, I also learned a bunch.\n",
    "- movies_df['Rating Category'] = pd.cut(movies_df['Rating'], bins=[0,5.5,7,8.5,10], labels=['Average','Good','Very Good','Excellent'])\n",
    "- This line of code is using the pd.cut() function to create a new column in the DataFrame called 'Rating Category'. The pd.cut() function is a way to create categories (or \"bins\") based on numeric values. In this case, it's being used to categorize the 'Rating' column into different groups based on the rating score.\n",
    "\n",
    "- The bins argument is specifying the boundaries for each category. The list [0,5.5,7,8.5,10] means that the categories are:\n",
    "\n",
    "- This line of code is essentially mapping each movie's rating to a category. It's an example of \"binning\" or \"bucketing\", which are common techniques used in data analysis and machine learning to deal with continuous variables. In this case, it's being used to simplify the 'Rating' column and make it easier to analyze."
   ]
  },
  {
   "attachments": {},
   "cell_type": "markdown",
   "metadata": {},
   "source": [
    "### You are given a list of dictionaries where each dictionary represents a movie. Each dictionary has the following key-value pairs:\n",
    "\n",
    "- 'Title': The title of the movie (string).\n",
    "- 'Genre': The genre of the movie (string).\n",
    "- 'Year': The year the movie was released (integer).\n",
    "- 'Runtime': The length of the movie in minutes (integer).\n",
    "- 'Rating': The average user rating out of 10 (float).\n",
    "Your task is to write a Python function that takes in this list and a genre, and returns the average rating of movies in that genre.\n",
    "\n",
    "In addition, write an SQL query that would perform the same operation on a table with the same columns.\n",
    "\n",
    "### Libraries Needed\n",
    "\n",
    "- Python: None\n",
    "- SQL: None (but you need to know SQL syntax)\n",
    "Inputs\n",
    "\n",
    "### The Python function average_rating_by_genre(movies: List[dict], genre: str) -> float: takes in two arguments:\n",
    "\n",
    "- movies: a list of dictionaries where each dictionary represents a movie with the key-value pairs described above.\n",
    "- genre: a string representing the genre of the movies for which you want to calculate the average rating.\n",
    "The SQL query should be written assuming you have a table named movies with the same columns as the dictionaries in the Python function.\n",
    "\n",
    "## Expected Outputs\n",
    "\n",
    "The Python function should return a float representing the average rating of movies in the input genre.\n",
    "\n",
    "The SQL query should return a single row with a single column (which you can call 'Average Rating') that represents the average rating of movies in the specified genre.\n",
    "\n"
   ]
  },
  {
   "cell_type": "code",
   "execution_count": 9,
   "metadata": {},
   "outputs": [],
   "source": [
    "movies = [\n",
    "    {'Title': 'Jurassic World', 'Genre': 'Action', 'Year': 2015, 'Runtime': 124, 'Rating': 7.0},\n",
    "    {'Title': 'Inside Out', 'Genre': 'Animation', 'Year': 2015, 'Runtime': 95, 'Rating': 8.2},\n",
    "    {'Title': 'Toy Story 3', 'Genre': 'Animation', 'Year': 2010, 'Runtime': 103, 'Rating': 8.3},\n",
    "    {'Title': 'John Wick', 'Genre': 'Action', 'Year': 2014, 'Runtime': 101, 'Rating': 7.2},\n",
    "    {'Title': 'The Circle', 'Genre': 'Thriller', 'Year': 2017, 'Runtime': 110, 'Rating': 5.3},\n",
    "    {'Title': 'Manchester by the Sea', 'Genre': 'Drama', 'Year': 2016, 'Runtime': 137, 'Rating': 7.9},\n",
    "    {'Title': 'The Avengers', 'Genre': 'Action', 'Year': 2012, 'Runtime': 143, 'Rating': 8.1},\n",
    "    {'Title': 'Frozen', 'Genre': 'Animation', 'Year': 2013, 'Runtime': 102, 'Rating': 7.5},\n",
    "    {'Title': 'The Shape of Water', 'Genre': 'Fantasy', 'Year': 2017, 'Runtime': 123, 'Rating': 7.4},\n",
    "]"
   ]
  },
  {
   "cell_type": "code",
   "execution_count": 26,
   "metadata": {},
   "outputs": [],
   "source": [
    "genre_ratings=[]\n",
    "def average_by_genre(dictionary, genre):\n",
    "    for movie in dictionary:\n",
    "        if movie['Genre'] == genre:\n",
    "            genre_ratings.append(movie['Rating'])\n",
    "    return(round(sum(genre_ratings) / len(genre_ratings),2))"
   ]
  },
  {
   "cell_type": "code",
   "execution_count": 27,
   "metadata": {},
   "outputs": [
    {
     "data": {
      "text/plain": [
       "7.4"
      ]
     },
     "execution_count": 27,
     "metadata": {},
     "output_type": "execute_result"
    }
   ],
   "source": [
    "average_by_genre(movies, 'Fantasy')"
   ]
  },
  {
   "cell_type": "code",
   "execution_count": 28,
   "metadata": {},
   "outputs": [
    {
     "name": "stdout",
     "output_type": "stream",
     "text": [
      "The average rating of Action movies is 7.43\n",
      "The average rating of Animation movies is 7.67\n",
      "The average rating of Drama movies is 7.7\n",
      "The average rating of Fantasy movies is 7.67\n",
      "The average rating of Thriller movies is 7.43\n"
     ]
    }
   ],
   "source": [
    "for genre in ['Action', 'Animation', 'Drama', 'Fantasy', 'Thriller']:\n",
    "    print(f\"The average rating of {genre} movies is {average_by_genre(movies, genre)}\")"
   ]
  },
  {
   "attachments": {},
   "cell_type": "markdown",
   "metadata": {},
   "source": [
    "If I did this in SQL on a table called Movies, I would use the following query:"
   ]
  },
  {
   "attachments": {},
   "cell_type": "markdown",
   "metadata": {},
   "source": [
    "    SELECT Genre, AVG(Rating) AS Avg_Rating, COUNT(*) AS Num_Ratings\n",
    "\n",
    "    FROM Movies\n",
    "\n",
    "    GROUP BY Genre\n",
    "\n",
    "    ORDER BY Avg_Rating DESC;"
   ]
  },
  {
   "cell_type": "markdown",
   "metadata": {},
   "source": [
    "### You are tasked with implementing a MovieDatabase class. The class should be initialized with a list of movies, where each movie is a dictionary with the following key-value pairs:\n",
    "\n",
    "- 'Title': The title of the movie (string).\n",
    "- 'Genre': The genre of the movie (string).\n",
    "- 'Year': The year the movie was released (integer).\n",
    "- 'Runtime': The length of the movie in minutes (integer).\n",
    "- 'Rating': The average user rating out of 10 (float).\n",
    "The MovieDatabase class should have a method average_rating_by_genre(self, genre: str) -> float: which returns the average rating of movies in the specified genre.\n",
    "\n",
    "### Libraries Needed\n",
    "\n",
    "- Python: None\n",
    "### Inputs\n",
    "\n",
    "The MovieDatabase class should be initialized with a movies: List[dict] argument, where movies is a list of dictionaries where each dictionary represents a movie with the key-value pairs described above.\n",
    "\n",
    "The average_rating_by_genre method should take in a single argument:\n",
    "\n",
    "- genre: a string representing the genre of the movies for which you want to calculate the average rating.\n",
    "Expected Outputs\n",
    "\n",
    "The average_rating_by_genre method should return a float representing the average rating of movies in the input genre.\n",
    "\n"
   ]
  },
  {
   "cell_type": "code",
   "execution_count": 30,
   "metadata": {},
   "outputs": [
    {
     "data": {
      "text/plain": [
       "<__main__.Movie at 0x7fbe97d16160>"
      ]
     },
     "execution_count": 30,
     "metadata": {},
     "output_type": "execute_result"
    }
   ],
   "source": [
    "class Movie:\n",
    "    def __init__(self, dictionary):\n",
    "        self.title = dictionary['Title']\n",
    "        self.genre = dictionary['Genre']\n",
    "        self.year = dictionary['Year']\n",
    "        self.runtime = dictionary['Runtime']\n",
    "        self.rating = dictionary['Rating']"
   ]
  },
  {
   "cell_type": "code",
   "execution_count": 35,
   "metadata": {},
   "outputs": [
    {
     "data": {
      "text/plain": [
       "'Animation'"
      ]
     },
     "execution_count": 35,
     "metadata": {},
     "output_type": "execute_result"
    }
   ],
   "source": [
    "movie2 = Movie(movies[2])\n",
    "movie2.genre"
   ]
  },
  {
   "cell_type": "code",
   "execution_count": 38,
   "metadata": {},
   "outputs": [],
   "source": [
    "movies_as_objects = []\n",
    "\n",
    "for i in movies:\n",
    "    movies_as_objects.append(Movie(i))"
   ]
  },
  {
   "cell_type": "code",
   "execution_count": 42,
   "metadata": {},
   "outputs": [
    {
     "data": {
      "text/plain": [
       "7.0"
      ]
     },
     "execution_count": 42,
     "metadata": {},
     "output_type": "execute_result"
    }
   ],
   "source": [
    "movies_as_objects[0].rating"
   ]
  },
  {
   "attachments": {},
   "cell_type": "markdown",
   "metadata": {},
   "source": [
    "Generated solution:"
   ]
  },
  {
   "cell_type": "code",
   "execution_count": null,
   "metadata": {},
   "outputs": [],
   "source": [
    "class MovieDatabase:\n",
    "    def __init__(self, movies: List[dict]):\n",
    "        self.movies = movies\n",
    "\n",
    "    def average_rating_by_genre(self, genre: str) -> float:\n",
    "        genre_movies = [movie for movie in self.movies if movie['Genre'] == genre]\n",
    "        average_rating = sum(movie['Rating'] for movie in genre_movies) / len(genre_movies)\n",
    "        return average_rating"
   ]
  },
  {
   "cell_type": "markdown",
   "metadata": {},
   "source": [
    "This took a different approach than what I ended up making, as it created a more comprehensive class that could be used to do more than just find the average rating by genre. I think this is a good approach. I also like how the class is initialized with a list of dictionaries, which is the same format as the original data."
   ]
  },
  {
   "cell_type": "code",
   "execution_count": null,
   "metadata": {},
   "outputs": [],
   "source": []
  }
 ],
 "metadata": {
  "kernelspec": {
   "display_name": "Python 3",
   "language": "python",
   "name": "python3"
  },
  "language_info": {
   "codemirror_mode": {
    "name": "ipython",
    "version": 3
   },
   "file_extension": ".py",
   "mimetype": "text/x-python",
   "name": "python",
   "nbconvert_exporter": "python",
   "pygments_lexer": "ipython3",
   "version": "3.8.5"
  },
  "orig_nbformat": 4
 },
 "nbformat": 4,
 "nbformat_minor": 2
}
