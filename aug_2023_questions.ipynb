{
 "cells": [
  {
   "attachments": {},
   "cell_type": "markdown",
   "metadata": {},
   "source": [
    "### Problem Overview:\n",
    "\n",
    "You are given a list of dictionaries. Each dictionary represents a sales transaction and contains three keys: 'id', 'product', and 'price'. 'id' represents the id of a transaction, 'product' represents the name of the product, and 'price' is the price of the product.\n",
    "\n",
    "Your task is to write a function that filters out transactions with a price greater than a given threshold and returns a new list of dictionaries with the remaining transactions.\n",
    "\n",
    "The function should return a new list of dictionaries. Each dictionary should contain the 'id', 'product', and 'price' for each transaction.\n",
    "\n",
    "### Libraries Needed:\n",
    "\n",
    "None\n",
    "\n",
    "### Inputs:\n",
    "\n",
    "The function will take the following inputs:\n",
    "\n",
    "A list of dictionaries 'transactions'. Each dictionary contains three keys: 'id', 'product', and 'price'. 'id' is a string that represents the id of a transaction, 'product' is a string that represents the name of the product, and 'price' is a float that represents the price of the product.\n",
    "A float 'threshold'. This represents the maximum price for a transaction to be included in the output.\n",
    "\n",
    "\n",
    "### Expected Outputs:\n",
    "\n",
    "The function should return a list of dictionaries. Each dictionary should contain three keys: 'id', 'product', and 'price'. The list should only include transactions where the 'price' is less than or equal to 'threshold'.\n",
    "\n",
    "### Data:"
   ]
  },
  {
   "cell_type": "code",
   "execution_count": 1,
   "metadata": {},
   "outputs": [],
   "source": [
    "transactions = [\n",
    "    {\"id\": \"t1\", \"product\": \"apple\", \"price\": 1.0},\n",
    "    {\"id\": \"t2\", \"product\": \"banana\", \"price\": 0.5},\n",
    "    {\"id\": \"t3\", \"product\": \"cherry\", \"price\": 2.0},\n",
    "]"
   ]
  },
  {
   "cell_type": "code",
   "execution_count": 14,
   "metadata": {},
   "outputs": [],
   "source": [
    "def filter_under_price(transactions, thresh_price):\n",
    "    filtered_transactions = list(filter(lambda x: x[\"price\"] <= thresh_price, transactions))\n",
    "    return filtered_transactions"
   ]
  },
  {
   "cell_type": "code",
   "execution_count": 15,
   "metadata": {},
   "outputs": [
    {
     "data": {
      "text/plain": [
       "[{'id': 't1', 'product': 'apple', 'price': 1.0},\n",
       " {'id': 't2', 'product': 'banana', 'price': 0.5}]"
      ]
     },
     "execution_count": 15,
     "metadata": {},
     "output_type": "execute_result"
    }
   ],
   "source": [
    "filter_under_price(transactions, 1)"
   ]
  },
  {
   "attachments": {},
   "cell_type": "markdown",
   "metadata": {},
   "source": [
    "#### If this were SQL\n",
    "\n",
    "- Assuming table = transactions and columns = id, product, and price:\n",
    "\n",
    "```sql\n",
    "SELECT *\n",
    "FROM transactions\n",
    "WHERE price <= 1\n",
    "```"
   ]
  }
 ],
 "metadata": {
  "kernelspec": {
   "display_name": "Python 3",
   "language": "python",
   "name": "python3"
  },
  "language_info": {
   "codemirror_mode": {
    "name": "ipython",
    "version": 3
   },
   "file_extension": ".py",
   "mimetype": "text/x-python",
   "name": "python",
   "nbconvert_exporter": "python",
   "pygments_lexer": "ipython3",
   "version": "3.9.6"
  },
  "orig_nbformat": 4
 },
 "nbformat": 4,
 "nbformat_minor": 2
}
