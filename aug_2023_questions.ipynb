{
 "cells": [
  {
   "attachments": {},
   "cell_type": "markdown",
   "metadata": {},
   "source": [
    "### Problem Overview:\n",
    "\n",
    "You are given a list of dictionaries. Each dictionary represents a sales transaction and contains three keys: 'id', 'product', and 'price'. 'id' represents the id of a transaction, 'product' represents the name of the product, and 'price' is the price of the product.\n",
    "\n",
    "Your task is to write a function that filters out transactions with a price greater than a given threshold and returns a new list of dictionaries with the remaining transactions.\n",
    "\n",
    "The function should return a new list of dictionaries. Each dictionary should contain the 'id', 'product', and 'price' for each transaction.\n",
    "\n",
    "### Libraries Needed:\n",
    "\n",
    "None\n",
    "\n",
    "### Inputs:\n",
    "\n",
    "The function will take the following inputs:\n",
    "\n",
    "A list of dictionaries 'transactions'. Each dictionary contains three keys: 'id', 'product', and 'price'. 'id' is a string that represents the id of a transaction, 'product' is a string that represents the name of the product, and 'price' is a float that represents the price of the product.\n",
    "A float 'threshold'. This represents the maximum price for a transaction to be included in the output.\n",
    "\n",
    "\n",
    "### Expected Outputs:\n",
    "\n",
    "The function should return a list of dictionaries. Each dictionary should contain three keys: 'id', 'product', and 'price'. The list should only include transactions where the 'price' is less than or equal to 'threshold'.\n",
    "\n",
    "### Data:"
   ]
  },
  {
   "cell_type": "code",
   "execution_count": 1,
   "metadata": {},
   "outputs": [],
   "source": [
    "transactions = [\n",
    "    {\"id\": \"t1\", \"product\": \"apple\", \"price\": 1.0},\n",
    "    {\"id\": \"t2\", \"product\": \"banana\", \"price\": 0.5},\n",
    "    {\"id\": \"t3\", \"product\": \"cherry\", \"price\": 2.0},\n",
    "]"
   ]
  },
  {
   "cell_type": "code",
   "execution_count": 14,
   "metadata": {},
   "outputs": [],
   "source": [
    "def filter_under_price(transactions, thresh_price):\n",
    "    filtered_transactions = list(filter(lambda x: x[\"price\"] <= thresh_price, transactions))\n",
    "    return filtered_transactions"
   ]
  },
  {
   "cell_type": "code",
   "execution_count": 15,
   "metadata": {},
   "outputs": [
    {
     "data": {
      "text/plain": [
       "[{'id': 't1', 'product': 'apple', 'price': 1.0},\n",
       " {'id': 't2', 'product': 'banana', 'price': 0.5}]"
      ]
     },
     "execution_count": 15,
     "metadata": {},
     "output_type": "execute_result"
    }
   ],
   "source": [
    "filter_under_price(transactions, 1)"
   ]
  },
  {
   "attachments": {},
   "cell_type": "markdown",
   "metadata": {},
   "source": [
    "#### If this were SQL\n",
    "\n",
    "- Assuming table = transactions and columns = id, product, and price:\n",
    "\n",
    "```sql\n",
    "SELECT *\n",
    "FROM transactions\n",
    "WHERE price <= 1\n",
    "```"
   ]
  },
  {
   "attachments": {},
   "cell_type": "markdown",
   "metadata": {},
   "source": [
    "**Problem Overview:**\n",
    "\n",
    "You are given a list of dictionaries. Each dictionary represents a customer and contains three keys: 'id', 'age', and 'purchases'. 'id' represents the id of a customer, 'age' represents the age of the customer, and 'purchases' is a list of prices for each purchase made by the customer.\n",
    "\n",
    "Your task is to write a function that calculates the average purchase price for each customer who is above a given age and returns a new list of dictionaries with the calculated averages.\n",
    "\n",
    "The function should return a new list of dictionaries. Each dictionary should contain the 'id' and 'average_purchase' for each customer.\n",
    "\n",
    "**Libraries Needed:**\n",
    "\n",
    "```python\n",
    "```\n",
    "\n",
    "**Inputs:**\n",
    "\n",
    "The function will take the following inputs:\n",
    "\n",
    "1. A list of dictionaries 'customers'. Each dictionary contains three keys: 'id', 'age', and 'purchases'. 'id' is a string that represents the id of a customer, 'age' is an integer that represents the age of the customer, and 'purchases' is a list of floats that represent the prices of the purchases.\n",
    "2. An integer 'age_limit'. This represents the minimum age for a customer to be included in the output.\n",
    "\n",
    "**Expected Outputs:**\n",
    "\n",
    "The function should return a list of dictionaries. Each dictionary should contain two keys: 'id' and 'average_purchase'. The list should only include customers whose age is greater than 'age_limit'. 'average_purchase' should be the average purchase price rounded to 2 decimal places.\n",
    "\n",
    "**Data:**\n",
    "\n",
    "```python\n",
    "customers = [\n",
    "    {\"id\": \"c1\", \"age\": 25, \"purchases\": [10.0, 20.0, 30.0]},\n",
    "    {\"id\": \"c2\", \"age\": 30, \"purchases\": [15.0, 25.0, 35.0]},\n",
    "    {\"id\": \"c3\", \"age\": 35, \"purchases\": [20.0, 30.0, 40.0]},\n",
    "]\n",
    "```\n",
    "\n",
    "**Encrypted Solution:**\n",
    "\n",
    "Here's the solution, encrypted with a Caesar cipher with a shift of 3 to the right:\n",
    "\n",
    "```python\n",
    "ghilqk_fdofoxodwh_dyhudjhfxvw_rphuvfxvw_rphuv, djh_olplw:\n",
    "    ghilqk_fdofoxodwh_dyhudjh_sxufkdvhfxvw_rphu:\n",
    "        dyhudjh_sxufkdvh = urxqg{vxp{fxvw_rphu{'sxufkdvhv'}}/ohq{fxvw_rphu{'sxufkdvhv'}}, 2)\n",
    "        uhwxuq {'lg': fxvw_rphu{'lg'}, 'dyhudjh_sxufkdvh': dyhudjh_sxufkdvh}\n",
    "    \n",
    "    uhvxowv = olvw{pdskh{fdofoxodwh_dyhudjh_sxufkdvh, ilowhu{odpegd{fxvw_rphu: fxvw_rphu{'djh'} juhdwhu wkdq djh_olplw, fxvw_rphuv}})}\n",
    "    uhwxuq uhvxowv\n",
    "```\n",
    "\n",
    "The shift of 3 letters to the right was applied to every letter of the solution, but not to special characters, digits or whitespaces."
   ]
  },
  {
   "cell_type": "code",
   "execution_count": 2,
   "metadata": {},
   "outputs": [],
   "source": [
    "import pandas as pd"
   ]
  },
  {
   "cell_type": "code",
   "execution_count": 3,
   "metadata": {},
   "outputs": [],
   "source": [
    "customers = [\n",
    "    {\"id\": \"c1\", \"age\": 25, \"purchases\": [10.0, 20.0, 30.0]},\n",
    "    {\"id\": \"c2\", \"age\": 30, \"purchases\": [15.0, 25.0, 35.0]},\n",
    "    {\"id\": \"c3\", \"age\": 35, \"purchases\": [20.0, 30.0, 40.0]},\n",
    "]"
   ]
  },
  {
   "cell_type": "code",
   "execution_count": 20,
   "metadata": {},
   "outputs": [],
   "source": [
    "def mean_of_list(list_of_float):\n",
    "    return sum(list_of_float) / len(list_of_float)"
   ]
  },
  {
   "cell_type": "code",
   "execution_count": 35,
   "metadata": {},
   "outputs": [
    {
     "name": "stdout",
     "output_type": "stream",
     "text": [
      "[{'id': 'c1', 'avg_purchase': 20.0}, {'id': 'c2', 'avg_purchase': 25.0}, {'id': 'c3', 'avg_purchase': 30.0}]\n",
      "[{'id': 'c2', 'avg_purchase': 25.0}, {'id': 'c3', 'avg_purchase': 30.0}]\n",
      "[{'id': 'c3', 'avg_purchase': 30.0}]\n",
      "[]\n"
     ]
    }
   ],
   "source": [
    "def average_price_per_aged_customer(customer_list, minimum_age):\n",
    "    return [{\"id\": customer['id'],\n",
    "             'avg_purchase': mean_of_list(customer['purchases'])\n",
    "             } for customer in customer_list if customer['age'] >= minimum_age]\n",
    "\n",
    "print(average_price_per_aged_customer(customers, 0))\n",
    "print(average_price_per_aged_customer(customers, 30))\n",
    "print(average_price_per_aged_customer(customers, 35))\n",
    "print(average_price_per_aged_customer(customers, 40))"
   ]
  },
  {
   "attachments": {},
   "cell_type": "markdown",
   "metadata": {},
   "source": [
    "**If this were SQL**\n",
    "\n",
    "```sql\n",
    "SELECT id, AVG(purchases)\n",
    "FROM customers\n",
    "WHERE MAX(age) >= 25\n",
    "GROUP BY id;\n",
    "```"
   ]
  },
  {
   "cell_type": "markdown",
   "metadata": {},
   "source": [
    "Problem Overview:\n",
    "\n",
    "You are given a dataset of products with their names, categories, and prices. However, some of the product names contain extra spaces and some prices are missing (represented as None). Your task is to write a function that will clean the dataset by:\n",
    "\n",
    "Removing leading and trailing whitespaces from product names.\n",
    "Replacing any missing prices (None) with the average price of products in the same category.\n",
    "The function should return a cleaned list of dictionaries with the updated product names and prices."
   ]
  },
  {
   "attachments": {},
   "cell_type": "markdown",
   "metadata": {},
   "source": [
    "Inputs:\n",
    "\n",
    "The function will take the following input:\n",
    "\n",
    "A list of dictionaries 'products'. Each dictionary contains three keys: 'name', 'category', and 'price'. 'name' is a string that represents the name of the product, 'category' is a string that represents the category of the product, and 'price' is a float that represents the price of the product (or None if the price is missing).\n",
    "Expected Outputs:\n",
    "\n",
    "The function should return a list of dictionaries. Each dictionary should contain three keys: 'name', 'category', and 'price'. The 'name' should have leading and trailing whitespaces removed, and any 'price' that was None should be replaced with the average price of other products in the same category, rounded to 2 decimal places.\n",
    "\n",
    "Data:"
   ]
  },
  {
   "cell_type": "code",
   "execution_count": 36,
   "metadata": {},
   "outputs": [],
   "source": [
    "products = [\n",
    "    {\"name\": \" apple \", \"category\": \"fruit\", \"price\": 1.0},\n",
    "    {\"name\": \"banana\", \"category\": \"fruit\", \"price\": None},\n",
    "    {\"name\": \"cherry  \", \"category\": \"fruit\", \"price\": 2.0},\n",
    "    {\"name\": \" lettuce\", \"category\": \"vegetable\", \"price\": 1.5},\n",
    "    {\"name\": \"carrot\", \"category\": \"vegetable\", \"price\": None},\n",
    "]\n"
   ]
  },
  {
   "cell_type": "code",
   "execution_count": 37,
   "metadata": {},
   "outputs": [],
   "source": [
    "def clean_products(products):\n",
    "    categories_average = {}\n",
    "    for product in products:\n",
    "        category_name = product['category']\n",
    "        price = product['price']\n",
    "        key = category_name\n",
    "        key_average = categories_average.get(key, [0, 0]) \n",
    "        key_average[0] += price if price is not None else 0\n",
    "        key_average[1] += 1\n",
    "        categories_average[key] = key_average\n",
    "    \n",
    "    for key in categories_average:\n",
    "        total, count = categories_average[key]\n",
    "        categories_average[key] = total / count if count else 0\n",
    "    \n",
    "    for product in products:\n",
    "        product['name'] = product['name'].strip()\n",
    "        price = product['price']\n",
    "        category_name = product['category']\n",
    "        key = category_name\n",
    "        key_average = categories_average[key]\n",
    "        if price is None:\n",
    "            product['price'] = round(key_average, 2)\n",
    "    \n",
    "    return products\n"
   ]
  },
  {
   "cell_type": "code",
   "execution_count": 38,
   "metadata": {},
   "outputs": [
    {
     "data": {
      "text/plain": [
       "[{'name': 'apple', 'category': 'fruit', 'price': 1.0},\n",
       " {'name': 'banana', 'category': 'fruit', 'price': 1.0},\n",
       " {'name': 'cherry', 'category': 'fruit', 'price': 2.0},\n",
       " {'name': 'lettuce', 'category': 'vegetable', 'price': 1.5},\n",
       " {'name': 'carrot', 'category': 'vegetable', 'price': 0.75}]"
      ]
     },
     "execution_count": 38,
     "metadata": {},
     "output_type": "execute_result"
    }
   ],
   "source": [
    "\n",
    "clean_products(products)"
   ]
  },
  {
   "cell_type": "markdown",
   "metadata": {},
   "source": [
    "Objective:\n",
    "Background:\n",
    "\n",
    "You are a Data Scientist at a retail company and you have been given a dataset containing transaction data. This data includes the transaction date, product ID, quantity, and price. Unfortunately, some of the date values are missing and are marked as None. You need to impute these missing dates using the median date of the entire dataset.\n",
    "\n",
    "Question:\n",
    "\n",
    "Write a function that takes the transaction data and imputes the missing dates with the median date. Make sure to convert the dates from string to Python datetime objects and then back to string in the 'YYYY-MM-DD' format after imputation.\n",
    "\n",
    "Libraries Needed:\n",
    "\n",
    "python\n",
    "Copy code\n",
    "from datetime import datetime\n",
    "Inputs:\n",
    "\n",
    "A list of dictionaries named transactions. Each dictionary contains:\n",
    "'date': a string representing the date of the transaction in 'YYYY-MM-DD' format or None if the date is missing.\n",
    "'product_id': a string representing the product ID.\n",
    "'quantity': an integer representing the quantity of the product.\n",
    "'price': a float representing the price of the product.\n",
    "Expected Outputs:\n",
    "\n",
    "The function should return a list of dictionaries with the same structure as the input, but with all missing dates imputed with the median date of the dataset.\n",
    "Data:\n",
    "python\n",
    "Copy code\n",
    "transactions = [\n",
    "    {\"date\": \"2022-07-01\", \"product_id\": \"P1\", \"quantity\": 10, \"price\": 5.5},\n",
    "    {\"date\": None, \"product_id\": \"P2\", \"quantity\": 8, \"price\": 6.0},\n",
    "    {\"date\": \"2022-07-03\", \"product_id\": \"P3\", \"quantity\": 15, \"price\": 7.0},\n",
    "    {\"date\": \"2022-07-02\", \"product_id\": \"P4\", \"quantity\": 12, \"price\": 6.5},\n",
    "    {\"date\": None, \"product_id\": \"P5\", \"quantity\": 9, \"price\": 5.0},\n",
    "]\n",
    "Solution:"
   ]
  },
  {
   "cell_type": "code",
   "execution_count": 5,
   "metadata": {},
   "outputs": [],
   "source": [
    "import pandas as pd\n",
    "import numpy as np\n",
    "\n",
    "# Read in the data\n",
    "transactions = [\n",
    "    {\"date\": \"2022-07-01\", \"product_id\": \"P1\", \"quantity\": 10, \"price\": 5.5},\n",
    "    {\"date\": None, \"product_id\": \"P2\", \"quantity\": 8, \"price\": 6.0},\n",
    "    {\"date\": \"2022-07-03\", \"product_id\": \"P3\", \"quantity\": 15, \"price\": 7.0},\n",
    "    {\"date\": \"2022-07-02\", \"product_id\": \"P4\", \"quantity\": 12, \"price\": 6.5},\n",
    "    {\"date\": None, \"product_id\": \"P5\", \"quantity\": 9, \"price\": 5.0},\n",
    "]\n",
    "df = pd.DataFrame(transactions)"
   ]
  },
  {
   "cell_type": "code",
   "execution_count": 7,
   "metadata": {},
   "outputs": [
    {
     "data": {
      "text/html": [
       "<div>\n",
       "<style scoped>\n",
       "    .dataframe tbody tr th:only-of-type {\n",
       "        vertical-align: middle;\n",
       "    }\n",
       "\n",
       "    .dataframe tbody tr th {\n",
       "        vertical-align: top;\n",
       "    }\n",
       "\n",
       "    .dataframe thead th {\n",
       "        text-align: right;\n",
       "    }\n",
       "</style>\n",
       "<table border=\"1\" class=\"dataframe\">\n",
       "  <thead>\n",
       "    <tr style=\"text-align: right;\">\n",
       "      <th></th>\n",
       "      <th>date</th>\n",
       "      <th>product_id</th>\n",
       "      <th>quantity</th>\n",
       "      <th>price</th>\n",
       "    </tr>\n",
       "  </thead>\n",
       "  <tbody>\n",
       "    <tr>\n",
       "      <th>0</th>\n",
       "      <td>2022-07-01</td>\n",
       "      <td>P1</td>\n",
       "      <td>10</td>\n",
       "      <td>5.5</td>\n",
       "    </tr>\n",
       "    <tr>\n",
       "      <th>1</th>\n",
       "      <td>2022-07-02</td>\n",
       "      <td>P2</td>\n",
       "      <td>8</td>\n",
       "      <td>6.0</td>\n",
       "    </tr>\n",
       "    <tr>\n",
       "      <th>2</th>\n",
       "      <td>2022-07-03</td>\n",
       "      <td>P3</td>\n",
       "      <td>15</td>\n",
       "      <td>7.0</td>\n",
       "    </tr>\n",
       "    <tr>\n",
       "      <th>3</th>\n",
       "      <td>2022-07-02</td>\n",
       "      <td>P4</td>\n",
       "      <td>12</td>\n",
       "      <td>6.5</td>\n",
       "    </tr>\n",
       "    <tr>\n",
       "      <th>4</th>\n",
       "      <td>2022-07-02</td>\n",
       "      <td>P5</td>\n",
       "      <td>9</td>\n",
       "      <td>5.0</td>\n",
       "    </tr>\n",
       "  </tbody>\n",
       "</table>\n",
       "</div>"
      ],
      "text/plain": [
       "        date product_id  quantity  price\n",
       "0 2022-07-01         P1        10    5.5\n",
       "1 2022-07-02         P2         8    6.0\n",
       "2 2022-07-03         P3        15    7.0\n",
       "3 2022-07-02         P4        12    6.5\n",
       "4 2022-07-02         P5         9    5.0"
      ]
     },
     "execution_count": 7,
     "metadata": {},
     "output_type": "execute_result"
    }
   ],
   "source": [
    "def imput_missing_dates(df):\n",
    "    df['date'] = pd.to_datetime(df['date'])\n",
    "    median_date = df['date'].median()\n",
    "    df['date'] = df['date'].fillna(median_date)\n",
    "    return df\n",
    "\n",
    "imput_missing_dates(df)"
   ]
  },
  {
   "cell_type": "code",
   "execution_count": null,
   "metadata": {},
   "outputs": [],
   "source": []
  }
 ],
 "metadata": {
  "kernelspec": {
   "display_name": "Python 3",
   "language": "python",
   "name": "python3"
  },
  "language_info": {
   "codemirror_mode": {
    "name": "ipython",
    "version": 3
   },
   "file_extension": ".py",
   "mimetype": "text/x-python",
   "name": "python",
   "nbconvert_exporter": "python",
   "pygments_lexer": "ipython3",
   "version": "3.9.6"
  },
  "orig_nbformat": 4
 },
 "nbformat": 4,
 "nbformat_minor": 2
}
