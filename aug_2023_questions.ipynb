{
 "cells": [
  {
   "attachments": {},
   "cell_type": "markdown",
   "metadata": {},
   "source": [
    "### Problem Overview:\n",
    "\n",
    "You are given a list of dictionaries. Each dictionary represents a sales transaction and contains three keys: 'id', 'product', and 'price'. 'id' represents the id of a transaction, 'product' represents the name of the product, and 'price' is the price of the product.\n",
    "\n",
    "Your task is to write a function that filters out transactions with a price greater than a given threshold and returns a new list of dictionaries with the remaining transactions.\n",
    "\n",
    "The function should return a new list of dictionaries. Each dictionary should contain the 'id', 'product', and 'price' for each transaction.\n",
    "\n",
    "### Libraries Needed:\n",
    "\n",
    "None\n",
    "\n",
    "### Inputs:\n",
    "\n",
    "The function will take the following inputs:\n",
    "\n",
    "A list of dictionaries 'transactions'. Each dictionary contains three keys: 'id', 'product', and 'price'. 'id' is a string that represents the id of a transaction, 'product' is a string that represents the name of the product, and 'price' is a float that represents the price of the product.\n",
    "A float 'threshold'. This represents the maximum price for a transaction to be included in the output.\n",
    "\n",
    "\n",
    "### Expected Outputs:\n",
    "\n",
    "The function should return a list of dictionaries. Each dictionary should contain three keys: 'id', 'product', and 'price'. The list should only include transactions where the 'price' is less than or equal to 'threshold'.\n",
    "\n",
    "### Data:"
   ]
  },
  {
   "cell_type": "code",
   "execution_count": 1,
   "metadata": {},
   "outputs": [],
   "source": [
    "transactions = [\n",
    "    {\"id\": \"t1\", \"product\": \"apple\", \"price\": 1.0},\n",
    "    {\"id\": \"t2\", \"product\": \"banana\", \"price\": 0.5},\n",
    "    {\"id\": \"t3\", \"product\": \"cherry\", \"price\": 2.0},\n",
    "]"
   ]
  },
  {
   "cell_type": "code",
   "execution_count": 14,
   "metadata": {},
   "outputs": [],
   "source": [
    "def filter_under_price(transactions, thresh_price):\n",
    "    filtered_transactions = list(filter(lambda x: x[\"price\"] <= thresh_price, transactions))\n",
    "    return filtered_transactions"
   ]
  },
  {
   "cell_type": "code",
   "execution_count": 15,
   "metadata": {},
   "outputs": [
    {
     "data": {
      "text/plain": [
       "[{'id': 't1', 'product': 'apple', 'price': 1.0},\n",
       " {'id': 't2', 'product': 'banana', 'price': 0.5}]"
      ]
     },
     "execution_count": 15,
     "metadata": {},
     "output_type": "execute_result"
    }
   ],
   "source": [
    "filter_under_price(transactions, 1)"
   ]
  },
  {
   "attachments": {},
   "cell_type": "markdown",
   "metadata": {},
   "source": [
    "#### If this were SQL\n",
    "\n",
    "- Assuming table = transactions and columns = id, product, and price:\n",
    "\n",
    "```sql\n",
    "SELECT *\n",
    "FROM transactions\n",
    "WHERE price <= 1\n",
    "```"
   ]
  },
  {
   "attachments": {},
   "cell_type": "markdown",
   "metadata": {},
   "source": [
    "**Problem Overview:**\n",
    "\n",
    "You are given a list of dictionaries. Each dictionary represents a customer and contains three keys: 'id', 'age', and 'purchases'. 'id' represents the id of a customer, 'age' represents the age of the customer, and 'purchases' is a list of prices for each purchase made by the customer.\n",
    "\n",
    "Your task is to write a function that calculates the average purchase price for each customer who is above a given age and returns a new list of dictionaries with the calculated averages.\n",
    "\n",
    "The function should return a new list of dictionaries. Each dictionary should contain the 'id' and 'average_purchase' for each customer.\n",
    "\n",
    "**Libraries Needed:**\n",
    "\n",
    "```python\n",
    "```\n",
    "\n",
    "**Inputs:**\n",
    "\n",
    "The function will take the following inputs:\n",
    "\n",
    "1. A list of dictionaries 'customers'. Each dictionary contains three keys: 'id', 'age', and 'purchases'. 'id' is a string that represents the id of a customer, 'age' is an integer that represents the age of the customer, and 'purchases' is a list of floats that represent the prices of the purchases.\n",
    "2. An integer 'age_limit'. This represents the minimum age for a customer to be included in the output.\n",
    "\n",
    "**Expected Outputs:**\n",
    "\n",
    "The function should return a list of dictionaries. Each dictionary should contain two keys: 'id' and 'average_purchase'. The list should only include customers whose age is greater than 'age_limit'. 'average_purchase' should be the average purchase price rounded to 2 decimal places.\n",
    "\n",
    "**Data:**\n",
    "\n",
    "```python\n",
    "customers = [\n",
    "    {\"id\": \"c1\", \"age\": 25, \"purchases\": [10.0, 20.0, 30.0]},\n",
    "    {\"id\": \"c2\", \"age\": 30, \"purchases\": [15.0, 25.0, 35.0]},\n",
    "    {\"id\": \"c3\", \"age\": 35, \"purchases\": [20.0, 30.0, 40.0]},\n",
    "]\n",
    "```\n",
    "\n",
    "**Encrypted Solution:**\n",
    "\n",
    "Here's the solution, encrypted with a Caesar cipher with a shift of 3 to the right:\n",
    "\n",
    "```python\n",
    "ghilqk_fdofoxodwh_dyhudjhfxvw_rphuvfxvw_rphuv, djh_olplw:\n",
    "    ghilqk_fdofoxodwh_dyhudjh_sxufkdvhfxvw_rphu:\n",
    "        dyhudjh_sxufkdvh = urxqg{vxp{fxvw_rphu{'sxufkdvhv'}}/ohq{fxvw_rphu{'sxufkdvhv'}}, 2)\n",
    "        uhwxuq {'lg': fxvw_rphu{'lg'}, 'dyhudjh_sxufkdvh': dyhudjh_sxufkdvh}\n",
    "    \n",
    "    uhvxowv = olvw{pdskh{fdofoxodwh_dyhudjh_sxufkdvh, ilowhu{odpegd{fxvw_rphu: fxvw_rphu{'djh'} juhdwhu wkdq djh_olplw, fxvw_rphuv}})}\n",
    "    uhwxuq uhvxowv\n",
    "```\n",
    "\n",
    "The shift of 3 letters to the right was applied to every letter of the solution, but not to special characters, digits or whitespaces."
   ]
  },
  {
   "cell_type": "code",
   "execution_count": 2,
   "metadata": {},
   "outputs": [],
   "source": [
    "import pandas as pd"
   ]
  },
  {
   "cell_type": "code",
   "execution_count": 3,
   "metadata": {},
   "outputs": [],
   "source": [
    "customers = [\n",
    "    {\"id\": \"c1\", \"age\": 25, \"purchases\": [10.0, 20.0, 30.0]},\n",
    "    {\"id\": \"c2\", \"age\": 30, \"purchases\": [15.0, 25.0, 35.0]},\n",
    "    {\"id\": \"c3\", \"age\": 35, \"purchases\": [20.0, 30.0, 40.0]},\n",
    "]"
   ]
  },
  {
   "cell_type": "code",
   "execution_count": 20,
   "metadata": {},
   "outputs": [],
   "source": [
    "def mean_of_list(list_of_float):\n",
    "    return sum(list_of_float) / len(list_of_float)"
   ]
  },
  {
   "cell_type": "code",
   "execution_count": 35,
   "metadata": {},
   "outputs": [
    {
     "name": "stdout",
     "output_type": "stream",
     "text": [
      "[{'id': 'c1', 'avg_purchase': 20.0}, {'id': 'c2', 'avg_purchase': 25.0}, {'id': 'c3', 'avg_purchase': 30.0}]\n",
      "[{'id': 'c2', 'avg_purchase': 25.0}, {'id': 'c3', 'avg_purchase': 30.0}]\n",
      "[{'id': 'c3', 'avg_purchase': 30.0}]\n",
      "[]\n"
     ]
    }
   ],
   "source": [
    "def average_price_per_aged_customer(customer_list, minimum_age):\n",
    "    return [{\"id\": customer['id'],\n",
    "             'avg_purchase': mean_of_list(customer['purchases'])\n",
    "             } for customer in customer_list if customer['age'] >= minimum_age]\n",
    "\n",
    "print(average_price_per_aged_customer(customers, 0))\n",
    "print(average_price_per_aged_customer(customers, 30))\n",
    "print(average_price_per_aged_customer(customers, 35))\n",
    "print(average_price_per_aged_customer(customers, 40))"
   ]
  },
  {
   "attachments": {},
   "cell_type": "markdown",
   "metadata": {},
   "source": [
    "**If this were SQL**\n",
    "\n",
    "```sql\n",
    "SELECT id, AVG(purchases)\n",
    "FROM customers\n",
    "WHERE MAX(age) >= 25\n",
    "GROUP BY id;\n",
    "```"
   ]
  },
  {
   "cell_type": "markdown",
   "metadata": {},
   "source": []
  }
 ],
 "metadata": {
  "kernelspec": {
   "display_name": "Python 3",
   "language": "python",
   "name": "python3"
  },
  "language_info": {
   "codemirror_mode": {
    "name": "ipython",
    "version": 3
   },
   "file_extension": ".py",
   "mimetype": "text/x-python",
   "name": "python",
   "nbconvert_exporter": "python",
   "pygments_lexer": "ipython3",
   "version": "3.9.6"
  },
  "orig_nbformat": 4
 },
 "nbformat": 4,
 "nbformat_minor": 2
}
