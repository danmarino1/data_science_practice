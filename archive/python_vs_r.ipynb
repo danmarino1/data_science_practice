{
 "cells": [
  {
   "cell_type": "code",
   "execution_count": 1,
   "metadata": {},
   "outputs": [
    {
     "data": {
      "text/html": [
       "<div>\n",
       "<style scoped>\n",
       "    .dataframe tbody tr th:only-of-type {\n",
       "        vertical-align: middle;\n",
       "    }\n",
       "\n",
       "    .dataframe tbody tr th {\n",
       "        vertical-align: top;\n",
       "    }\n",
       "\n",
       "    .dataframe thead th {\n",
       "        text-align: right;\n",
       "    }\n",
       "</style>\n",
       "<table border=\"1\" class=\"dataframe\">\n",
       "  <thead>\n",
       "    <tr style=\"text-align: right;\">\n",
       "      <th></th>\n",
       "      <th>title</th>\n",
       "      <th>company</th>\n",
       "      <th>description</th>\n",
       "      <th>onsite_remote</th>\n",
       "      <th>salary</th>\n",
       "      <th>location</th>\n",
       "      <th>criteria</th>\n",
       "      <th>posted_date</th>\n",
       "      <th>link</th>\n",
       "    </tr>\n",
       "  </thead>\n",
       "  <tbody>\n",
       "    <tr>\n",
       "      <th>0</th>\n",
       "      <td>Data Analyst - Recent Graduate</td>\n",
       "      <td>PayPal</td>\n",
       "      <td>At PayPal (NASDAQ: PYPL), we believe that ever...</td>\n",
       "      <td>onsite</td>\n",
       "      <td>NaN</td>\n",
       "      <td>Buffalo-Niagara Falls Area</td>\n",
       "      <td>[{'Seniority level': 'Not Applicable'}, {'Empl...</td>\n",
       "      <td>2022-11-22</td>\n",
       "      <td>https://www.linkedin.com/jobs/view/data-analys...</td>\n",
       "    </tr>\n",
       "    <tr>\n",
       "      <th>1</th>\n",
       "      <td>Data Analyst - Recent Graduate</td>\n",
       "      <td>PayPal</td>\n",
       "      <td>At PayPal (NASDAQ: PYPL), we believe that ever...</td>\n",
       "      <td>onsite</td>\n",
       "      <td>NaN</td>\n",
       "      <td>San Jose, CA</td>\n",
       "      <td>[{'Seniority level': 'Not Applicable'}, {'Empl...</td>\n",
       "      <td>2022-11-22</td>\n",
       "      <td>https://www.linkedin.com/jobs/view/data-analys...</td>\n",
       "    </tr>\n",
       "    <tr>\n",
       "      <th>2</th>\n",
       "      <td>Data Analyst</td>\n",
       "      <td>PayPal</td>\n",
       "      <td>At PayPal (NASDAQ: PYPL), we believe that ever...</td>\n",
       "      <td>onsite</td>\n",
       "      <td>NaN</td>\n",
       "      <td>Texas, United States</td>\n",
       "      <td>[{'Seniority level': 'Not Applicable'}, {'Empl...</td>\n",
       "      <td>2022-11-17</td>\n",
       "      <td>https://www.linkedin.com/jobs/view/data-analys...</td>\n",
       "    </tr>\n",
       "    <tr>\n",
       "      <th>3</th>\n",
       "      <td>Data Analyst</td>\n",
       "      <td>PayPal</td>\n",
       "      <td>At PayPal (NASDAQ: PYPL), we believe that ever...</td>\n",
       "      <td>onsite</td>\n",
       "      <td>NaN</td>\n",
       "      <td>Illinois, United States</td>\n",
       "      <td>[{'Seniority level': 'Not Applicable'}, {'Empl...</td>\n",
       "      <td>2022-11-17</td>\n",
       "      <td>https://www.linkedin.com/jobs/view/data-analys...</td>\n",
       "    </tr>\n",
       "    <tr>\n",
       "      <th>4</th>\n",
       "      <td>Entry-Level Data Analyst</td>\n",
       "      <td>The Federal Savings Bank</td>\n",
       "      <td>The Federal Savings Bank, a national bank and ...</td>\n",
       "      <td>onsite</td>\n",
       "      <td>NaN</td>\n",
       "      <td>Chicago, IL</td>\n",
       "      <td>[{'Seniority level': 'Entry level'}, {'Employm...</td>\n",
       "      <td>2022-11-17</td>\n",
       "      <td>https://www.linkedin.com/jobs/view/entry-level...</td>\n",
       "    </tr>\n",
       "  </tbody>\n",
       "</table>\n",
       "</div>"
      ],
      "text/plain": [
       "                            title                   company  \\\n",
       "0  Data Analyst - Recent Graduate                    PayPal   \n",
       "1  Data Analyst - Recent Graduate                    PayPal   \n",
       "2                    Data Analyst                    PayPal   \n",
       "3                    Data Analyst                    PayPal   \n",
       "4        Entry-Level Data Analyst  The Federal Savings Bank   \n",
       "\n",
       "                                         description onsite_remote salary  \\\n",
       "0  At PayPal (NASDAQ: PYPL), we believe that ever...        onsite    NaN   \n",
       "1  At PayPal (NASDAQ: PYPL), we believe that ever...        onsite    NaN   \n",
       "2  At PayPal (NASDAQ: PYPL), we believe that ever...        onsite    NaN   \n",
       "3  At PayPal (NASDAQ: PYPL), we believe that ever...        onsite    NaN   \n",
       "4  The Federal Savings Bank, a national bank and ...        onsite    NaN   \n",
       "\n",
       "                     location  \\\n",
       "0  Buffalo-Niagara Falls Area   \n",
       "1                San Jose, CA   \n",
       "2        Texas, United States   \n",
       "3     Illinois, United States   \n",
       "4                 Chicago, IL   \n",
       "\n",
       "                                            criteria posted_date  \\\n",
       "0  [{'Seniority level': 'Not Applicable'}, {'Empl...  2022-11-22   \n",
       "1  [{'Seniority level': 'Not Applicable'}, {'Empl...  2022-11-22   \n",
       "2  [{'Seniority level': 'Not Applicable'}, {'Empl...  2022-11-17   \n",
       "3  [{'Seniority level': 'Not Applicable'}, {'Empl...  2022-11-17   \n",
       "4  [{'Seniority level': 'Entry level'}, {'Employm...  2022-11-17   \n",
       "\n",
       "                                                link  \n",
       "0  https://www.linkedin.com/jobs/view/data-analys...  \n",
       "1  https://www.linkedin.com/jobs/view/data-analys...  \n",
       "2  https://www.linkedin.com/jobs/view/data-analys...  \n",
       "3  https://www.linkedin.com/jobs/view/data-analys...  \n",
       "4  https://www.linkedin.com/jobs/view/entry-level...  "
      ]
     },
     "execution_count": 1,
     "metadata": {},
     "output_type": "execute_result"
    }
   ],
   "source": [
    "import pandas as pd\n",
    "\n",
    "jobs = pd.read_csv(\"linkedin-jobs-usa.csv\")\n",
    "jobs.head()"
   ]
  },
  {
   "cell_type": "code",
   "execution_count": 2,
   "metadata": {},
   "outputs": [
    {
     "name": "stdout",
     "output_type": "stream",
     "text": [
      "<class 'pandas.core.frame.DataFrame'>\n",
      "RangeIndex: 2845 entries, 0 to 2844\n",
      "Data columns (total 9 columns):\n",
      " #   Column         Non-Null Count  Dtype \n",
      "---  ------         --------------  ----- \n",
      " 0   title          2845 non-null   object\n",
      " 1   company        2845 non-null   object\n",
      " 2   description    2845 non-null   object\n",
      " 3   onsite_remote  2845 non-null   object\n",
      " 4   salary         929 non-null    object\n",
      " 5   location       2845 non-null   object\n",
      " 6   criteria       2845 non-null   object\n",
      " 7   posted_date    2845 non-null   object\n",
      " 8   link           2845 non-null   object\n",
      "dtypes: object(9)\n",
      "memory usage: 200.2+ KB\n"
     ]
    }
   ],
   "source": [
    "jobs.info()"
   ]
  },
  {
   "cell_type": "code",
   "execution_count": 3,
   "metadata": {},
   "outputs": [
    {
     "data": {
      "text/plain": [
       "{'python': 1201, 'r': 1669}"
      ]
     },
     "execution_count": 3,
     "metadata": {},
     "output_type": "execute_result"
    }
   ],
   "source": [
    "# Convert the descriptions to lowercase\n",
    "jobs['description'] = jobs['description'].str.lower()\n",
    "\n",
    "# Define the tools we're looking for\n",
    "tools = [\"python\", \" r \", \"rstudio\", \"posit\"]\n",
    "\n",
    "# Create columns indicating whether each tool is mentioned in the description\n",
    "for tool in tools:\n",
    "    jobs[tool] = jobs['description'].str.contains(tool)\n",
    "\n",
    "# Combine the R-related columns into one\n",
    "jobs['r_combined'] = jobs[[' r ', 'rstudio', 'posit']].any(axis=1)\n",
    "\n",
    "# Count the mentions\n",
    "counts = {\n",
    "    'python': jobs['python'].sum(),\n",
    "    'r': jobs['r_combined'].sum()\n",
    "}\n",
    "\n",
    "counts\n"
   ]
  },
  {
   "cell_type": "code",
   "execution_count": 4,
   "metadata": {},
   "outputs": [
    {
     "data": {
      "text/plain": [
       "{'python': 1201, 'r': 478}"
      ]
     },
     "execution_count": 4,
     "metadata": {},
     "output_type": "execute_result"
    }
   ],
   "source": [
    "# Count the mentions of Python and R without considering RStudio and Posit\n",
    "counts = {\n",
    "    'python': jobs['python'].sum(),\n",
    "    'r': jobs[' r '].sum()\n",
    "}\n",
    "\n",
    "counts\n"
   ]
  },
  {
   "cell_type": "code",
   "execution_count": 5,
   "metadata": {},
   "outputs": [
    {
     "data": {
      "text/html": [
       "<div>\n",
       "<style scoped>\n",
       "    .dataframe tbody tr th:only-of-type {\n",
       "        vertical-align: middle;\n",
       "    }\n",
       "\n",
       "    .dataframe tbody tr th {\n",
       "        vertical-align: top;\n",
       "    }\n",
       "\n",
       "    .dataframe thead th {\n",
       "        text-align: right;\n",
       "    }\n",
       "</style>\n",
       "<table border=\"1\" class=\"dataframe\">\n",
       "  <thead>\n",
       "    <tr style=\"text-align: right;\">\n",
       "      <th></th>\n",
       "      <th>title</th>\n",
       "      <th>company</th>\n",
       "      <th>description</th>\n",
       "      <th>onsite_remote</th>\n",
       "      <th>salary</th>\n",
       "      <th>location</th>\n",
       "      <th>criteria</th>\n",
       "      <th>posted_date</th>\n",
       "      <th>link</th>\n",
       "      <th>python</th>\n",
       "      <th>r</th>\n",
       "      <th>rstudio</th>\n",
       "      <th>posit</th>\n",
       "      <th>r_combined</th>\n",
       "    </tr>\n",
       "  </thead>\n",
       "  <tbody>\n",
       "    <tr>\n",
       "      <th>0</th>\n",
       "      <td>Data Analyst - Recent Graduate</td>\n",
       "      <td>PayPal</td>\n",
       "      <td>at paypal (nasdaq: pypl), we believe that ever...</td>\n",
       "      <td>onsite</td>\n",
       "      <td>NaN</td>\n",
       "      <td>Buffalo-Niagara Falls Area</td>\n",
       "      <td>[{'Seniority level': 'Not Applicable'}, {'Empl...</td>\n",
       "      <td>2022-11-22</td>\n",
       "      <td>https://www.linkedin.com/jobs/view/data-analys...</td>\n",
       "      <td>True</td>\n",
       "      <td>False</td>\n",
       "      <td>False</td>\n",
       "      <td>True</td>\n",
       "      <td>True</td>\n",
       "    </tr>\n",
       "    <tr>\n",
       "      <th>1</th>\n",
       "      <td>Data Analyst - Recent Graduate</td>\n",
       "      <td>PayPal</td>\n",
       "      <td>at paypal (nasdaq: pypl), we believe that ever...</td>\n",
       "      <td>onsite</td>\n",
       "      <td>NaN</td>\n",
       "      <td>San Jose, CA</td>\n",
       "      <td>[{'Seniority level': 'Not Applicable'}, {'Empl...</td>\n",
       "      <td>2022-11-22</td>\n",
       "      <td>https://www.linkedin.com/jobs/view/data-analys...</td>\n",
       "      <td>True</td>\n",
       "      <td>False</td>\n",
       "      <td>False</td>\n",
       "      <td>True</td>\n",
       "      <td>True</td>\n",
       "    </tr>\n",
       "    <tr>\n",
       "      <th>2</th>\n",
       "      <td>Data Analyst</td>\n",
       "      <td>PayPal</td>\n",
       "      <td>at paypal (nasdaq: pypl), we believe that ever...</td>\n",
       "      <td>onsite</td>\n",
       "      <td>NaN</td>\n",
       "      <td>Texas, United States</td>\n",
       "      <td>[{'Seniority level': 'Not Applicable'}, {'Empl...</td>\n",
       "      <td>2022-11-17</td>\n",
       "      <td>https://www.linkedin.com/jobs/view/data-analys...</td>\n",
       "      <td>True</td>\n",
       "      <td>True</td>\n",
       "      <td>False</td>\n",
       "      <td>False</td>\n",
       "      <td>True</td>\n",
       "    </tr>\n",
       "    <tr>\n",
       "      <th>3</th>\n",
       "      <td>Data Analyst</td>\n",
       "      <td>PayPal</td>\n",
       "      <td>at paypal (nasdaq: pypl), we believe that ever...</td>\n",
       "      <td>onsite</td>\n",
       "      <td>NaN</td>\n",
       "      <td>Illinois, United States</td>\n",
       "      <td>[{'Seniority level': 'Not Applicable'}, {'Empl...</td>\n",
       "      <td>2022-11-17</td>\n",
       "      <td>https://www.linkedin.com/jobs/view/data-analys...</td>\n",
       "      <td>True</td>\n",
       "      <td>True</td>\n",
       "      <td>False</td>\n",
       "      <td>False</td>\n",
       "      <td>True</td>\n",
       "    </tr>\n",
       "    <tr>\n",
       "      <th>4</th>\n",
       "      <td>Entry-Level Data Analyst</td>\n",
       "      <td>The Federal Savings Bank</td>\n",
       "      <td>the federal savings bank, a national bank and ...</td>\n",
       "      <td>onsite</td>\n",
       "      <td>NaN</td>\n",
       "      <td>Chicago, IL</td>\n",
       "      <td>[{'Seniority level': 'Entry level'}, {'Employm...</td>\n",
       "      <td>2022-11-17</td>\n",
       "      <td>https://www.linkedin.com/jobs/view/entry-level...</td>\n",
       "      <td>False</td>\n",
       "      <td>True</td>\n",
       "      <td>False</td>\n",
       "      <td>True</td>\n",
       "      <td>True</td>\n",
       "    </tr>\n",
       "    <tr>\n",
       "      <th>...</th>\n",
       "      <td>...</td>\n",
       "      <td>...</td>\n",
       "      <td>...</td>\n",
       "      <td>...</td>\n",
       "      <td>...</td>\n",
       "      <td>...</td>\n",
       "      <td>...</td>\n",
       "      <td>...</td>\n",
       "      <td>...</td>\n",
       "      <td>...</td>\n",
       "      <td>...</td>\n",
       "      <td>...</td>\n",
       "      <td>...</td>\n",
       "      <td>...</td>\n",
       "    </tr>\n",
       "    <tr>\n",
       "      <th>2840</th>\n",
       "      <td>Junior Data Analyst</td>\n",
       "      <td>Iris Software Inc.</td>\n",
       "      <td>iris's client, one of the world's largest fina...</td>\n",
       "      <td>hybrid</td>\n",
       "      <td>NaN</td>\n",
       "      <td>Texas, United States</td>\n",
       "      <td>[{'Seniority level': 'Mid-Senior level'}, {'Em...</td>\n",
       "      <td>2022-10-21</td>\n",
       "      <td>https://www.linkedin.com/jobs/view/junior-data...</td>\n",
       "      <td>False</td>\n",
       "      <td>False</td>\n",
       "      <td>False</td>\n",
       "      <td>False</td>\n",
       "      <td>False</td>\n",
       "    </tr>\n",
       "    <tr>\n",
       "      <th>2841</th>\n",
       "      <td>Data Analyst (SQL)</td>\n",
       "      <td>Marwood Group</td>\n",
       "      <td>the marwood group (marwood) is a leading healt...</td>\n",
       "      <td>hybrid</td>\n",
       "      <td>$75,000.00\\r\\n            -\\r\\n            $95...</td>\n",
       "      <td>New York City Metropolitan Area</td>\n",
       "      <td>[{'Seniority level': 'Mid-Senior level'}, {'Em...</td>\n",
       "      <td>2022-10-26</td>\n",
       "      <td>https://www.linkedin.com/jobs/view/data-analys...</td>\n",
       "      <td>True</td>\n",
       "      <td>False</td>\n",
       "      <td>False</td>\n",
       "      <td>True</td>\n",
       "      <td>True</td>\n",
       "    </tr>\n",
       "    <tr>\n",
       "      <th>2842</th>\n",
       "      <td>Data Analyst</td>\n",
       "      <td>SmartSense by Digi</td>\n",
       "      <td>join a high-performing, tight-knit team at a f...</td>\n",
       "      <td>hybrid</td>\n",
       "      <td>NaN</td>\n",
       "      <td>Mishawaka, IN</td>\n",
       "      <td>[{'Seniority level': 'Associate'}, {'Employmen...</td>\n",
       "      <td>2022-11-17</td>\n",
       "      <td>https://www.linkedin.com/jobs/view/data-analys...</td>\n",
       "      <td>True</td>\n",
       "      <td>False</td>\n",
       "      <td>False</td>\n",
       "      <td>False</td>\n",
       "      <td>False</td>\n",
       "    </tr>\n",
       "    <tr>\n",
       "      <th>2843</th>\n",
       "      <td>Data Analyst</td>\n",
       "      <td>Synergy Search</td>\n",
       "      <td>nashville (berry hill) based company looking t...</td>\n",
       "      <td>hybrid</td>\n",
       "      <td>$85,000.00\\r\\n            -\\r\\n            $95...</td>\n",
       "      <td>Nashville Metropolitan Area</td>\n",
       "      <td>[{'Seniority level': 'Not Applicable'}, {'Empl...</td>\n",
       "      <td>2022-11-14</td>\n",
       "      <td>https://www.linkedin.com/jobs/view/data-analys...</td>\n",
       "      <td>False</td>\n",
       "      <td>False</td>\n",
       "      <td>False</td>\n",
       "      <td>True</td>\n",
       "      <td>True</td>\n",
       "    </tr>\n",
       "    <tr>\n",
       "      <th>2844</th>\n",
       "      <td>Data Analyst</td>\n",
       "      <td>Insight Global</td>\n",
       "      <td>overview - minimum 5 years in a quantitative d...</td>\n",
       "      <td>hybrid</td>\n",
       "      <td>$130,000.00\\r\\n            -\\r\\n            $1...</td>\n",
       "      <td>Burbank, CA</td>\n",
       "      <td>[{'Seniority level': 'Mid-Senior level'}, {'Em...</td>\n",
       "      <td>2022-11-14</td>\n",
       "      <td>https://www.linkedin.com/jobs/view/data-analys...</td>\n",
       "      <td>True</td>\n",
       "      <td>False</td>\n",
       "      <td>False</td>\n",
       "      <td>False</td>\n",
       "      <td>False</td>\n",
       "    </tr>\n",
       "  </tbody>\n",
       "</table>\n",
       "<p>2845 rows × 14 columns</p>\n",
       "</div>"
      ],
      "text/plain": [
       "                               title                   company  \\\n",
       "0     Data Analyst - Recent Graduate                    PayPal   \n",
       "1     Data Analyst - Recent Graduate                    PayPal   \n",
       "2                       Data Analyst                    PayPal   \n",
       "3                       Data Analyst                    PayPal   \n",
       "4           Entry-Level Data Analyst  The Federal Savings Bank   \n",
       "...                              ...                       ...   \n",
       "2840             Junior Data Analyst        Iris Software Inc.   \n",
       "2841              Data Analyst (SQL)             Marwood Group   \n",
       "2842                    Data Analyst        SmartSense by Digi   \n",
       "2843                    Data Analyst            Synergy Search   \n",
       "2844                    Data Analyst            Insight Global   \n",
       "\n",
       "                                            description onsite_remote  \\\n",
       "0     at paypal (nasdaq: pypl), we believe that ever...        onsite   \n",
       "1     at paypal (nasdaq: pypl), we believe that ever...        onsite   \n",
       "2     at paypal (nasdaq: pypl), we believe that ever...        onsite   \n",
       "3     at paypal (nasdaq: pypl), we believe that ever...        onsite   \n",
       "4     the federal savings bank, a national bank and ...        onsite   \n",
       "...                                                 ...           ...   \n",
       "2840  iris's client, one of the world's largest fina...        hybrid   \n",
       "2841  the marwood group (marwood) is a leading healt...        hybrid   \n",
       "2842  join a high-performing, tight-knit team at a f...        hybrid   \n",
       "2843  nashville (berry hill) based company looking t...        hybrid   \n",
       "2844  overview - minimum 5 years in a quantitative d...        hybrid   \n",
       "\n",
       "                                                 salary  \\\n",
       "0                                                   NaN   \n",
       "1                                                   NaN   \n",
       "2                                                   NaN   \n",
       "3                                                   NaN   \n",
       "4                                                   NaN   \n",
       "...                                                 ...   \n",
       "2840                                                NaN   \n",
       "2841  $75,000.00\\r\\n            -\\r\\n            $95...   \n",
       "2842                                                NaN   \n",
       "2843  $85,000.00\\r\\n            -\\r\\n            $95...   \n",
       "2844  $130,000.00\\r\\n            -\\r\\n            $1...   \n",
       "\n",
       "                             location  \\\n",
       "0          Buffalo-Niagara Falls Area   \n",
       "1                        San Jose, CA   \n",
       "2                Texas, United States   \n",
       "3             Illinois, United States   \n",
       "4                         Chicago, IL   \n",
       "...                               ...   \n",
       "2840             Texas, United States   \n",
       "2841  New York City Metropolitan Area   \n",
       "2842                    Mishawaka, IN   \n",
       "2843      Nashville Metropolitan Area   \n",
       "2844                      Burbank, CA   \n",
       "\n",
       "                                               criteria posted_date  \\\n",
       "0     [{'Seniority level': 'Not Applicable'}, {'Empl...  2022-11-22   \n",
       "1     [{'Seniority level': 'Not Applicable'}, {'Empl...  2022-11-22   \n",
       "2     [{'Seniority level': 'Not Applicable'}, {'Empl...  2022-11-17   \n",
       "3     [{'Seniority level': 'Not Applicable'}, {'Empl...  2022-11-17   \n",
       "4     [{'Seniority level': 'Entry level'}, {'Employm...  2022-11-17   \n",
       "...                                                 ...         ...   \n",
       "2840  [{'Seniority level': 'Mid-Senior level'}, {'Em...  2022-10-21   \n",
       "2841  [{'Seniority level': 'Mid-Senior level'}, {'Em...  2022-10-26   \n",
       "2842  [{'Seniority level': 'Associate'}, {'Employmen...  2022-11-17   \n",
       "2843  [{'Seniority level': 'Not Applicable'}, {'Empl...  2022-11-14   \n",
       "2844  [{'Seniority level': 'Mid-Senior level'}, {'Em...  2022-11-14   \n",
       "\n",
       "                                                   link  python     r   \\\n",
       "0     https://www.linkedin.com/jobs/view/data-analys...    True  False   \n",
       "1     https://www.linkedin.com/jobs/view/data-analys...    True  False   \n",
       "2     https://www.linkedin.com/jobs/view/data-analys...    True   True   \n",
       "3     https://www.linkedin.com/jobs/view/data-analys...    True   True   \n",
       "4     https://www.linkedin.com/jobs/view/entry-level...   False   True   \n",
       "...                                                 ...     ...    ...   \n",
       "2840  https://www.linkedin.com/jobs/view/junior-data...   False  False   \n",
       "2841  https://www.linkedin.com/jobs/view/data-analys...    True  False   \n",
       "2842  https://www.linkedin.com/jobs/view/data-analys...    True  False   \n",
       "2843  https://www.linkedin.com/jobs/view/data-analys...   False  False   \n",
       "2844  https://www.linkedin.com/jobs/view/data-analys...    True  False   \n",
       "\n",
       "      rstudio  posit  r_combined  \n",
       "0       False   True        True  \n",
       "1       False   True        True  \n",
       "2       False  False        True  \n",
       "3       False  False        True  \n",
       "4       False   True        True  \n",
       "...       ...    ...         ...  \n",
       "2840    False  False       False  \n",
       "2841    False   True        True  \n",
       "2842    False  False       False  \n",
       "2843    False   True        True  \n",
       "2844    False  False       False  \n",
       "\n",
       "[2845 rows x 14 columns]"
      ]
     },
     "execution_count": 5,
     "metadata": {},
     "output_type": "execute_result"
    }
   ],
   "source": [
    "jobs"
   ]
  },
  {
   "cell_type": "code",
   "execution_count": 6,
   "metadata": {},
   "outputs": [
    {
     "data": {
      "text/plain": [
       "{'python': 1201, 'r': 478, 'rstudio': 0, 'posit': 1307}"
      ]
     },
     "execution_count": 6,
     "metadata": {},
     "output_type": "execute_result"
    }
   ],
   "source": [
    "# Count the mentions of Python, R, RStudio, and Posit separately\n",
    "counts_separate = {\n",
    "    'python': jobs['python'].sum(),\n",
    "    'r': jobs[' r '].sum(),\n",
    "    'rstudio': jobs['rstudio'].sum(),\n",
    "    'posit': jobs['posit'].sum()\n",
    "}\n",
    "\n",
    "counts_separate\n"
   ]
  },
  {
   "cell_type": "code",
   "execution_count": 7,
   "metadata": {},
   "outputs": [
    {
     "data": {
      "text/plain": [
       "{'Python': 1201,\n",
       " 'R': 478,\n",
       " 'RStudio': 0,\n",
       " 'Posit': 1307,\n",
       " 'Excel': 1528,\n",
       " 'Google Sheets': 82,\n",
       " 'SQL': 2214,\n",
       " 'MySQL': 84,\n",
       " 'PostgreSQL': 71,\n",
       " 'Tableau': 1071,\n",
       " 'Looker': 223}"
      ]
     },
     "execution_count": 7,
     "metadata": {},
     "output_type": "execute_result"
    }
   ],
   "source": [
    "# Define the additional tools we're looking for\n",
    "additional_tools = [\"excel\", \"google sheets\", \"sql\", 'mysql', 'postgressql', 'postgresql', 'tableau', 'looker']\n",
    "\n",
    "# Create columns indicating whether each tool is mentioned in the description\n",
    "for tool in additional_tools:\n",
    "    jobs[tool] = jobs['description'].str.contains(tool)\n",
    "\n",
    "# Count the mentions of all the tools separately\n",
    "counts_all = {\n",
    "    'Python': jobs['python'].sum(),\n",
    "    'R': jobs[' r '].sum(),\n",
    "    'RStudio': jobs['rstudio'].sum(),\n",
    "    'Posit': jobs['posit'].sum(),\n",
    "    'Excel': jobs['excel'].sum(),\n",
    "    'Google Sheets': jobs['google sheets'].sum(),\n",
    "    'SQL': jobs['sql'].sum(),\n",
    "    'MySQL': jobs['mysql'].sum(), \n",
    "    'PostgreSQL': jobs['postgresql'].sum(),\n",
    "    'Tableau': jobs['tableau'].sum(),\n",
    "    'Looker': jobs['looker'].sum()\n",
    "}\n",
    "\n",
    "counts_all\n"
   ]
  },
  {
   "cell_type": "code",
   "execution_count": 8,
   "metadata": {},
   "outputs": [
    {
     "data": {
      "text/plain": [
       "(2845, 22)"
      ]
     },
     "execution_count": 8,
     "metadata": {},
     "output_type": "execute_result"
    }
   ],
   "source": [
    "jobs.shape"
   ]
  },
  {
   "cell_type": "code",
   "execution_count": 9,
   "metadata": {},
   "outputs": [],
   "source": [
    "jobs.posted_date = jobs.posted_date.astype('datetime64[ns]')"
   ]
  },
  {
   "cell_type": "code",
   "execution_count": 10,
   "metadata": {},
   "outputs": [
    {
     "data": {
      "application/vnd.plotly.v1+json": {
       "config": {
        "plotlyServerURL": "https://plot.ly"
       },
       "data": [
        {
         "marker": {
          "color": "#4285f4"
         },
         "text": [
          "1201",
          "478",
          "0",
          "1307",
          "1528",
          "82",
          "2214",
          "84",
          "71",
          "1071",
          "223"
         ],
         "textposition": "auto",
         "type": "bar",
         "x": [
          "Python",
          "R",
          "RStudio",
          "Posit",
          "Excel",
          "Google Sheets",
          "SQL",
          "MySQL",
          "PostgreSQL",
          "Tableau",
          "Looker"
         ],
         "y": [
          1201,
          478,
          0,
          1307,
          1528,
          82,
          2214,
          84,
          71,
          1071,
          223
         ]
        }
       ],
       "layout": {
        "template": {
         "data": {
          "bar": [
           {
            "error_x": {
             "color": "#2a3f5f"
            },
            "error_y": {
             "color": "#2a3f5f"
            },
            "marker": {
             "line": {
              "color": "#E5ECF6",
              "width": 0.5
             },
             "pattern": {
              "fillmode": "overlay",
              "size": 10,
              "solidity": 0.2
             }
            },
            "type": "bar"
           }
          ],
          "barpolar": [
           {
            "marker": {
             "line": {
              "color": "#E5ECF6",
              "width": 0.5
             },
             "pattern": {
              "fillmode": "overlay",
              "size": 10,
              "solidity": 0.2
             }
            },
            "type": "barpolar"
           }
          ],
          "carpet": [
           {
            "aaxis": {
             "endlinecolor": "#2a3f5f",
             "gridcolor": "white",
             "linecolor": "white",
             "minorgridcolor": "white",
             "startlinecolor": "#2a3f5f"
            },
            "baxis": {
             "endlinecolor": "#2a3f5f",
             "gridcolor": "white",
             "linecolor": "white",
             "minorgridcolor": "white",
             "startlinecolor": "#2a3f5f"
            },
            "type": "carpet"
           }
          ],
          "choropleth": [
           {
            "colorbar": {
             "outlinewidth": 0,
             "ticks": ""
            },
            "type": "choropleth"
           }
          ],
          "contour": [
           {
            "colorbar": {
             "outlinewidth": 0,
             "ticks": ""
            },
            "colorscale": [
             [
              0,
              "#0d0887"
             ],
             [
              0.1111111111111111,
              "#46039f"
             ],
             [
              0.2222222222222222,
              "#7201a8"
             ],
             [
              0.3333333333333333,
              "#9c179e"
             ],
             [
              0.4444444444444444,
              "#bd3786"
             ],
             [
              0.5555555555555556,
              "#d8576b"
             ],
             [
              0.6666666666666666,
              "#ed7953"
             ],
             [
              0.7777777777777778,
              "#fb9f3a"
             ],
             [
              0.8888888888888888,
              "#fdca26"
             ],
             [
              1,
              "#f0f921"
             ]
            ],
            "type": "contour"
           }
          ],
          "contourcarpet": [
           {
            "colorbar": {
             "outlinewidth": 0,
             "ticks": ""
            },
            "type": "contourcarpet"
           }
          ],
          "heatmap": [
           {
            "colorbar": {
             "outlinewidth": 0,
             "ticks": ""
            },
            "colorscale": [
             [
              0,
              "#0d0887"
             ],
             [
              0.1111111111111111,
              "#46039f"
             ],
             [
              0.2222222222222222,
              "#7201a8"
             ],
             [
              0.3333333333333333,
              "#9c179e"
             ],
             [
              0.4444444444444444,
              "#bd3786"
             ],
             [
              0.5555555555555556,
              "#d8576b"
             ],
             [
              0.6666666666666666,
              "#ed7953"
             ],
             [
              0.7777777777777778,
              "#fb9f3a"
             ],
             [
              0.8888888888888888,
              "#fdca26"
             ],
             [
              1,
              "#f0f921"
             ]
            ],
            "type": "heatmap"
           }
          ],
          "heatmapgl": [
           {
            "colorbar": {
             "outlinewidth": 0,
             "ticks": ""
            },
            "colorscale": [
             [
              0,
              "#0d0887"
             ],
             [
              0.1111111111111111,
              "#46039f"
             ],
             [
              0.2222222222222222,
              "#7201a8"
             ],
             [
              0.3333333333333333,
              "#9c179e"
             ],
             [
              0.4444444444444444,
              "#bd3786"
             ],
             [
              0.5555555555555556,
              "#d8576b"
             ],
             [
              0.6666666666666666,
              "#ed7953"
             ],
             [
              0.7777777777777778,
              "#fb9f3a"
             ],
             [
              0.8888888888888888,
              "#fdca26"
             ],
             [
              1,
              "#f0f921"
             ]
            ],
            "type": "heatmapgl"
           }
          ],
          "histogram": [
           {
            "marker": {
             "pattern": {
              "fillmode": "overlay",
              "size": 10,
              "solidity": 0.2
             }
            },
            "type": "histogram"
           }
          ],
          "histogram2d": [
           {
            "colorbar": {
             "outlinewidth": 0,
             "ticks": ""
            },
            "colorscale": [
             [
              0,
              "#0d0887"
             ],
             [
              0.1111111111111111,
              "#46039f"
             ],
             [
              0.2222222222222222,
              "#7201a8"
             ],
             [
              0.3333333333333333,
              "#9c179e"
             ],
             [
              0.4444444444444444,
              "#bd3786"
             ],
             [
              0.5555555555555556,
              "#d8576b"
             ],
             [
              0.6666666666666666,
              "#ed7953"
             ],
             [
              0.7777777777777778,
              "#fb9f3a"
             ],
             [
              0.8888888888888888,
              "#fdca26"
             ],
             [
              1,
              "#f0f921"
             ]
            ],
            "type": "histogram2d"
           }
          ],
          "histogram2dcontour": [
           {
            "colorbar": {
             "outlinewidth": 0,
             "ticks": ""
            },
            "colorscale": [
             [
              0,
              "#0d0887"
             ],
             [
              0.1111111111111111,
              "#46039f"
             ],
             [
              0.2222222222222222,
              "#7201a8"
             ],
             [
              0.3333333333333333,
              "#9c179e"
             ],
             [
              0.4444444444444444,
              "#bd3786"
             ],
             [
              0.5555555555555556,
              "#d8576b"
             ],
             [
              0.6666666666666666,
              "#ed7953"
             ],
             [
              0.7777777777777778,
              "#fb9f3a"
             ],
             [
              0.8888888888888888,
              "#fdca26"
             ],
             [
              1,
              "#f0f921"
             ]
            ],
            "type": "histogram2dcontour"
           }
          ],
          "mesh3d": [
           {
            "colorbar": {
             "outlinewidth": 0,
             "ticks": ""
            },
            "type": "mesh3d"
           }
          ],
          "parcoords": [
           {
            "line": {
             "colorbar": {
              "outlinewidth": 0,
              "ticks": ""
             }
            },
            "type": "parcoords"
           }
          ],
          "pie": [
           {
            "automargin": true,
            "type": "pie"
           }
          ],
          "scatter": [
           {
            "fillpattern": {
             "fillmode": "overlay",
             "size": 10,
             "solidity": 0.2
            },
            "type": "scatter"
           }
          ],
          "scatter3d": [
           {
            "line": {
             "colorbar": {
              "outlinewidth": 0,
              "ticks": ""
             }
            },
            "marker": {
             "colorbar": {
              "outlinewidth": 0,
              "ticks": ""
             }
            },
            "type": "scatter3d"
           }
          ],
          "scattercarpet": [
           {
            "marker": {
             "colorbar": {
              "outlinewidth": 0,
              "ticks": ""
             }
            },
            "type": "scattercarpet"
           }
          ],
          "scattergeo": [
           {
            "marker": {
             "colorbar": {
              "outlinewidth": 0,
              "ticks": ""
             }
            },
            "type": "scattergeo"
           }
          ],
          "scattergl": [
           {
            "marker": {
             "colorbar": {
              "outlinewidth": 0,
              "ticks": ""
             }
            },
            "type": "scattergl"
           }
          ],
          "scattermapbox": [
           {
            "marker": {
             "colorbar": {
              "outlinewidth": 0,
              "ticks": ""
             }
            },
            "type": "scattermapbox"
           }
          ],
          "scatterpolar": [
           {
            "marker": {
             "colorbar": {
              "outlinewidth": 0,
              "ticks": ""
             }
            },
            "type": "scatterpolar"
           }
          ],
          "scatterpolargl": [
           {
            "marker": {
             "colorbar": {
              "outlinewidth": 0,
              "ticks": ""
             }
            },
            "type": "scatterpolargl"
           }
          ],
          "scatterternary": [
           {
            "marker": {
             "colorbar": {
              "outlinewidth": 0,
              "ticks": ""
             }
            },
            "type": "scatterternary"
           }
          ],
          "surface": [
           {
            "colorbar": {
             "outlinewidth": 0,
             "ticks": ""
            },
            "colorscale": [
             [
              0,
              "#0d0887"
             ],
             [
              0.1111111111111111,
              "#46039f"
             ],
             [
              0.2222222222222222,
              "#7201a8"
             ],
             [
              0.3333333333333333,
              "#9c179e"
             ],
             [
              0.4444444444444444,
              "#bd3786"
             ],
             [
              0.5555555555555556,
              "#d8576b"
             ],
             [
              0.6666666666666666,
              "#ed7953"
             ],
             [
              0.7777777777777778,
              "#fb9f3a"
             ],
             [
              0.8888888888888888,
              "#fdca26"
             ],
             [
              1,
              "#f0f921"
             ]
            ],
            "type": "surface"
           }
          ],
          "table": [
           {
            "cells": {
             "fill": {
              "color": "#EBF0F8"
             },
             "line": {
              "color": "white"
             }
            },
            "header": {
             "fill": {
              "color": "#C8D4E3"
             },
             "line": {
              "color": "white"
             }
            },
            "type": "table"
           }
          ]
         },
         "layout": {
          "annotationdefaults": {
           "arrowcolor": "#2a3f5f",
           "arrowhead": 0,
           "arrowwidth": 1
          },
          "autotypenumbers": "strict",
          "coloraxis": {
           "colorbar": {
            "outlinewidth": 0,
            "ticks": ""
           }
          },
          "colorscale": {
           "diverging": [
            [
             0,
             "#8e0152"
            ],
            [
             0.1,
             "#c51b7d"
            ],
            [
             0.2,
             "#de77ae"
            ],
            [
             0.3,
             "#f1b6da"
            ],
            [
             0.4,
             "#fde0ef"
            ],
            [
             0.5,
             "#f7f7f7"
            ],
            [
             0.6,
             "#e6f5d0"
            ],
            [
             0.7,
             "#b8e186"
            ],
            [
             0.8,
             "#7fbc41"
            ],
            [
             0.9,
             "#4d9221"
            ],
            [
             1,
             "#276419"
            ]
           ],
           "sequential": [
            [
             0,
             "#0d0887"
            ],
            [
             0.1111111111111111,
             "#46039f"
            ],
            [
             0.2222222222222222,
             "#7201a8"
            ],
            [
             0.3333333333333333,
             "#9c179e"
            ],
            [
             0.4444444444444444,
             "#bd3786"
            ],
            [
             0.5555555555555556,
             "#d8576b"
            ],
            [
             0.6666666666666666,
             "#ed7953"
            ],
            [
             0.7777777777777778,
             "#fb9f3a"
            ],
            [
             0.8888888888888888,
             "#fdca26"
            ],
            [
             1,
             "#f0f921"
            ]
           ],
           "sequentialminus": [
            [
             0,
             "#0d0887"
            ],
            [
             0.1111111111111111,
             "#46039f"
            ],
            [
             0.2222222222222222,
             "#7201a8"
            ],
            [
             0.3333333333333333,
             "#9c179e"
            ],
            [
             0.4444444444444444,
             "#bd3786"
            ],
            [
             0.5555555555555556,
             "#d8576b"
            ],
            [
             0.6666666666666666,
             "#ed7953"
            ],
            [
             0.7777777777777778,
             "#fb9f3a"
            ],
            [
             0.8888888888888888,
             "#fdca26"
            ],
            [
             1,
             "#f0f921"
            ]
           ]
          },
          "colorway": [
           "#636efa",
           "#EF553B",
           "#00cc96",
           "#ab63fa",
           "#FFA15A",
           "#19d3f3",
           "#FF6692",
           "#B6E880",
           "#FF97FF",
           "#FECB52"
          ],
          "font": {
           "color": "#2a3f5f"
          },
          "geo": {
           "bgcolor": "white",
           "lakecolor": "white",
           "landcolor": "#E5ECF6",
           "showlakes": true,
           "showland": true,
           "subunitcolor": "white"
          },
          "hoverlabel": {
           "align": "left"
          },
          "hovermode": "closest",
          "mapbox": {
           "style": "light"
          },
          "paper_bgcolor": "white",
          "plot_bgcolor": "#E5ECF6",
          "polar": {
           "angularaxis": {
            "gridcolor": "white",
            "linecolor": "white",
            "ticks": ""
           },
           "bgcolor": "#E5ECF6",
           "radialaxis": {
            "gridcolor": "white",
            "linecolor": "white",
            "ticks": ""
           }
          },
          "scene": {
           "xaxis": {
            "backgroundcolor": "#E5ECF6",
            "gridcolor": "white",
            "gridwidth": 2,
            "linecolor": "white",
            "showbackground": true,
            "ticks": "",
            "zerolinecolor": "white"
           },
           "yaxis": {
            "backgroundcolor": "#E5ECF6",
            "gridcolor": "white",
            "gridwidth": 2,
            "linecolor": "white",
            "showbackground": true,
            "ticks": "",
            "zerolinecolor": "white"
           },
           "zaxis": {
            "backgroundcolor": "#E5ECF6",
            "gridcolor": "white",
            "gridwidth": 2,
            "linecolor": "white",
            "showbackground": true,
            "ticks": "",
            "zerolinecolor": "white"
           }
          },
          "shapedefaults": {
           "line": {
            "color": "#2a3f5f"
           }
          },
          "ternary": {
           "aaxis": {
            "gridcolor": "white",
            "linecolor": "white",
            "ticks": ""
           },
           "baxis": {
            "gridcolor": "white",
            "linecolor": "white",
            "ticks": ""
           },
           "bgcolor": "#E5ECF6",
           "caxis": {
            "gridcolor": "white",
            "linecolor": "white",
            "ticks": ""
           }
          },
          "title": {
           "x": 0.05
          },
          "xaxis": {
           "automargin": true,
           "gridcolor": "white",
           "linecolor": "white",
           "ticks": "",
           "title": {
            "standoff": 15
           },
           "zerolinecolor": "white",
           "zerolinewidth": 2
          },
          "yaxis": {
           "automargin": true,
           "gridcolor": "white",
           "linecolor": "white",
           "ticks": "",
           "title": {
            "standoff": 15
           },
           "zerolinecolor": "white",
           "zerolinewidth": 2
          }
         }
        },
        "title": {
         "text": "Number of Job Descriptions Mentioning Each Tool, n=2845 jobs"
        },
        "xaxis": {
         "title": {
          "text": "Tools"
         }
        },
        "yaxis": {
         "title": {
          "text": "Number of Mentions"
         }
        }
       }
      }
     },
     "metadata": {},
     "output_type": "display_data"
    }
   ],
   "source": [
    "import plotly.graph_objects as go\n",
    "\n",
    "# Create a bar chart\n",
    "fig = go.Figure(data=[\n",
    "    go.Bar(\n",
    "        x=list(counts_all.keys()), \n",
    "        y=list(counts_all.values()), \n",
    "        text=list(counts_all.values()),\n",
    "        textposition='auto',\n",
    "        marker_color='#4285f4')\n",
    "])\n",
    "\n",
    "# Set title and labels\n",
    "fig.update_layout(\n",
    "    title_text=f\"Number of Job Descriptions Mentioning Each Tool, n={jobs.shape[0]} jobs\",\n",
    "    xaxis_title=\"Tools\",\n",
    "    yaxis_title=\"Number of Mentions\",\n",
    ")\n",
    "\n",
    "fig.show()\n"
   ]
  },
  {
   "cell_type": "code",
   "execution_count": 23,
   "metadata": {},
   "outputs": [],
   "source": [
    "import re\n",
    "\n",
    "import ast\n",
    "\n",
    "def add_columns(df):\n",
    "    def find_years_experience(description):\n",
    "        # Search for patterns like 'N+ years', '_ to _ years', 'N+ years experience', or a number/range followed by 'year' or 'years of experience'\n",
    "        match = re.search(r'(\\d+\\s*-\\s*\\d+\\s*(?:year|years))|(\\d+\\s*to\\s*\\d+\\s*(?:year|years))|(\\d+-\\d+|\\d+)\\s*(?:year|years)\\s*experience|\\d+\\+', description, re.IGNORECASE)\n",
    "        return match.group() if match else 'Not found'\n",
    "    \n",
    "    def find_type(criteria):\n",
    "        # Try to parse the string into a Python object (list of dictionaries)\n",
    "        try:\n",
    "            criteria_list = ast.literal_eval(criteria)\n",
    "        except (ValueError, SyntaxError):\n",
    "            # If the string can't be parsed, return 'Not found'\n",
    "            return 'Not found'\n",
    "        \n",
    "        # Look for the 'Seniority level' field in the dictionaries\n",
    "        for crit in criteria_list:\n",
    "            if 'Seniority level' in crit:\n",
    "                return crit['Seniority level']\n",
    "        \n",
    "        # If 'Seniority level' wasn't found in any dictionary, return 'Not found'\n",
    "        return 'Not found'\n",
    "\n",
    "    # Apply the functions to the appropriate columns\n",
    "    df['years_experience'] = df['description'].apply(find_years_experience)\n",
    "    df['type'] = df['criteria'].apply(find_type)\n",
    "    \n",
    "    return df\n",
    "\n",
    "jobs = add_columns(jobs)"
   ]
  },
  {
   "cell_type": "code",
   "execution_count": 27,
   "metadata": {},
   "outputs": [
    {
     "data": {
      "text/plain": [
       "type\n",
       "Mid-Senior level    0.300527\n",
       "Not Applicable      0.247803\n",
       "Associate           0.210545\n",
       "Entry level         0.173286\n",
       "Not found           0.067487\n",
       "Executive           0.000351\n",
       "Name: count, dtype: float64"
      ]
     },
     "execution_count": 27,
     "metadata": {},
     "output_type": "execute_result"
    }
   ],
   "source": [
    "jobs.type.value_counts() / jobs.shape[0]"
   ]
  },
  {
   "cell_type": "code",
   "execution_count": 25,
   "metadata": {},
   "outputs": [
    {
     "data": {
      "text/plain": [
       "years_experience\n",
       "Not found     1405\n",
       "2+             357\n",
       "3+             194\n",
       "1-2 year       182\n",
       "4+             153\n",
       "1+             116\n",
       "1 - 2 year     114\n",
       "6+              76\n",
       "1-3 year        62\n",
       "3-5 year        50\n",
       "5+              40\n",
       "2-4 year        39\n",
       "45+             22\n",
       "2 - 4 year      22\n",
       "0-3 year         2\n",
       "4-5 year         2\n",
       "2-3 year         2\n",
       "10+              1\n",
       "3 - 5 year       1\n",
       "0 - 2 year       1\n",
       "2-5 year         1\n",
       "1- 3 year        1\n",
       "8+               1\n",
       "12+              1\n",
       "Name: count, dtype: int64"
      ]
     },
     "execution_count": 25,
     "metadata": {},
     "output_type": "execute_result"
    }
   ],
   "source": [
    "jobs.years_experience.value_counts()"
   ]
  },
  {
   "cell_type": "code",
   "execution_count": null,
   "metadata": {},
   "outputs": [],
   "source": []
  }
 ],
 "metadata": {
  "kernelspec": {
   "display_name": "Python 3",
   "language": "python",
   "name": "python3"
  },
  "language_info": {
   "codemirror_mode": {
    "name": "ipython",
    "version": 3
   },
   "file_extension": ".py",
   "mimetype": "text/x-python",
   "name": "python",
   "nbconvert_exporter": "python",
   "pygments_lexer": "ipython3",
   "version": "3.9.17"
  },
  "orig_nbformat": 4
 },
 "nbformat": 4,
 "nbformat_minor": 2
}
